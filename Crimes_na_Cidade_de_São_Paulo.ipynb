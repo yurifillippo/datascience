{
  "nbformat": 4,
  "nbformat_minor": 0,
  "metadata": {
    "colab": {
      "name": "Crimes_na_Cidade_de_São_Paulo.ipynb",
      "provenance": [],
      "collapsed_sections": [],
      "authorship_tag": "ABX9TyOLiKaN2nxJXrScMQE/Q+Bk",
      "include_colab_link": true
    },
    "kernelspec": {
      "name": "python3",
      "display_name": "Python 3"
    }
  },
  "cells": [
    {
      "cell_type": "markdown",
      "metadata": {
        "id": "view-in-github",
        "colab_type": "text"
      },
      "source": [
        "<a href=\"https://colab.research.google.com/github/yurifillippo/datascience/blob/master/Crimes_na_Cidade_de_S%C3%A3o_Paulo.ipynb\" target=\"_parent\"><img src=\"https://colab.research.google.com/assets/colab-badge.svg\" alt=\"Open In Colab\"/></a>"
      ]
    },
    {
      "cell_type": "markdown",
      "metadata": {
        "id": "mYTWWTrFYsH5",
        "colab_type": "text"
      },
      "source": [
        "# Importando Dataset"
      ]
    },
    {
      "cell_type": "code",
      "metadata": {
        "id": "QYGlWUPeII19",
        "colab_type": "code",
        "colab": {}
      },
      "source": [
        "# instalar wordcloud\n",
        "!pip install wordcloud -q"
      ],
      "execution_count": 0,
      "outputs": []
    },
    {
      "cell_type": "code",
      "metadata": {
        "id": "2aLJkieCYhCK",
        "colab_type": "code",
        "colab": {}
      },
      "source": [
        "#Importando bibliotecas utilizadas\n",
        "import pandas as pd\n",
        "from google.colab import files\n",
        "import io \n",
        "import matplotlib.pyplot as plt\n",
        "import seaborn as sns\n",
        "import numpy as np\n",
        "from PIL import Image\n",
        "from wordcloud import WordCloud, STOPWORDS, ImageColorGenerator"
      ],
      "execution_count": 0,
      "outputs": []
    },
    {
      "cell_type": "code",
      "metadata": {
        "id": "m2szgs88YuiQ",
        "colab_type": "code",
        "outputId": "8c84828d-b50a-440c-de0f-905b362445e1",
        "colab": {
          "resources": {
            "http://localhost:8080/nbextensions/google.colab/files.js": {
              "data": "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",
              "ok": true,
              "headers": [
                [
                  "content-type",
                  "application/javascript"
                ]
              ],
              "status": 200,
              "status_text": ""
            }
          },
          "base_uri": "https://localhost:8080/",
          "height": 74
        }
      },
      "source": [
        "#Importando dataset\n",
        "n = files.upload()"
      ],
      "execution_count": 0,
      "outputs": [
        {
          "output_type": "display_data",
          "data": {
            "text/html": [
              "\n",
              "     <input type=\"file\" id=\"files-3767488f-5812-449a-b03f-abcb51ea9f8c\" name=\"files[]\" multiple disabled />\n",
              "     <output id=\"result-3767488f-5812-449a-b03f-abcb51ea9f8c\">\n",
              "      Upload widget is only available when the cell has been executed in the\n",
              "      current browser session. Please rerun this cell to enable.\n",
              "      </output>\n",
              "      <script src=\"/nbextensions/google.colab/files.js\"></script> "
            ],
            "text/plain": [
              "<IPython.core.display.HTML object>"
            ]
          },
          "metadata": {
            "tags": []
          }
        },
        {
          "output_type": "stream",
          "text": [
            "Saving dataset-limpo.csv to dataset-limpo.csv\n"
          ],
          "name": "stdout"
        }
      ]
    },
    {
      "cell_type": "code",
      "metadata": {
        "id": "7LNm95TxZYiZ",
        "colab_type": "code",
        "colab": {}
      },
      "source": [
        "#definir dataset em uma variável\n",
        "df = pd.read_csv(io.BytesIO(n['dataset-limpo.csv']))"
      ],
      "execution_count": 0,
      "outputs": []
    },
    {
      "cell_type": "markdown",
      "metadata": {
        "id": "PZWO5bqcrjLA",
        "colab_type": "text"
      },
      "source": [
        "# Análise Exploratória"
      ]
    },
    {
      "cell_type": "markdown",
      "metadata": {
        "id": "CHzbdq2MfneO",
        "colab_type": "text"
      },
      "source": [
        "## Verificando quantidade de dados que iremos trabalhar"
      ]
    },
    {
      "cell_type": "code",
      "metadata": {
        "id": "gd1l7RbOZtif",
        "colab_type": "code",
        "outputId": "4afbfcb4-4127-4aed-f4b7-2646fdbeb595",
        "colab": {
          "base_uri": "https://localhost:8080/",
          "height": 51
        }
      },
      "source": [
        "#Analisar quantidade de entradas\n",
        "print(\"Variáveis: {}\".format(df.shape[1]))\n",
        "print(\"Variáveis: {}\".format(df.shape[0]))"
      ],
      "execution_count": 100,
      "outputs": [
        {
          "output_type": "stream",
          "text": [
            "Variáveis: 36\n",
            "Variáveis: 12899\n"
          ],
          "name": "stdout"
        }
      ]
    },
    {
      "cell_type": "markdown",
      "metadata": {
        "id": "u1jXXvuIe6hm",
        "colab_type": "text"
      },
      "source": [
        "## Dicionário de Variáveis"
      ]
    },
    {
      "cell_type": "markdown",
      "metadata": {
        "id": "5HvSeF3NbndV",
        "colab_type": "text"
      },
      "source": [
        "**id** - Número de id gerado para identificar crime\n",
        "\n",
        "**bairro** - Bairro onde ocorreiu o crime\n",
        "\n",
        "**created_at** - Data e hora de input dos dados\n",
        "\n",
        "**descricao** - Descrição do crime\n",
        "\n",
        "**endereco** - Endereço do crime\n",
        "\n",
        "**id.1** - não identificado\n",
        "\n",
        "**ip_address_origin** - origem do endereço ip\n",
        "\n",
        "**latitude** - Coordenada da latitude do local do crime\n",
        "\n",
        "**longitude** - Coordenada da longitude do local do crime\n",
        "\n",
        "**registrou_bo** - Informação de True para registrou B.O e False para não registrou\n",
        "\n",
        "**sexo** - Sexo da vitima\n",
        "\n",
        "**tipo_assalto_id** - Cod. para tipo do assalto\n",
        "\n",
        "**titulo** - Título da ocorrência\n",
        "\n",
        "**uri** - Uri de informações do crime\n",
        "\n",
        "**user_id** - Identificação do usuário\n",
        "\n",
        "**valor_prejuizo** - Valor monetário do prejuizo\n",
        "\n",
        "**Bicicleta** - Valor True para roubo de bicicleta ou Nan para não aplicável\n",
        "\n",
        "**Bolsa ou Mochila** - Valor True para roubo de bolsa ou mochila ou Nan para não aplicável\n",
        "\n",
        "**Carteira** - Valor True para roubo de carteira ou Nan para não aplicável\n",
        "\n",
        "**Cartão de Crédito** - Valor True para roubo de cartão de crédito ou Nan para não aplicável\n",
        "\n",
        "**Celular** - Valor True para roubo de celular ou Nan para não aplicável\n",
        "\n",
        "**Computador** - Valor True para roubo de computador ou Nan para não aplicável\n",
        "\n",
        "**DVD** - Valor True para roubo de DVD ou Nan para não aplicável\n",
        "\n",
        "**Dinheiro** - Valor True para roubo de dinheiro ou Nan para não aplicável\n",
        "\n",
        "**Documentos** - Valor True para roubo de documentos ou Nan para não aplicável\n",
        "\n",
        "**Equipamento de Som** - Valor True para roubo de equipamentos de som ou Nan para não aplicável\n",
        "\n",
        "**Estepe** - Valor True para roubo de estepe ou Nan para não aplicável\n",
        "\n",
        "**MP4 ou Ipod** - Valor True para roubo de MP4 ou Ipod ou Nan para não aplicável\n",
        "\n",
        "**Móveis** - Valor True para roubo de móveios ou Nan para não aplicável\n",
        "\n",
        "**Notebook** - Valor True para roubo de notebook ou Nan para não aplicável\n",
        "\n",
        "**Outros** - Valor True para roubo de outros ou Nan para não aplicável\n",
        "\n",
        "**Relógio** - Valor True para roubo de relógio ou Nan para não aplicável\n",
        "\n",
        "**Som** - Valor True para roubo de som ou Nan para não aplicável\n",
        "\n",
        "**Tablet** - Valor True para roubo de teblat ou Nan para não aplicável\n",
        "\n",
        "**Tv** - Valor True para roubo de TV ou Nan para não aplicável\n",
        "\n",
        "**time** - Data e hora do crime\n"
      ]
    },
    {
      "cell_type": "markdown",
      "metadata": {
        "id": "pMP7TufZfwyc",
        "colab_type": "text"
      },
      "source": [
        "## Analisando primeiras entradas"
      ]
    },
    {
      "cell_type": "code",
      "metadata": {
        "id": "FF_1zvbucxoP",
        "colab_type": "code",
        "outputId": "1591f526-1ad0-468e-d9ee-785c83769409",
        "colab": {
          "base_uri": "https://localhost:8080/",
          "height": 632
        }
      },
      "source": [
        "df.head()"
      ],
      "execution_count": 101,
      "outputs": [
        {
          "output_type": "execute_result",
          "data": {
            "text/html": [
              "<div>\n",
              "<style scoped>\n",
              "    .dataframe tbody tr th:only-of-type {\n",
              "        vertical-align: middle;\n",
              "    }\n",
              "\n",
              "    .dataframe tbody tr th {\n",
              "        vertical-align: top;\n",
              "    }\n",
              "\n",
              "    .dataframe thead th {\n",
              "        text-align: right;\n",
              "    }\n",
              "</style>\n",
              "<table border=\"1\" class=\"dataframe\">\n",
              "  <thead>\n",
              "    <tr style=\"text-align: right;\">\n",
              "      <th></th>\n",
              "      <th>id</th>\n",
              "      <th>bairro</th>\n",
              "      <th>created_at</th>\n",
              "      <th>descricao</th>\n",
              "      <th>endereco</th>\n",
              "      <th>id.1</th>\n",
              "      <th>ip_address_origin</th>\n",
              "      <th>latitude</th>\n",
              "      <th>longitude</th>\n",
              "      <th>registrou_bo</th>\n",
              "      <th>sexo</th>\n",
              "      <th>tipo_assalto_id</th>\n",
              "      <th>titulo</th>\n",
              "      <th>uri</th>\n",
              "      <th>user_id</th>\n",
              "      <th>valor_prejuizo</th>\n",
              "      <th>Bicicleta</th>\n",
              "      <th>Bolsa_ou_Mochila</th>\n",
              "      <th>Carteira</th>\n",
              "      <th>Cartão_de_Crédito</th>\n",
              "      <th>Celular</th>\n",
              "      <th>Computador</th>\n",
              "      <th>DVD</th>\n",
              "      <th>Dinheiro</th>\n",
              "      <th>Documentos</th>\n",
              "      <th>Equipamento_de_Som</th>\n",
              "      <th>Estepe</th>\n",
              "      <th>MP4_ou_Ipod</th>\n",
              "      <th>Móveis</th>\n",
              "      <th>Notebook</th>\n",
              "      <th>Outros</th>\n",
              "      <th>Relógio</th>\n",
              "      <th>Som</th>\n",
              "      <th>Tablet</th>\n",
              "      <th>Tv</th>\n",
              "      <th>time</th>\n",
              "    </tr>\n",
              "  </thead>\n",
              "  <tbody>\n",
              "    <tr>\n",
              "      <th>0</th>\n",
              "      <td>49787</td>\n",
              "      <td>Butantã</td>\n",
              "      <td>2015-06-16 23:34:01.000</td>\n",
              "      <td>5 bandidos, armas, entraram em casa e vasculha...</td>\n",
              "      <td>Avenida Trona Constanzo, 177, Butantã</td>\n",
              "      <td>49787</td>\n",
              "      <td>NaN</td>\n",
              "      <td>-23.580973</td>\n",
              "      <td>-46.719192</td>\n",
              "      <td>True</td>\n",
              "      <td>0</td>\n",
              "      <td>6</td>\n",
              "      <td>Entraram na minha casa e ficaram por 2h30</td>\n",
              "      <td>/denuncias/a71rZe-entraram-na-minha-casa-e-fic...</td>\n",
              "      <td>NaN</td>\n",
              "      <td>60.0</td>\n",
              "      <td>NaN</td>\n",
              "      <td>True</td>\n",
              "      <td>True</td>\n",
              "      <td>NaN</td>\n",
              "      <td>True</td>\n",
              "      <td>NaN</td>\n",
              "      <td>True</td>\n",
              "      <td>True</td>\n",
              "      <td>NaN</td>\n",
              "      <td>True</td>\n",
              "      <td>NaN</td>\n",
              "      <td>True</td>\n",
              "      <td>NaN</td>\n",
              "      <td>True</td>\n",
              "      <td>NaN</td>\n",
              "      <td>NaN</td>\n",
              "      <td>True</td>\n",
              "      <td>True</td>\n",
              "      <td>True</td>\n",
              "      <td>2010-12-20 20:30:00.000</td>\n",
              "    </tr>\n",
              "    <tr>\n",
              "      <th>1</th>\n",
              "      <td>10679</td>\n",
              "      <td>Itaquera</td>\n",
              "      <td>2013-09-11 18:26:31.819</td>\n",
              "      <td>Meu caso foi para o Pequenas Causas, ganhamos ...</td>\n",
              "      <td>Avenida José Pinheiro Borges, 450-876 - Itaque...</td>\n",
              "      <td>10679</td>\n",
              "      <td>187.11.1.51</td>\n",
              "      <td>-23.540105</td>\n",
              "      <td>-46.462872</td>\n",
              "      <td>True</td>\n",
              "      <td>1</td>\n",
              "      <td>1</td>\n",
              "      <td>Rádio do Carro Furtado</td>\n",
              "      <td>/denuncias/z6nRrz-radio-do-carro-furtado</td>\n",
              "      <td>NaN</td>\n",
              "      <td>0.0</td>\n",
              "      <td>NaN</td>\n",
              "      <td>NaN</td>\n",
              "      <td>NaN</td>\n",
              "      <td>NaN</td>\n",
              "      <td>NaN</td>\n",
              "      <td>NaN</td>\n",
              "      <td>NaN</td>\n",
              "      <td>NaN</td>\n",
              "      <td>NaN</td>\n",
              "      <td>NaN</td>\n",
              "      <td>NaN</td>\n",
              "      <td>NaN</td>\n",
              "      <td>NaN</td>\n",
              "      <td>NaN</td>\n",
              "      <td>True</td>\n",
              "      <td>NaN</td>\n",
              "      <td>NaN</td>\n",
              "      <td>NaN</td>\n",
              "      <td>NaN</td>\n",
              "      <td>2012-01-11 14:00:00.000</td>\n",
              "    </tr>\n",
              "    <tr>\n",
              "      <th>2</th>\n",
              "      <td>10682</td>\n",
              "      <td>Itaquera</td>\n",
              "      <td>2013-09-11 18:42:07.858</td>\n",
              "      <td>Meu caso foi para o Pequenas Causas, ganhamos ...</td>\n",
              "      <td>Rua Corínthians - Itaquera - Shopping Metrô It...</td>\n",
              "      <td>10682</td>\n",
              "      <td>189.19.160.82</td>\n",
              "      <td>-23.541765</td>\n",
              "      <td>-46.469562</td>\n",
              "      <td>True</td>\n",
              "      <td>1</td>\n",
              "      <td>1</td>\n",
              "      <td>Rádio do carro furtado no estacionamento PAGO ...</td>\n",
              "      <td>/denuncias/V9lNKa-radio-do-carro-furtado-no-es...</td>\n",
              "      <td>NaN</td>\n",
              "      <td>300.0</td>\n",
              "      <td>NaN</td>\n",
              "      <td>NaN</td>\n",
              "      <td>NaN</td>\n",
              "      <td>NaN</td>\n",
              "      <td>NaN</td>\n",
              "      <td>NaN</td>\n",
              "      <td>NaN</td>\n",
              "      <td>NaN</td>\n",
              "      <td>NaN</td>\n",
              "      <td>NaN</td>\n",
              "      <td>NaN</td>\n",
              "      <td>NaN</td>\n",
              "      <td>NaN</td>\n",
              "      <td>NaN</td>\n",
              "      <td>True</td>\n",
              "      <td>NaN</td>\n",
              "      <td>NaN</td>\n",
              "      <td>NaN</td>\n",
              "      <td>NaN</td>\n",
              "      <td>2012-01-11 14:00:00.000</td>\n",
              "    </tr>\n",
              "    <tr>\n",
              "      <th>3</th>\n",
              "      <td>6166</td>\n",
              "      <td>Morumbi</td>\n",
              "      <td>2013-08-20 11:56:52.717</td>\n",
              "      <td>Estava parada no semáforo, o bandido veio e es...</td>\n",
              "      <td>Rua Pasquale Gallupi, 347 - Morumbi, São Paulo...</td>\n",
              "      <td>6166</td>\n",
              "      <td>199.67.140.46</td>\n",
              "      <td>-23.611693</td>\n",
              "      <td>-46.725935</td>\n",
              "      <td>True</td>\n",
              "      <td>0</td>\n",
              "      <td>5</td>\n",
              "      <td>Quebraram a janela do meu carro</td>\n",
              "      <td>/denuncias/a4NB1e-quebraram-a-janela-do-meu-carro</td>\n",
              "      <td>NaN</td>\n",
              "      <td>2500.0</td>\n",
              "      <td>NaN</td>\n",
              "      <td>True</td>\n",
              "      <td>True</td>\n",
              "      <td>True</td>\n",
              "      <td>True</td>\n",
              "      <td>NaN</td>\n",
              "      <td>NaN</td>\n",
              "      <td>NaN</td>\n",
              "      <td>True</td>\n",
              "      <td>NaN</td>\n",
              "      <td>NaN</td>\n",
              "      <td>NaN</td>\n",
              "      <td>NaN</td>\n",
              "      <td>NaN</td>\n",
              "      <td>NaN</td>\n",
              "      <td>NaN</td>\n",
              "      <td>NaN</td>\n",
              "      <td>NaN</td>\n",
              "      <td>NaN</td>\n",
              "      <td>2012-01-11 18:20:00.000</td>\n",
              "    </tr>\n",
              "    <tr>\n",
              "      <th>4</th>\n",
              "      <td>6521</td>\n",
              "      <td>Alto de Pinheiros</td>\n",
              "      <td>2013-08-20 17:41:21.569</td>\n",
              "      <td>Arrombaram o porta malas do meu carro e levara...</td>\n",
              "      <td>Avenida Professor Fonseca Rodrigues, 1655 - Al...</td>\n",
              "      <td>6521</td>\n",
              "      <td>187.92.158.154</td>\n",
              "      <td>-23.544564</td>\n",
              "      <td>-46.721567</td>\n",
              "      <td>True</td>\n",
              "      <td>1</td>\n",
              "      <td>1</td>\n",
              "      <td>Arrombaram meu carro que estava no estacioname...</td>\n",
              "      <td>/denuncias/zD1lJa-arrombaram-meu-carro-que-est...</td>\n",
              "      <td>NaN</td>\n",
              "      <td>9999.0</td>\n",
              "      <td>NaN</td>\n",
              "      <td>True</td>\n",
              "      <td>True</td>\n",
              "      <td>True</td>\n",
              "      <td>NaN</td>\n",
              "      <td>NaN</td>\n",
              "      <td>NaN</td>\n",
              "      <td>NaN</td>\n",
              "      <td>True</td>\n",
              "      <td>NaN</td>\n",
              "      <td>NaN</td>\n",
              "      <td>NaN</td>\n",
              "      <td>NaN</td>\n",
              "      <td>True</td>\n",
              "      <td>True</td>\n",
              "      <td>NaN</td>\n",
              "      <td>NaN</td>\n",
              "      <td>NaN</td>\n",
              "      <td>NaN</td>\n",
              "      <td>2012-01-11 08:15:00.000</td>\n",
              "    </tr>\n",
              "  </tbody>\n",
              "</table>\n",
              "</div>"
            ],
            "text/plain": [
              "      id             bairro  ...    Tv                     time\n",
              "0  49787            Butantã  ...  True  2010-12-20 20:30:00.000\n",
              "1  10679           Itaquera  ...   NaN  2012-01-11 14:00:00.000\n",
              "2  10682           Itaquera  ...   NaN  2012-01-11 14:00:00.000\n",
              "3   6166            Morumbi  ...   NaN  2012-01-11 18:20:00.000\n",
              "4   6521  Alto de Pinheiros  ...   NaN  2012-01-11 08:15:00.000\n",
              "\n",
              "[5 rows x 36 columns]"
            ]
          },
          "metadata": {
            "tags": []
          },
          "execution_count": 101
        }
      ]
    },
    {
      "cell_type": "markdown",
      "metadata": {
        "id": "IBxA90FQRk4k",
        "colab_type": "text"
      },
      "source": [
        "## Alterando nomes de colunas"
      ]
    },
    {
      "cell_type": "code",
      "metadata": {
        "id": "bwIHqGgrRnjp",
        "colab_type": "code",
        "colab": {}
      },
      "source": [
        "df = df.rename(columns={'Bolsa ou Mochila' : 'Bolsa_ou_Mochila', 'Cartão de Crédito' : 'Cartão_de_Crédito',\n",
        "                       'Equipamento de Som' : 'Equipamento_de_Som', 'MP4 ou Ipod' : 'MP4_ou_Ipod'})\n",
        "\n"
      ],
      "execution_count": 0,
      "outputs": []
    },
    {
      "cell_type": "markdown",
      "metadata": {
        "id": "GkEvfypNk6t6",
        "colab_type": "text"
      },
      "source": [
        "## Verificação de valores Outliers"
      ]
    },
    {
      "cell_type": "code",
      "metadata": {
        "id": "dy5CgjfEk-55",
        "colab_type": "code",
        "outputId": "c78b06a6-9b4a-4b80-df9c-a2f5a08e86eb",
        "colab": {
          "base_uri": "https://localhost:8080/",
          "height": 607
        }
      },
      "source": [
        "#Plotar histograma para analisar a distribuição dos valores\n",
        "df.hist(bins=15, figsize=(15,10));"
      ],
      "execution_count": 103,
      "outputs": [
        {
          "output_type": "display_data",
          "data": {
            "image/png": "[encoded data removed]",
            "text/plain": [
              "<Figure size 1080x720 with 9 Axes>"
            ]
          },
          "metadata": {
            "tags": []
          }
        }
      ]
    },
    {
      "cell_type": "markdown",
      "metadata": {
        "id": "Ppm4_O8llXe5",
        "colab_type": "text"
      },
      "source": [
        "Dentre as variáveis apresentadas, a unica que teremos que analisar será a **valor_prejuizo** que aparenta ter valores outliers, iremos analisa-lá melhor:"
      ]
    },
    {
      "cell_type": "code",
      "metadata": {
        "id": "k0AfQNBXnHum",
        "colab_type": "code",
        "outputId": "dd31412f-7959-42af-8495-70eff3a4bf90",
        "colab": {
          "base_uri": "https://localhost:8080/",
          "height": 170
        }
      },
      "source": [
        "#Resumo estatístico dos dados na coluna valor_prejuizo\n",
        "df.valor_prejuizo.describe()"
      ],
      "execution_count": 104,
      "outputs": [
        {
          "output_type": "execute_result",
          "data": {
            "text/plain": [
              "count      12899.000000\n",
              "mean        2745.264592\n",
              "std        11115.126241\n",
              "min            0.000000\n",
              "25%           25.000000\n",
              "50%          700.000000\n",
              "75%         2000.000000\n",
              "max      1000000.000000\n",
              "Name: valor_prejuizo, dtype: float64"
            ]
          },
          "metadata": {
            "tags": []
          },
          "execution_count": 104
        }
      ]
    },
    {
      "cell_type": "markdown",
      "metadata": {
        "id": "-zPUnrjaoR2K",
        "colab_type": "text"
      },
      "source": [
        "Iremos limpando o dataset e analisar no gráfico de BoxPlot:"
      ]
    },
    {
      "cell_type": "code",
      "metadata": {
        "id": "ptatuMXJof4g",
        "colab_type": "code",
        "colab": {}
      },
      "source": [
        "#Limpar entradas com valores acima de 10.000 de prejuizo\n",
        "df_clean = df.copy()\n",
        "df_clean.drop(df_clean[df_clean.valor_prejuizo > 10000].index, axis=0, inplace=True)"
      ],
      "execution_count": 0,
      "outputs": []
    },
    {
      "cell_type": "code",
      "metadata": {
        "id": "JvcUgkRqnoRx",
        "colab_type": "code",
        "outputId": "27bef5e3-eb88-486f-9f08-d1eb3a90d6a0",
        "colab": {
          "base_uri": "https://localhost:8080/",
          "height": 211
        }
      },
      "source": [
        "#Plotar gráfico BoxPlot para analisar os valores outliers\n",
        "df_clean.valor_prejuizo.plot(kind='box', vert=False, figsize=(15, 3));\n"
      ],
      "execution_count": 106,
      "outputs": [
        {
          "output_type": "display_data",
          "data": {
            "image/png": "[encoded data removed]",
            "text/plain": [
              "<Figure size 1080x216 with 1 Axes>"
            ]
          },
          "metadata": {
            "tags": []
          }
        }
      ]
    },
    {
      "cell_type": "code",
      "metadata": {
        "id": "0UuP6OaApU0o",
        "colab_type": "code",
        "outputId": "b0bd9c8a-d9bd-49ac-b398-31df4824d1af",
        "colab": {
          "base_uri": "https://localhost:8080/",
          "height": 34
        }
      },
      "source": [
        "#Verificar quantidade de linhas retiradas do dataset\n",
        "retirado_dataset = (df.shape[0] - df_clean.shape[0])\n",
        "a = retirado_dataset / df_clean.shape[0]\n",
        "print(\"Quantidade de entradas retiradas do dataset: {:.2%}\".format(a))"
      ],
      "execution_count": 107,
      "outputs": [
        {
          "output_type": "stream",
          "text": [
            "Quantidade de entradas retiradas do dataset: 5.80%\n"
          ],
          "name": "stdout"
        }
      ]
    },
    {
      "cell_type": "code",
      "metadata": {
        "id": "IF8SQ-h4qiEQ",
        "colab_type": "code",
        "outputId": "c33d5984-0e1a-494f-ad5d-a3d553bb1311",
        "colab": {
          "base_uri": "https://localhost:8080/",
          "height": 170
        }
      },
      "source": [
        "#Resumo estatístico dos dados na coluna valor_prejuizo após limpeza dos dados outliers\n",
        "df_clean.valor_prejuizo.describe()"
      ],
      "execution_count": 108,
      "outputs": [
        {
          "output_type": "execute_result",
          "data": {
            "text/plain": [
              "count    12192.000000\n",
              "mean      1254.041009\n",
              "std       1848.865151\n",
              "min          0.000000\n",
              "25%         10.000000\n",
              "50%        600.000000\n",
              "75%       1500.000000\n",
              "max      10000.000000\n",
              "Name: valor_prejuizo, dtype: float64"
            ]
          },
          "metadata": {
            "tags": []
          },
          "execution_count": 108
        }
      ]
    },
    {
      "cell_type": "markdown",
      "metadata": {
        "id": "AZJTZSiRnV14",
        "colab_type": "text"
      },
      "source": [
        "## Analisando valores nulos no dataset"
      ]
    },
    {
      "cell_type": "code",
      "metadata": {
        "id": "t-eDsukYlxil",
        "colab_type": "code",
        "outputId": "f7c3a110-411c-4b8a-c053-8de65fe51d1e",
        "colab": {
          "base_uri": "https://localhost:8080/",
          "height": 646
        }
      },
      "source": [
        "(df_clean.isnull().sum() / df.shape[0]).sort_values(ascending=False)"
      ],
      "execution_count": 109,
      "outputs": [
        {
          "output_type": "execute_result",
          "data": {
            "text/plain": [
              "Móveis                0.942631\n",
              "DVD                   0.939298\n",
              "Computador            0.938600\n",
              "Som                   0.938445\n",
              "Tv                    0.933561\n",
              "Equipamento_de_Som    0.927514\n",
              "Bicicleta             0.926506\n",
              "Estepe                0.920304\n",
              "Tablet                0.915575\n",
              "MP4_ou_Ipod           0.906427\n",
              "Notebook              0.894565\n",
              "user_id               0.860222\n",
              "Relógio               0.849136\n",
              "Dinheiro              0.819598\n",
              "Cartão_de_Crédito     0.745019\n",
              "Documentos            0.683929\n",
              "Bolsa_ou_Mochila      0.682999\n",
              "Carteira              0.634003\n",
              "Outros                0.581751\n",
              "Celular               0.317234\n",
              "bairro                0.125824\n",
              "ip_address_origin     0.090085\n",
              "registrou_bo          0.037910\n",
              "descricao             0.000078\n",
              "latitude              0.000000\n",
              "created_at            0.000000\n",
              "endereco              0.000000\n",
              "id.1                  0.000000\n",
              "time                  0.000000\n",
              "longitude             0.000000\n",
              "sexo                  0.000000\n",
              "tipo_assalto_id       0.000000\n",
              "titulo                0.000000\n",
              "uri                   0.000000\n",
              "valor_prejuizo        0.000000\n",
              "id                    0.000000\n",
              "dtype: float64"
            ]
          },
          "metadata": {
            "tags": []
          },
          "execution_count": 109
        }
      ]
    },
    {
      "cell_type": "markdown",
      "metadata": {
        "id": "H_EoWUDpmv3K",
        "colab_type": "text"
      },
      "source": [
        "Dos valores acima, o unico que poderá interferir nos resultados é a coluna **bairro** com 12.58% das entradas sem preenchimento"
      ]
    },
    {
      "cell_type": "markdown",
      "metadata": {
        "id": "5E08LB1zryj_",
        "colab_type": "text"
      },
      "source": [
        "# Retirando insights dos dados"
      ]
    },
    {
      "cell_type": "markdown",
      "metadata": {
        "id": "inqbLpQ_FPxH",
        "colab_type": "text"
      },
      "source": [
        "## Quais os bairros com maior numero de crimes?"
      ]
    },
    {
      "cell_type": "code",
      "metadata": {
        "id": "-Kz9Cw8kGEvM",
        "colab_type": "code",
        "outputId": "44e79cdb-1cc3-48d7-c552-4790226eb2cb",
        "colab": {
          "base_uri": "https://localhost:8080/",
          "height": 374
        }
      },
      "source": [
        "#Contando valores das entradas dentro da variável bairro\n",
        "df_clean.bairro.value_counts()[:20]\n"
      ],
      "execution_count": 110,
      "outputs": [
        {
          "output_type": "execute_result",
          "data": {
            "text/plain": [
              "São Paulo          605\n",
              "Consolação         340\n",
              "Vila Mariana       324\n",
              "Bela Vista         315\n",
              "Pinheiros          223\n",
              "Ipiranga           195\n",
              "Butantã            167\n",
              "Liberdade          156\n",
              "República          155\n",
              "Rio Pequeno        135\n",
              "Centro             132\n",
              "Saúde              120\n",
              "Itaim Bibi         117\n",
              "Santana            117\n",
              "Santo Amaro        108\n",
              "Jardim Paulista    107\n",
              "Jabaquara           97\n",
              "Brás                96\n",
              "Perdizes            88\n",
              "Tatuapé             88\n",
              "Name: bairro, dtype: int64"
            ]
          },
          "metadata": {
            "tags": []
          },
          "execution_count": 110
        }
      ]
    },
    {
      "cell_type": "code",
      "metadata": {
        "id": "4AEGfS4xZqno",
        "colab_type": "code",
        "colab": {
          "base_uri": "https://localhost:8080/",
          "height": 51
        },
        "outputId": "4d0adbb2-73dd-4ccb-a12e-307792807738"
      },
      "source": [
        "qtd_sp = (df_clean.bairro.value_counts()[:1] / df_clean.bairro.value_counts().sum())\n",
        "print(qtd_sp)"
      ],
      "execution_count": 118,
      "outputs": [
        {
          "output_type": "stream",
          "text": [
            "São Paulo    0.057243\n",
            "Name: bairro, dtype: float64\n"
          ],
          "name": "stdout"
        }
      ]
    },
    {
      "cell_type": "code",
      "metadata": {
        "id": "SB6xcetWMjmC",
        "colab_type": "code",
        "outputId": "3c420504-0ea0-4f8d-c821-b7cdd76f3750",
        "colab": {
          "base_uri": "https://localhost:8080/",
          "height": 469
        }
      },
      "source": [
        "#Plotando gráfico de dispersão da longitude e latitude dos crimes\n",
        "df_clean.plot(kind='scatter', x= 'longitude', y='latitude', alpha=0.4, c=df_clean['id'], s=25, cmap=plt.get_cmap('jet'), figsize=(12,8));\n"
      ],
      "execution_count": 0,
      "outputs": [
        {
          "output_type": "display_data",
          "data": {
            "image/png": "[encoded data removed]",
            "text/plain": [
              "<Figure size 864x576 with 2 Axes>"
            ]
          },
          "metadata": {
            "tags": []
          }
        }
      ]
    },
    {
      "cell_type": "markdown",
      "metadata": {
        "id": "JNaT1JD2FPoB",
        "colab_type": "text"
      },
      "source": [
        "## Qual o item de valor material mais envolvido nos crimes?"
      ]
    },
    {
      "cell_type": "code",
      "metadata": {
        "id": "NPAeTlCQOd6q",
        "colab_type": "code",
        "colab": {}
      },
      "source": [
        "#Adicionar valores as variáveis\n",
        "item1 = df_clean.Bicicleta.sum()\n",
        "item2 = df_clean.Bolsa_ou_Mochila.sum()\n",
        "item3 = df_clean.Carteira.sum()\n",
        "item4 = df_clean.Cartão_de_Crédito.sum()\n",
        "item5 = df_clean.Celular.sum()\n",
        "item6 = df_clean.Computador.sum()\n",
        "item7 = df_clean.DVD.sum()\n",
        "item8 = df_clean.Dinheiro.sum()\n",
        "item9 = df_clean.Documentos.sum()\n",
        "item10 = df_clean.Equipamento_de_Som.sum()\n",
        "item11 = df_clean.Estepe.sum()\n",
        "item12 = df_clean.MP4_ou_Ipod.sum()\n",
        "item13 = df_clean.Móveis.sum()\n",
        "item14 = df_clean.Notebook.sum()\n",
        "item15 = df_clean.Outros.sum()\n",
        "item16 = df_clean.Relógio.sum()\n",
        "item17 = df_clean.Som.sum()\n",
        "item18 = df_clean.Tablet.sum()\n",
        "item19 = df_clean.Tv.sum()\n",
        "\n",
        "#Criar novo dataframe a partir de lista\n",
        "dados = {\n",
        "  'Bem_Material' : ['Bicicleta', 'Bolsa_ou_Mochila', 'Carteira', 'Cartão_de_Crédito', 'Celular', 'Computador', 'DVD', 'Dinheiro', 'Documentos', 'Equipamento_de_Som',\n",
        "                'Estepe', 'MP4_ou_Ipod', 'Móveis', 'Notebook', 'Outros', 'Relógio', 'Som', 'Tablet', 'Tv'],\n",
        "  'Quantidade' : [item1, item2, item3, item4, item5, item6, item7, item8, item9, item10, item11, item12, item13, item14, \n",
        "              item15, item16, item17, item18, item19],\n",
        "         }"
      ],
      "execution_count": 0,
      "outputs": []
    },
    {
      "cell_type": "code",
      "metadata": {
        "id": "INIHDr1J6eVZ",
        "colab_type": "code",
        "colab": {
          "base_uri": "https://localhost:8080/",
          "height": 638
        },
        "outputId": "1d59dc95-f13e-43de-d7ee-cfc97ff6ac2a"
      },
      "source": [
        "#Imprime DataFrame\n",
        "dados"
      ],
      "execution_count": 129,
      "outputs": [
        {
          "output_type": "execute_result",
          "data": {
            "text/html": [
              "<div>\n",
              "<style scoped>\n",
              "    .dataframe tbody tr th:only-of-type {\n",
              "        vertical-align: middle;\n",
              "    }\n",
              "\n",
              "    .dataframe tbody tr th {\n",
              "        vertical-align: top;\n",
              "    }\n",
              "\n",
              "    .dataframe thead th {\n",
              "        text-align: right;\n",
              "    }\n",
              "</style>\n",
              "<table border=\"1\" class=\"dataframe\">\n",
              "  <thead>\n",
              "    <tr style=\"text-align: right;\">\n",
              "      <th></th>\n",
              "      <th>Bem_Material</th>\n",
              "      <th>Quantidade</th>\n",
              "    </tr>\n",
              "  </thead>\n",
              "  <tbody>\n",
              "    <tr>\n",
              "      <th>0</th>\n",
              "      <td>Bicicleta</td>\n",
              "      <td>241</td>\n",
              "    </tr>\n",
              "    <tr>\n",
              "      <th>1</th>\n",
              "      <td>Bolsa_ou_Mochila</td>\n",
              "      <td>3382</td>\n",
              "    </tr>\n",
              "    <tr>\n",
              "      <th>2</th>\n",
              "      <td>Carteira</td>\n",
              "      <td>4014</td>\n",
              "    </tr>\n",
              "    <tr>\n",
              "      <th>3</th>\n",
              "      <td>Cartão_de_Crédito</td>\n",
              "      <td>2582</td>\n",
              "    </tr>\n",
              "    <tr>\n",
              "      <th>4</th>\n",
              "      <td>Celular</td>\n",
              "      <td>8100</td>\n",
              "    </tr>\n",
              "    <tr>\n",
              "      <th>5</th>\n",
              "      <td>Computador</td>\n",
              "      <td>85</td>\n",
              "    </tr>\n",
              "    <tr>\n",
              "      <th>6</th>\n",
              "      <td>DVD</td>\n",
              "      <td>76</td>\n",
              "    </tr>\n",
              "    <tr>\n",
              "      <th>7</th>\n",
              "      <td>Dinheiro</td>\n",
              "      <td>1620</td>\n",
              "    </tr>\n",
              "    <tr>\n",
              "      <th>8</th>\n",
              "      <td>Documentos</td>\n",
              "      <td>3370</td>\n",
              "    </tr>\n",
              "    <tr>\n",
              "      <th>9</th>\n",
              "      <td>Equipamento_de_Som</td>\n",
              "      <td>228</td>\n",
              "    </tr>\n",
              "    <tr>\n",
              "      <th>10</th>\n",
              "      <td>Estepe</td>\n",
              "      <td>321</td>\n",
              "    </tr>\n",
              "    <tr>\n",
              "      <th>11</th>\n",
              "      <td>MP4_ou_Ipod</td>\n",
              "      <td>500</td>\n",
              "    </tr>\n",
              "    <tr>\n",
              "      <th>12</th>\n",
              "      <td>Móveis</td>\n",
              "      <td>33</td>\n",
              "    </tr>\n",
              "    <tr>\n",
              "      <th>13</th>\n",
              "      <td>Notebook</td>\n",
              "      <td>653</td>\n",
              "    </tr>\n",
              "    <tr>\n",
              "      <th>14</th>\n",
              "      <td>Outros</td>\n",
              "      <td>4688</td>\n",
              "    </tr>\n",
              "    <tr>\n",
              "      <th>15</th>\n",
              "      <td>Relógio</td>\n",
              "      <td>1239</td>\n",
              "    </tr>\n",
              "    <tr>\n",
              "      <th>16</th>\n",
              "      <td>Som</td>\n",
              "      <td>87</td>\n",
              "    </tr>\n",
              "    <tr>\n",
              "      <th>17</th>\n",
              "      <td>Tablet</td>\n",
              "      <td>382</td>\n",
              "    </tr>\n",
              "    <tr>\n",
              "      <th>18</th>\n",
              "      <td>Tv</td>\n",
              "      <td>150</td>\n",
              "    </tr>\n",
              "  </tbody>\n",
              "</table>\n",
              "</div>"
            ],
            "text/plain": [
              "          Bem_Material  Quantidade\n",
              "0            Bicicleta         241\n",
              "1     Bolsa_ou_Mochila        3382\n",
              "2             Carteira        4014\n",
              "3    Cartão_de_Crédito        2582\n",
              "4              Celular        8100\n",
              "5           Computador          85\n",
              "6                  DVD          76\n",
              "7             Dinheiro        1620\n",
              "8           Documentos        3370\n",
              "9   Equipamento_de_Som         228\n",
              "10              Estepe         321\n",
              "11         MP4_ou_Ipod         500\n",
              "12              Móveis          33\n",
              "13            Notebook         653\n",
              "14              Outros        4688\n",
              "15             Relógio        1239\n",
              "16                 Som          87\n",
              "17              Tablet         382\n",
              "18                  Tv         150"
            ]
          },
          "metadata": {
            "tags": []
          },
          "execution_count": 129
        }
      ]
    },
    {
      "cell_type": "code",
      "metadata": {
        "id": "k6JQdb8t8zsh",
        "colab_type": "code",
        "outputId": "33a34150-d7ad-428b-801d-a8d609ec233c",
        "colab": {
          "base_uri": "https://localhost:8080/",
          "height": 435
        }
      },
      "source": [
        "#Plotando gráfico de barras das quantidades de cada entrada no dataframe criado\n",
        "dados.plot(kind='bar', x= 'Bem_Material', y='Quantidade', figsize=(10,5));"
      ],
      "execution_count": 131,
      "outputs": [
        {
          "output_type": "display_data",
          "data": {
            "image/png": "[encoded data removed]",
            "text/plain": [
              "<Figure size 720x360 with 1 Axes>"
            ]
          },
          "metadata": {
            "tags": []
          }
        }
      ]
    },
    {
      "cell_type": "markdown",
      "metadata": {
        "id": "eoXYVMcfFPWy",
        "colab_type": "text"
      },
      "source": [
        "## Qual a porcentagem de vitimas que registram B.O?"
      ]
    },
    {
      "cell_type": "code",
      "metadata": {
        "id": "44pwIAbGul-E",
        "colab_type": "code",
        "outputId": "afa65db0-e36c-4f62-8ca8-95a015eff0c1",
        "colab": {
          "base_uri": "https://localhost:8080/",
          "height": 68
        }
      },
      "source": [
        "#Contando valores da variável \"registrou_bo\"\n",
        "df_clean.registrou_bo.value_counts()"
      ],
      "execution_count": 0,
      "outputs": [
        {
          "output_type": "execute_result",
          "data": {
            "text/plain": [
              "True     6726\n",
              "False    4977\n",
              "Name: registrou_bo, dtype: int64"
            ]
          },
          "metadata": {
            "tags": []
          },
          "execution_count": 24
        }
      ]
    },
    {
      "cell_type": "code",
      "metadata": {
        "id": "LK8caorvw3rk",
        "colab_type": "code",
        "outputId": "976cec49-b623-47bc-ba52-93a85f9415b1",
        "colab": {
          "base_uri": "https://localhost:8080/",
          "height": 34
        }
      },
      "source": [
        "#Gerando valor de porcentagem de True da variável \"registrou_bo\"\n",
        "porc_registro = ( df_clean[df_clean.registrou_bo == True].shape[0] / df_clean.registrou_bo.shape[0])\n",
        "\n",
        "print('O numero de pessoas que registraram o B.O foram de {:.2%}'.format(porc_registro))"
      ],
      "execution_count": 0,
      "outputs": [
        {
          "output_type": "stream",
          "text": [
            "O numero de pessoas que registraram o B.O foram de 55.17%\n"
          ],
          "name": "stdout"
        }
      ]
    },
    {
      "cell_type": "code",
      "metadata": {
        "id": "w0Z8jdNau6Wb",
        "colab_type": "code",
        "outputId": "1934c307-b47d-4be6-cb48-4ec6fe00c88a",
        "colab": {
          "base_uri": "https://localhost:8080/",
          "height": 248
        }
      },
      "source": [
        "#Plotando gráfico de pizza dos valores dentro da variável \"registrou_bo\"\n",
        "df_clean['registrou_bo'].value_counts().plot.pie();"
      ],
      "execution_count": 0,
      "outputs": [
        {
          "output_type": "display_data",
          "data": {
            "image/png": "[encoded data removed]",
            "text/plain": [
              "<Figure size 432x288 with 1 Axes>"
            ]
          },
          "metadata": {
            "tags": []
          }
        }
      ]
    },
    {
      "cell_type": "markdown",
      "metadata": {
        "id": "1oID3rZPFPS4",
        "colab_type": "text"
      },
      "source": [
        "## Qual o valor dos prejuizos por mês?"
      ]
    },
    {
      "cell_type": "code",
      "metadata": {
        "id": "4mPG_1sZBN-6",
        "colab_type": "code",
        "outputId": "99fbd845-4387-446d-936b-a708048dcc40",
        "colab": {
          "base_uri": "https://localhost:8080/",
          "height": 34
        }
      },
      "source": [
        "#Somando valores da coluna valor_prejuizo\n",
        "df_clean.valor_prejuizo.sum()"
      ],
      "execution_count": 0,
      "outputs": [
        {
          "output_type": "execute_result",
          "data": {
            "text/plain": [
              "15289267.976"
            ]
          },
          "metadata": {
            "tags": []
          },
          "execution_count": 27
        }
      ]
    },
    {
      "cell_type": "markdown",
      "metadata": {
        "id": "qslk1U7qCTlZ",
        "colab_type": "text"
      },
      "source": [
        "R$ 15.289.267,97 de prejuizos com os crimes."
      ]
    },
    {
      "cell_type": "markdown",
      "metadata": {
        "id": "XedhHvbUFPOL",
        "colab_type": "text"
      },
      "source": [
        "## Qual o sexo das vitimas?"
      ]
    },
    {
      "cell_type": "markdown",
      "metadata": {
        "id": "WsNFXB6pDAqp",
        "colab_type": "text"
      },
      "source": [
        "O dataset não informada qual sexo era representado por 0 ou 1, ao analisar algumas descrições pude concluir que 0 está relacionado ao sexo feminino e 1 ao sexo masculino:\n",
        "\n",
        "![image.png](data:image/png;base64,iVBORw0KGgoAAAANSUhEUgAAAtwAAADjCAYAAAC2GsM4AAAgAElEQVR4Ae2dv650yXXd+Sp8BMORID6AImr0AAI5ieFEYExADhUosOEJmJiAR4kSGYaZEDajgRVRFiDAMgXZoEjJNoaCAJs0IJsCBVnXWHf8+2bN/up09+1/t/v27wD3q1Ondu29a9U6p1fXV939pb/5m7958k8M5IAckANyQA7IATkgB+TA+TjwVMeXBPZ8wIqlWMoBOSAH5IAckANyQA6EA30ouF3h93845IAckANyQA7IATkgB87MAQX3mQH1nazvZOWAHJADckAOyAE5IAeaAwpuBfddvYv93d/93acvf/nL7/398i//8tOf/Mmf3NVY+kb03AezHJADckAOyIG3ywEFt4L7rkRqBPdv/dZvvZdzrv/qr/7q009+8pP32nyAvd0HmHPr3MoBOSAH5MA9cEDBreC+K4G6JbgjtCO4f//3f/95PLH7jd/4jaef/exnz/XZnutp79Xy9LmHm9YcfXGRA3JADsgBOXBfHFBwK7jvSmSeQ3AjtnulPH7dlnJfDy9fbJwvOSAH5IAcuBcOKLgV3G9CcEcw95aS1HetcM8bNPu/v/rVr7oP3Pvhru6HyWPrig85IAfkwG1y4NUF9z/4Z//36ZH+vBFOuxEipHsbCOcttoPxoYI7q9z4cIX7tLmR2+InB+SAHJADcmDNAQX3lQW/RFwT8VBcIqR7K0hWpiOUc7197BPcCG1WwV3hPm1eGnvPxVIOyAE5IAfkwBc5oOBWcH9BqN76DTIFd/LNByWzSs0HJnNtl+DOByi/9rWvfWH7iIL7iw+GW+eB+TlfckAOyAE5cE8cOEhwR7zw3+6zbJGzNfApftrutbaT/Oh/PD3lL/H/4L/+/bvzY/JJ/7/666enf/Sv/n7v9pge++p8fpvGyuaRr60Ed/DIinVvCQkvuw6Hc31iTL3tHxljx+6LmByQA3JADsiB83LgYMHd/41/zkk4RuCeo4+C+7xEOicndvnaEtx880jv5WbbSN4kfvvb337+ECVvEFPy5jFCO/X0jf9d8W27T944b86bHJADckAOvCYHziK4V/8dH7GDSI+IYa/sHGzEc8RvH6w8p+03/+3fP/3vX3zeemjbPr8I7qxOc7BKnZXqnPcRO4R+5/S3f/f09N//19MXVri7PT667xx/6qy+RgAGpwg/hOFsdxXWB8aKQ16TF3JADsgBOSAHbpcDrSm/tDVRW6uK2J8iuCN8EboRtP/mP30mgFMifBGsXe/z9Jv1XX4R44j3+OccP9Rjm/YI63/x/b9/9waAnHItbYwBsU37rIMZZbBdrcoiuOebFVZisw0CH5a3e4M5N86NHJADckAOyAE5cLDg5r/fu4wYDIlOEdwRtP2HQF0J7rZDGCNsu2113n7THkGNqI4Pzld9I6qzyp4yeeU8/rBNfwR3n9PeffqmYxsEOKaN/cQR1jmfH+6LTf7noPu0T8+9qeWAHJADckAOyAE5cFscOFhwsz1kNYHnENwRqn1EpEawpuRA1LaQ3WrDZsvvIYI7NhyscG8JanJrv+QQof6zn38m0hu/FtdcR4RHcAfXbCHpNzmcK7hv60Zi/iydFzkgB+SAHJADcmByAD2Z8lW2lCCIWTWeK9EtWiN6c8zVaLZ1dNs+vy2MY9s+c54DEd0r3NcW3P76oTftvGmtywk5IAfkgByQA/fFgc+U5Wf/Xl1w/+IXv3gWtaxmR1xvCW6Ed2/P4Bolbf/yP3y2xWOX3y3BnfhZjY7Ixm8LbmJca0vJ/AClN9h93WDOl/MlB+SAHJADckAOnEVwszWCbQ5shWAbSq6vvqUEwZ1V44hb9mUnqQhb6rTHBqH8kjZs8dt+ct4r3FPwU2dLCb7IidV1VsOxp33W5003PwQZzLJtJNdjG+z6Q5VgTfv0Z92bWg7IATkgB+SAHJADt8WBswjuTGoEIPuLI67zvcf7BHf6IVhJ5N/9589Wp9niMdsRthHKL2mbfhHu7YdtLRH7HBHarGpPER2b9PnTv/p8+0n8IbLxQb+0rW6AiGqw++ijj977WkBEODbXEtuIe+JSnvOrCVf7/1cYHXMtuMHBY/rb57YeVs6H8yEH5IAckAP3ygE0YcrNLSWXHFxE6CP9XRLLc/uO4F59S8pcdT93XP35QJUDckAOyAE5IAfeEgcU3FcW/PdEni3BnVXpCPG0Zzx8swor4L19CNus3G+19wdD+39KYt/baSL0WbXGV+z7fwh6RRvb5Jhzfm0yfVmlz3V8xc89zY+5+mIkB+SAHJADcuA+OKDgVnBviswtwR1hijhFbFPPjd9Cd+7nj8+IaOx7S0nEM0I4frCNv9TTJ+KYLTXUaW9fM4/YtO/U44s84rPFffr7JwZyQA7IATkgB+TAOTig4FZwbwpLBC8rwF0iciNUe0U7pGyhPkVw2tOX/qv2JnbbRhx3rNkX8Y8g7759Hv9TYHfOHd9zH7RyQA7IATkgB+TAqRx4dcF96gDsf7mbYEuERqyyWswqc4vxnNM+RXHmq8Xvqj3X0h+fsU+/leBebW05VHC3eN8aq/y6HL/EVmzlgByQA3LgUTig4HbrwM4V7tWHJllJjgCeInjeOCtBvSW4W2ivRPOMFXsFtw/ryTnrckIOyAE5IAdujQMKbgX30YI7ojh/u/Y+v0RwR1Czms2N0uJcwe0DFF5YygU5IAfkgBy4Jw4ouE8U3OfeihB/EbCs8L4mmbbG1iKb1e4Wyt3+UsHd2zwisLOtBN8Kbh+ur3k/GFv+yQE5IAfkwLEcUHAruHeucEf8s5eakv3ZkI43CbT3ivdLBDfiHT8R2hHZ+FNw+6CDc5ZyQQ7IATkgB+6JA1cT3BFL3/zmN5+/ZQJBlWsNVuq0IbLS3tsKsI8tK58roYbdLOmXvsSaq8mp05ay29Mv3+cc0flLv/RLT7/yK7/yzha7KUDnOFc5ES8rvBk7vmK7hcv0c4/1uQ/7Hsdgzj705YAckANyQA7IgV0cuKrgbvEaQdkrpRGVLbK7HttuQ2DnOudTfFOfg0e8pkxbBF/yQODOWHOFNn47l7ntArGN/1lf5dP+4r9xahzSd9anv3urT7zvLX/z9QErB+SAHJADckAO7OPAVQV3789FiEZw9TkJI6QjMGd7r4quBNsUyfhMGX+dR65F5OaPmPE5+6S9bWlPbv1NHiv/qxzTn3jp0/4iwA/BhT73WvLmosd/r2Mxbx+2ckAOyAE5IAfkwBYHbkJwbwnkCDLEWM4RvbnW51NATxHcg+++XM+1+PjzP//z59Vrtnd0SbzOI/1nrNkem36DQEz6Iq65jgiP4D4EF/pZepPLATkgB+SAHJADcuA2OXA3gptV4h//+MfP4jj1kAqxHKEKyaYI5jr2iGeu4wPBjW/au5yCesaa7emr4L5N8ve8eu4cyQE5IAfkgByQA5fiwE0I7ojWrZXeiOEMHpt8YLF/7AQhnnZA2loZTjviugU6IpnVZWLir0tsuTYF98r/Ksf0X8VjnOnT58Rb9aHN0geFHJADckAOyAE5IAdujwM3IbhDjAjV/vDgrMcmYjfbPHoLCQI0bbGZ9Um6+O0PJU5xHqHbH+bEX/qRA7FSn4IbkYz9rM98phhnjLke24nDrE9/1m/vJnNOnBM5IAfkgByQA4/NgZsR3CFixCT7plt8Q9KI0LQjZrmOKKZvC2JsKNM3K+T5wx5x2za0zXjxPf0jkskLkY0PruN/lmnH9qOPPnpvtb/bV7hMf8fW55uPY/zMsU/84jPj4U3TOWJOn8fkfYk+881UzyPznbLndOK3i5v9xpD84WL8gjFtb71sfFfYdHtjHlxe8gyJfXibGMxjfDe+HWuVy0vmaXJiPn9m+y7OzHF3zpx3bofY0++Ych+O+8bWMeccznurbee92W34mTjGJvn0h+Tp15gl7pzzbr/WfRkOzlgZE5xNOXnLeCibx7FvTObcTF7iI+Uhucx8GrO07cL00jztsbyF8zl3wZe/yZnVeOnffFjZvYVr4e4ubr9kjFcT3C9J6pK2qxv/kvHuyfep4peHeTBm3Lx49U38CHPAA2nXCwE24DXrcz6Cb7/opN7+81Doetobd+bkLZbBcI59V31yMNjxUIWzzMvEC5EYfNPGvFHfl8tL5gnf5DJzm+2TM+nXnEl7b8mbY0tuzZn07/q0P6W+D8d9Y5ux4y+/9RCMZlvX8dv8oB18Iz6YT9ro13imLdeDUUpsu3zJfHe/U87BtueOa4yL8VCf8XK9x5r+X/3qV5/fbNJ3i5fti7idS9qDy1bsQzBtf5fkaY/lrZwH39Ubx0PHx/xvzd+hfm7dLrzKsyBcPUeuCu4Tf2nyHJPwmj5CJN7Z5sWKB2py6hef2PQDbua86wbEDw/nfjjyEP+jP/qjZ//Y4D/5cY0Y5Ns3wfSZseSPm4Uc6JsSv8Q6Z5nc8rd6USdO2hvTPLzanpzJs8cYH/3QBJt+ANK/rxH7LZWME5wyNq5l7Jx3e2MHB1OCS/r13HA95ZwHrmU+V7G4Fp8vnaf0aU4kVuc224mVHPu880+ejQVtq9waJ+zOVe7CMTF2jW2VQ+wztlVbX4tN/iauySfPhcx72uKPfrFP23xGpj28yfXgjT3lClPmpf1jf44y/nn+NYcZ9yExyHHFk/Sfc8O1jpdrW7lwve+5zuulmF6Sp53XWzk/BC84sHrNnLzOfOXNGbaTN9xbae83cbeKJ+PJcyCczr1zjlwV3A8suEMiHpDcXNwM1PvG2fXAXj2Am6BpJ1Z8ch5iI/L7evr2Q2He4DO/7svNQu7Y9k2TNsbaeZ7jPGNNrF2Y9Li3Yk6b+Ouc239jhT/GDQ5cf4Sy+dLnjL2xaRxpn9hzfavcdW90/HPMU3N95tN5M8aMr+125dp2OW9/s+0S9V257csluPz6r//6uxf9KaiTb7DYuje/973vPT9zer4Y43e+851n8bjKIT47bt+j55hvcji0DA788ZxdjWmXv9U4d9mnbcVL8phtySe5BauVSNuF6SqPY/Jd+XmUayte9th5duRe4XrmEG43n/o8trM+5z5zu7o3iXMLZfj0h3/4h89j3/VMemmuDye4XwrQW7WfN0XG2Q+t3BQ8rMEgfbb+G2reVPShjG/+K7ttO2afp1/nkD5986f9EJ/En+WMNduPredBldWl+N/1YNl1EzM3eSHKuDuX+OVFas5PfPa1xF/5aH9v9bw5tsXb4BW75hl4bPWhvct9XOpc0u+UeYIbyblz4Pqc78TuFzf4kxy6/9Z57A613fJx6PUtHLfGNv1OXOfYD703iTcxTrxVjjNO+iFM0mfmlfY5T3Msx9aTe54BKZt3qef5m9jhQ+LnbzVGxok9z5se08xvhdlWLviPP+LTPzmnfR+mM/41eTpj32MdvOEBZT8r5ria+/TP/PX57JO2lWbIfDHXs8+t1c/JLQX3g65w980DwfvmyM3ATdjl1kM39i328EmZePsEN++quRH7psx558E5D4iOvxobebSfrbFge0yZPMifF7fg2r52PaDaLud9s8cv401b/PcYwA9s6Es+0/dbrWe8jUvzusccfGIbHCd3t/p0/5yHa4m1hfHMJX2OnSd4k7xnHl1n3rmWOpzIOPPVqvt8pG9smm/4u0S5D0dizrFxfVWCM3OTkvOtezN+wDk20++uZ0vbdp7kwRzQRi7d79Tz+Cbv+IfXjKnnE8yx79i00T9tsev7Cnt8JzbXUm7l0jZ9Hv+dX7fhb8bg+q5+04/1L/7v8T48gjncZf6Zc7gTrmHTcwSPaOvyEvzfN5Zj2jOeHtMxPuij4FZwv3tI5ibi3Wg/rCHLrnLfwzLtPLzb93wBoy0/cEQuibuP9PTLi9v0Sf/c7OSwstk1vkPa4rP3cm5hsnV9FQNbfvAp42y7XbjwQh8f3ectnwcfXhQY53xxyHWwiT0Yx44+h/AjNi8V2/jvklx2zRNjOOTBvxpPx4uPyaNuz3lsziliwIoX3B4HbftySl77xrYaR/wmxiH3ZvqD9Wo+4octcDNW1xOzx9hth8x326/OwazxTL4dMznwvMuY+nmKz9h3H67HPwskXCPvniewmj525YK/Wa5its0K08Q9J0873ls+3+JDjznYbr1mMu/zHkkdTma+Dr1fOu6tnQeHye9jc1RwP6jgXt0wfXPkxnnJg2zlD1LOB3W/EHTM2FPPKhwvFrneffDbZbfjI2VsVg+XadO+jj1PDjxsupwCcOsG7jGQA/NwjOC+xBjJ6xbL4Lri7ORfcm9OrHAK7s2/OV5eWFLOttS3clnZruK3Xdq3hP0uzmSM7Sfnu+7TtIPVrrFPn6fUd+H4krGtxsVYEuPQe3MfRnOuiBH/jUPmf16jffrg+qllYvZzh/PcEzw/Jl/TJ38zdt8ftM2x7uLlrlzie2tuw7u//Mu/fL73Jn7xyTVyuRZPweCtlKv57bGt2pu3aQ+vJp/wwfwe8uvd9LnVcuseOSZfBfcJgvucE7E1efuIvdXvkOvcFHl48QBDHFLPGPGVm2slaLo9D3keirmOn34wdty+ids+fjo2OLTv9tPn0yd9eThQZ6zkf+5yhRd49DiIS14zT2xTNv6x6zE0H4nTGBLnLZYTmznGORexb06usAP36QuhwTzN9n25rGJtzROc2MqFdnKhjn3KOc6uz9yTx672aX9KfR+OjGVrbDP2zH2Ove0nH7ptxu22+WxJW+LM+7LrL5nvjnXq+Rz/HPM+/Ff9ed6AUWwOyXP6mrHxx1zHvjGcuc+5PiQHbT7/0ZngvfofDzCa80F9zn/mhTbmjtceuDHnctoT81bLvn9PzVHB/cCCO+QJmVgJyapy/3cpNwbt/QDcIt7sMwV4+vXDd+sFLP24gYnFQ5p8Whjs8xlf9MtDI/WMJ/3mA4J4p5bECCb4Ap85NtrnGJMfbSlTZxwTI8ZBe+PTPt7aOZgy7i4bv8Zucnlil/sCnPDPnPU907GCNys6fZ1zcpmxep5ow7Zzxk/Kzn8fZzrf7gefiD/9dDzGDibnKDuvjkU+iTFzApe0re6v9jnH2jmv+tI+55vrKZNPPyNp63lClNDGnDLGHh82lyiT04yVcZNHyp7XFSZb4+rr7W8L81Uuu+Y2eHSMxnT26/g9nktg+lZ8huO7BHfG2VyZr5nzHmnbzEfuw8aq78vJu7a7xfPkPsdzbJ6vIrhzIzEIbpZMWN9gc4Dd1jdfBr7VBqnylU7pk1h5AOW/1/JgSH36gkjkFd9b4DIG2pt0029sYo/ffjDNB3JsiEs+8U0cy8/fqZ8LizzEw5Nz+dPP+edITMVUDsgBOSAH7pUDrya4IyoRkQhmRPZcRUh7v1NPPwRrn2cSuo5YpS/1FsMtmmmfYpf6nOTum7jtd9bnGKizX42xJ0ba8EVO8TfjWz/fg+ejjz56Xr0S0/NhKpZiKQfkgByQA3LgMw68muBGBGcipsBmxTciM4Jz9V8fEagRprFBfM9JXYnVFsmxT39yQQQnPr52+ccX+aY//VLSvsqj7eZ54/HSvtOXdR92ckAOyAE5IAfkgBx4XQ7cjODuryBCwEbsRnxmtZetGF1G4GLL9fSBVCuxilDHpgU3Apm2lInfuXUb9qs4sUt+sWkB3f3neWwZhyvcr3tjzLmx7nzIATkgB+SAHJADx3LgLgT36kMqqwEjWHeJ1dj0SvQtCG7yZqW9BfqWmF+N32s+COSAHJADckAOyAE5cHscuHnB/VLByYp3RPWq7y7BnT6IXsgaQb61ZSW+8tcx6ZeS9lUe2KVtbplRcN/ejcJ8WTo3ckAOyAE5IAfkwEs5cPOCOwOKEG7R2wJ2CuJ9YnWX4MYvK+CzPsFFUOd68mBlfVWfYp68//RP//R5bKmnHzHxRZ32mYP19296MMv8iM/7+IiJmMgBOSAH5IAcuC4H7kJwhxQRT+xvTtkCdKsN4TVtEdTxm7Ze1aYPsdp2krMFN77oh2DuPp1ntyeH7pd63mAkNvnk2tZKesc49jyxOoe8cVn56nxoJy/695sjbF5Sdi74TBn8DvETrA61PcSfNtd9KIm3eMsBOSAH5MBb48CrCO63BuI1xxMhfO7vi47AbZGM4I+4nmPjTUNsaMu1ftMSf13H7tAy/adgRuinbZ+fH/3oR3tt9vmw3Ye9HJADckAOyAE5cC4OKLhP+KXJc03CS/yc+/uiWZ1uIcu1FtXJMfUI6Yhz2noLz0vGsct2JbhjHxFOnon7zW9+8/mP1W/y7lVx7NM/57T1/zDsysU2H7ZyQA7IATkgB+TAqRxQcN+Z4D51wg/pz2oyojp9ci1iO0K3BXdE7Cmr2at84nO1wp04rLonj4hmBDViu/ulDWGdsRy6ir/KyWs+bOWAHJADckAOyIFjOaDgVnC/t/1iJaJzLX9TjOcaK8+sHp8qwOMTX10inkP2Q1bW22YK7mNvGPv5sJUDckAOyAE5IAdeygEFt4L7C4I7YreFbQgV4ZrtG1lFXgnuiOL0g3wR4KeIbkQ8/lLOFewW022X88RHqDMW+nO9V+9nf+s+SOWAHJADckAOyIFzckDBreB+J5RXYjtCNWI7AjfEWwnu3sYRm5eK4UnoleCOTa9Sr2IgtBH7K5v4wQ4xPuNb9yErB+SAHJADckAOnJMDCm4F97OQjgjtPc6QLKI1wpSV4S4jjCOCEbjd59BfB6VPl7sEN7GmmM4bgV0/INT+c86Kd2LNNus+ZOWAHJADckAOyIFzckDBreB+3g6yEtsros0V7pVwjXhHGK987Lu2Etwzzkpw94c5yZNV7F4dT/zZf19OtvvglQNyQA7IATkgB47lgIL7wQU3wrRXrjlfrf5i33ugEcP0O0Vsh8iJi68uI+Qh+kowJyfsI7QR2YyDrSTYMAbyx44Ylj5Y5YAckANyQA7IgXNwQMF9AcGNKEXYtVDMpE3hN9vPMbH6eNkDIgL+3D8o5By8bA7ES7zkgByQA3LgrXJAwX1mwT1XS2c94rpXgFmVZbX1rRLt1sd17h8UuvXxmp8vanJADsgBOSAHrscBBfeFBfc+MrMaruC+Hun3zYntzoUckANyQA7IATlwTg4ouM8suDM5rFpnS0mvZvfEzX3KCm5v7OaH5/JBDsgBOSAH5MDb4YCC+wKCmxsk+4L5Sj32aSO0+VYQV7jfzs3EvFs6p3JADsgBOSAH5EBzQMF9QcEN0Fm9jsD+8Y9//Lzi3avZCm5vSHhiKRfkgByQA3JADrxNDii4zyy454ckc+NkdTt/s416tp60CL/Vm403B3y3dcbkV+m9zQfDrXLQvOSbHJADckAO3CMHFNxnFtwhQW8lmfu4Z9v3vve951Xv3nLS+74jaKkj0C8hcmdeqzcBeVOQPKfwPob4bK1JnP5jrMf4nH2SK7jONus+sOWAHJADckAOyIFrcUDBfQHBfa3JO1eciO35U+wI8EuI++QdvysxnGvnEt0Kbh+k57pH9COX5IAckANy4BQOKLgV3M/idyVyI4r7ela4ezWaD35CwG5n2wlts9wS3BH6X/va155X0dOnfSZ2x5z5sfKePumr4PbhOHlnXU7IATkgB+TAa3BAwa3gfidqEaorIqatRTTillXq2T7r0+chgnv6mDEV3D40J6+sywk5IAfkgBy4RQ4ouBXcz6vBEa+9et0r21vEZQV5a2857av+K8GNH0T8ql/7VHD7UF1xxGvyQg7IATkgB26NAwpuBfez4G5iRtQiviNqu4293bTHlpXnrEi37UpU0542fHS5EvqrmPGj4PaBCp8s5YIckANyQA7cMgcU3AruL4jkJmsENHumW/QirFltPlZwp3/Hm+e7YsZWwe3DdXLGupyQA3JADsiBW+SAgvvBBTfbOCJeJ0EjePn2krRPgYzg3vJB+/Sb+srftFvZtM+094r4FP5tO31b94EsB+SAHJADckAOXIsDCu4HF9whWlass62DlWvI14J1itvU0yc2+OgPVcZX1/FJuRLTtFG+NCY5MY7OH5+WPlzlgByQA3JADsiBa3NAwa3gfhbMvX2DPdURsBCSVWzaImbTzpaT2CHcY7NLbMc2fRHrxJjlITHjg5y+/e1vP694rwR34vVqeNeJk2szB+s+lOWAHJADckAOyIFTOaDgVnArMuWAHJADckAOyAE5IAcuyAEF9wXBPfXdkP19Ry0H5IAckANyQA7IgfvngIJbwe07WjkgB+SAHJADckAOyIELckDBfUFwfUd6/+9InUPnUA7IATkgB+SAHDiVAwpuBbfvaOWAHJADckAOyAE5IAcuyAEF9wXBPfXdkP19Ry0H5IAckANyQA7IgfvngIJbwe07WjkgB+SAHJADckAOyIELckDBfUFwfUd6/+9InUPnUA7IATkgB+SAHDiVAwpuBbfvaOWAHJADckAOyAE5IAcuyIGl4O6LnouACIiACIiACIiACIiACJwHgS+xXH4ed3oRAREQAREQAREQAREQARFoBL70F3/xF0/58xABERABERABERABERABETg/Agru82OqRxEQAREQAREQAREQARF4h4CC+x0UnoiACIiACIiACIiACIjA+RFQcJ8fUz2KgAiIgAiIgAiIgAiIwDsEvvTuzBMREAEREAEREAEREAEREIGzI6DgPjukOjwXAr/3e7/39OUvf/m9v6985StPP/zhD88VRj8iIAIiIAIiIAIicFEEFNwXhVfnpyAQwf3bv/3b77nI9V/7tV97+ulPf/pemxdEQAREQAREQARE4NYQUHDf2oyYzzsEtgR3hHYE9/e///1n29h94xvfePr5z3/+XJ/tuZ72Xi1PHw8REAEREAEREAERuAYCCu5roGyMoxA4h+BGbPdKefy6LeWoKbGTCIiACIiACIjAEQgouI8AzS7XQWBLcOd6bylJfdcK98w2+78/+OAD94FPYKyLgAiIgAiIgAhcBAEF90Vg1ek5EIiQ7m0gnLfYTpxDBXdWufHhCvc5ZkgfIiACIiACIn9pc5sAAB+4SURBVCAChyCg4D4EJW1eBYEI6d4KkpXpCOVc72Of4EZoswruCnej57kIiIAIiIAIiMClEVBwXxph/R+NwBTccZQPSmaVmg9M5touwZ0PUH744Ydf2D6i4D56SuwoAiIgAiIgAiJwBAIK7iNAs8t1EFgJ7kTOinVvCYn47nr6IcrnN5ZQb/vrjMYoIiACIiACIiACj4qAgvtRZ/4Oxr0luPnmkd7LzbaRCO2PP/74+UOUrIKzKp62CO3U0zf+PURABERABERABETg0ggouC+NsP5FQAREQAREQAREQAQeGgEF90NPv4MXAREQAREQAREQARG4NAIK7ksjrH8REAEREAEREAEREIGHRkDB/dDT7+BFQAREQAREQAREQAQujYCC+9II618EREAEREAEREAEROChEVBwP/T0O3gREAEREAEREAEREIFLI6DgvjTC+hcBERABERABERABEXhoBBTcDz3924Pv767O91fz1999vd37dVv4cRu+h/t1szG6CIiACIiACIjAoyOg4H50BmyMP2L1G9/4xlN+ZKaP/FjMrYtuBXfPmOciIAIiIAIiIAKvjYCC+7Vn4EbjbwnuiNkPP/zw6Yc//OFz5inz642sgM+fTO9fgJxCvVfRI+7zC5GxzxFh34J/imh+bZK4KfnlyGmLP2xnjs8B/UcEREAEREAEREAELoSAgvtCwN6720MEN2I7tjkQwQjlKZq7Pvsivg8R3MTBNrHjGyE9BXfHjW1iTfH/PAD/EQEREAEREAEREIELIKDgvgCob8HlluCOyEVQr8bZ4rbPp+1smyJ6tk8RPf1FwH/wwQfPK+9tm/NekadfxpEYHiIgAiIgAiIgAiJwaQROFtz/8J8/Pd3L36XBfEv+WXFmGwblamUYgYsNgryvs/oMRhG8vUKd6xHAXDtUcMeeuMQgbsbASjo2XSq4mQ1LERABERABERCBSyKg4L4kunfse2uFu4eEsI2IRbxOoRx7Vq9jh2A/VXAjtBH3Wyvcfb1z91wEREAEREAEREAEroWAgvtaSN9ZnEME98pmJbgZOgI9/VZ2LcJne/fN+dwm0sJ62kbkJ6aHCIiACIiACIiACLwGAicL7n/y756e/s8v1qn/7d89PX37D3ZvOfnH//rp6a/++unpOz/YbXeObSvrLF/vagvD18tiHXklpqdlbFixTlvqWcVm1XmK5rafY6dvRDe+2CKSenzFd+xmX+rYU48tfTvP2f5s5D8iIAIiIAIiIAIicCEEziK4f/bz/cJ6SzAruG9z9TViFeG8i3ts7UBof/LJJ+++LaS3kqQdQYy/3l8dQZx4CO7YtO98ZWDaEdEp4xO/qcdHhPlKULev9MEPuViKgAiIgAiIgAiIwKUQuJrg/oP/9vkQWPlGbNMSmwjzrIrHhmPaY4eI/9H/fHriWlbK+8jqe1bhYzuPiLMIsRZjLcSmYIxQS58cEXURgN/61re+sKrbQjD2vbKafqzUpi39007MXfFm7m+xzly8xbE5JhEQAREQAREQgcdF4CqCOyK4hW/XEd1sKUFsU6c9205yHmHNeUR0xDQr7OmDOKctcSPItwR3i2hWXCOAEb8RgRwRy6zSsora7elHe/pMm/RvAY7QPyQeObzlUsH9lmfXsYmACIiACIjA4yJwFsG9tYcbYdwCO8K3/xDUCOxu47xFdgR54rE3PP2Ig32XEdu7BHdWmSOuOXaJvq0P5tF3VeIPAc8KeWwR5Kxwz/4db7a9xTpYvcWxOSYREAEREAEREIHHReAsgpsV5ha6fY6oBuYW17T1tfSdH8ZEVGPPFpLeTkJMVsmJt0twR+T1EUG8EuFZCc8fK9i7xDIr5fRJjJU9InwK7tjTl3ido+ciIAIiIAIiIAIiIAL3g8BVBDdCOGXEbw62fiCgEdwttBHVvcIdH9T/6b//fDtJrrfQxl/iHSu4Eb4I8F5xXgnoFtqI6Pg4VHDvinc/lDJTERABERABERABERCBRuDqgjvCGJEd4cw5Ajklq9mxbYEdW4R1tpX8x5980Tb+ENf03Se4EdOA0gL50O96pm9Wx9O/D/yxmr21pSQCfle89um5CIiACIiACIiACIjA/SBwFcEdER2BzLeF9D7sleBu2/TN0SKcPrneApuVb4R56m3zWe3zfyN+s3WD1ehdK9isaLPFgzp943VuR8E/Ijy2Wx+anP6oE+/zrD0TAREQAREQAREQARG4JwTOIrgjkLeOiN6sNkcY98GKNivYaUM8t22E9vf+y+dbUFi5Rky3nxbi+IsdAr7j5zyCOKvK+WPPdAvonHM9whfBnH4I4rZnFZs+EdqxbZGNCI9NvlKwvxZwV7yZ+y3We0tNY/CSXPkfgfTp85f4mLaruZo21kVABERABERABETgUgicLLgRwPdQThAjfueWkmlj/TAEguVcjecNyEswbpHd54dloZUIiIAIiIAIiIAI3B4CCu7xtYC3N0W3n1FvxZnZZnV57k2PkGYFPGXqHC2y+3y+OZqr1rHl1yjjs8X/tCWWpQiIgAiIgAiIgAhcAwEFt4L7ZJ5FDLdo3uUwdr3izTYatua0yO7zQwR3hDZ+UiK6Fdy7ZsQ2ERABERABERCBSyPw0IL70uA+iv8I4wjiY44phltk9/khgjv2HGxnSb8ZAxtLERABERABERABEbgGAicL7mskaYzbRmAKbsRubxuZgjz1bmdlukV2nx8iuGcM+iu4b5s/ZicCIiACIiACbx0BBfdbn+ErjC9CN+J2dSC+EcMpI7T55pYphhHJ8dXn6ddbUVb9iEEe9J+2tFuKgAiIgAiIgAiIwDUQeEjBjQhsAXcNsN9qjF0fmgTriGHOWc0OHlMMI5LT1ueHCO7YcxAr/WYMbCxFQAREQAREQARE4BoIPKTgjkD8zd/8zWcB2CAjzLICqxhvZPafR9jyIcW2jggOni24c54DUZx2RHiL7D7vD0Gmb3zMfh0/9lur6J2f5yIgAiIgAiIgAiJwaQQeUnBHWEfszSMiTaE9UTm8vvrhm4nntPnkk0+eMWd1ukV2nyeL1COy88dXALZQT6yI7LS3+OaNVGwR+Yj+w0enpQiIgAiIgAiIgAgch8BRgjtiJSvEETgIoClgIm5oa/GzSpPVyimUYotAwlcLuIi3fMfzd7/73XexIspa1LHKSdwWbfGZeo7OIdcRcn29fUXEJZf8WmTsyQtxR74TF/LYKrfibdl7/TMEMo/M5T5Mwo9wxkMEREAEREAEREAEroHA0YK7RWnEaYvqffUeWGxbyHYdsd2itYUVwhqhRR1/s3/sEMbJIbHmOLo9cfEV+64jrImddq6R76z3uFfn7X/GW9l77XMEmhefX12f5U1SuOIhAiIgAiIgAiIgAtdA4GjB3cIUYRkBO0Uug9gSRC2wsaVMW8fJ9cTilwsjmj744IN34mkVOyK2RTG+8RVBnTg5Ol6PiT7tf9WeWDPfXePDb8qVv47Xtp6/j8AWv9639IoIiIAIiIAIiIAIXBeBswvulXDMkLaEL6KSLRiIX/pwvUtW07cE9/QxBXdyaX/Yp0QwT99MS3yl/2qcK9EXP3mDEPtdx754u/raJgIiIAIiIAIiIAIicLsIvLrgbmgiWCOEEdSrFeO2nyIV8Y6Ajm0LfYQ220SmaFZwN7qei4AIiIAIiIAIiIAInAOBswtuRG/EbR+r1d9u57z7RwAjjmnv8iWCG78txncJ7tmWuPjI2Fbtuc4KOXnuGwN2K38dDztLERABERABERABERCB+0Lg7II7w4/IZJV6VW+IpiBtEY3gjFjnaPu2TTv2seGICE5/2ngjQD0r6tinbMEc2xb8XV8JZK4RY9bJaats/7GZ9a1+XhcBERABERABERABEbhdBC4iuDPciFf2Sbf4XkHBVhLsEcCxRbTS1gL4JYI7vmKfXPA1vwN6Cu70iejFvmOTV+e6yhfxnbbYto9cm8dWvGn3lur95idYN2ZznGmbb4qYny734Tz9XqIOR8ir8+54seODwH09fKFvyolLcyXtk4vt662eZ8wrXPuZMtvnvExcJ1bTHn+Ttz1XvUgw/VFP3F12q+fFzGVf7sQi12mfeud9SQ7N5+/MZY5tXy6H5M64V74Sb3XfzTyYb7DsuKvnTLfPvvg4d5mYM1bG3HMbm9Uxx7vqM20mb2es+Oh4c+7nfHT/iSlz2HlNm9W4vLaNwArTR8a379lLcusowb09jbbsQ+B3fud39n6Acp+Pt9TOjc8DnAf7fCBnzDy05wtL40H/fth3+7XO57gSN2NknORBvvNNKWMFB+yop+w+se9v7MH/Wy6DQV4kJh+CcT80Y4cNOPY85HyLL4fOIzjPeeH6LHnAdx5tQ549DnIhV2wSc99BPPrGfuZ6SQ7t4zNjIb99uRySO3iFIxMj4vU9FEzo0/OSc+rJr/skz/5QfNp7zrrvvjk6th1s4Xj8cI1xM17q+2L1OOjL3IAR9fjKOLd8kwv29Mc+ZWMauzmW1S9D7xuD7YcjEMzh+OG93oZl+Nf37OTfOUep4D4nmnt85cGT74D2+ByBYDKF4upFKg/pPHT5waXUV0f69sN6ZXONa/MmXsVMrhEDGdMhGOCDFyxewLj+KCUCIC/Skw+08WIeTMAr11bzEg62aGocV/bd3ufE3jUviI884MPTrRc57oF+IVjlcsgLZWImVsZIbmBCvcdxifPEmfdl5z7Htiu/XW3kHt+8GQuG8c+x676bedAn5Vbc+Eu8Vfsuf+372PPEXD0X4c8xfuEomK3GkGvMJzmk3+pYzX33n7nGTz8PYxsbj8sh0PciUTIPcCv3Ejxn3mPHMy9zxMG9lz79Ror2WypX92zGtPqfr3PkreA+B4r6OBsCqxs4znMT89c3fAeeD+puu/b5fBFZxc+vXeaGn3lvYYCPac/1RymDT7aD5Qgnmg+rh2U/VPuFHrx24XnIPOJn5sL1LhPrj//4j58vbflGYKRswb3yP206Vs4RQ4kZnOIjx64xTx+Xqm+Nf19+h+QefoQLq3tp675L3F05waNg3seuPrva2sex55lP/rgPVmN+if9Dcm4uJl5iR1xFZOUPniVuzuOzj128bd/0//rXv/7Od98T7dPz4xFYzVHus8zpnEt4lmiTa3Puds3z8dmer+fMP565z3vc54qo4D4Xkvo5CQFIzjvpdsYDPeW8odvukBeKtr/keXJJril5EZovOsSfAiLjzDtsHlb054U+9rTzInfrKwmM9dzlig/BuV8UghsigAdsP0xjv4Vf2g6ZR/wyR4eMM77z1wcCOXPM/Md3DvJoe7iATbflPD4Sg/uLcdMv7a/BocTvVUzyBkfmi+tdviR3/K3mZZXDvvkOfi344iP4zXmMXcbQtj2Gc5xnbOF5ysSD86nzfEj8+fzYFXuFybSfmIIBGNPeXAtGtMPFiU3ak+u8F4MtY0sucw5mftZfjkAwnRxecaF5lijMdeYO3qVfH9xTfe1Wzq+ds4L7VmbePN4hMG/q3LA8rGcbnfrG59prlsk5Lx7kzYvMfKglx/lgYyz9gtQvapz3i1DizBeq1xz/tWKv+ADWCI1gnr/Ygnewoj0rnlv/hXjoPAb/nq9Dxk9ebZscyXP6zPX06SNcSO7hzDxyDUEGJvh+TQ4Rm1xm3tRX+KSN/ofwn3uJ+xDf+Jmi/5D5xib8SQ4ff/zxe/NCnOQ6Y9B2apk8GFewBA/G3HwEM+y3YreflQ2+E3vXMbmbOvdb7j3uufibBzG2cp1cnv2tvxyBzPuc0xV3Jz96ruAY89xl+t3ikfxXz/5gcYmcFdy3yIIHz6lv9Dx0+0Ewb3igmg94rnc5Hwjtt+3Ocb66Ybdy7PEm9q6HQPzGfoqsR30R2uJDzyHYbL2Ar/Ck/6HzGLv8veSYfZJH9kwm3xyTL6uxTpuOH/+MGQx4EVmNedq0r5ecx3e/oWlcaCOPXX63xvaS3FsQzFjxM8Vwcp25beWBv1Uf2s6BKZghYJjXxrW5se/5QW6z3JcrWHbc6YP6ao5oSxlMeYPQ1zlPjF1x0jbnib6WL0cgWE68V/dH8yxR4ETmc2X/8kyu26PzJ/K++wC7Y0oF9zGo2edsCKxezPrGzUOAF5oue/UmycRuPjDOluQRjlYPsNVY47rHmzo3fOz7YIyrF1T6PNqL0HwBaLw4n/hynXKXj0PmcfXQxveukvnEJrGa45zzPxcr/qzyiz9ywkeXifsaHEr+yWPyOvmu5mA1XsY2V6W2+A8Oq5grXqzw3MqDXPIsis0q1lZe6XvKkTnsOeU8ufzkJz95FrNzzJNvM/4KD2zSFh4Gn3lszd0hgnoLH3Ldhekc38zL+uEIrHi/4sOc656fPj888utarviXcczny7myPElwXxvgJsC+2G17LrAO8TMJeUifR7aZhKeeB+7qWOFLn7TdyjH5SY6rca24Ol/kY5MXPF5kJg65jjC7FQyukcfEITF5sc75xH3Oy8R15jztp7/Yr+Zv+lnVO89V++QAseH5zG3lg2uzb65P7C7JoZfizNgYK+OgPDR3/HDf0D/lat6mPbhx3864ud7CcranPhcHOodznc+4kzv78E8esw+5gUlirI7pG3swnzjnej+rZtzZvg/jVU5eexkCmVs4Ts85b7k+5yb9+k106s33yQV831I5+Zcx9D19zlzvVnDvA2FFln19bH8dBLgpWaWZN35ntboZ6J8b55YO8to3ri2uZjz07YcaY+Rhl7Z+AaP9EcoVHxBJYDcfnsE7eNEeHxzMWXOJa9hPfs4HNr5SrvKjPX6mL9pSrvzOXDr3lT3+wKTt05Y647okhzJO4nTZc7NrXlZjOyR38Er/eWzdd/QhzzlHPZYWF/jf147dOctg0VjGd8bMGFI2Blt4Th/x0zi3vx77rrnbl8uMseLha2CavB7lyBxPnm/dHz0X+fxCONPc6vbJu1vFsznevD53vmcR3A3wvGHnTd+DySD5Hl1u5Fzro33Hlj13PBS3Jrpt448XHOLE7+rAbpUH14i98hWbxqDHv3qQzBzSH7+H2M/+1kVABERABERABERABG4LgbMI7hbREbIIzojNFo0IVcQu4hLRPO3bF0IYf/ii7y5b+hJ31ueUTNGcWOzpmXHxlT45uu8cz6zvixv7xnbaWxcBERABERABERABEbh9BM4iuBG9Ge7Wf0MARUQvwrfFadpbzPY5fdt3t/f5ynYlXNsXfShnW/rzJiI5k3/b860RjCk5pU/qffT4+3rsEfV9PfbTR7d7LgIiIAIiIAIiIAIicNsInCy4p0jcEr9ZmWarBIIVcZpV4hzdd4pe2on3EtsZZ/p6Dl7/zFXrFr05ZxxdshJNrE8//fR5dbrfjCRE2hl/hXx+o9IYte/08RABERABERABERABEbhPBC4quCOaEZEIz4hNBCfi9NYEd6aS3CKcEfm53vmvprz7RYQzbmzTzvi5lnL1BqPbPRcBERABERABERABEbhPBE4W3FNUtnBcicsWrIjTleDuFWygbd/d3ucr24heVqBX7Vzrklh8CpccZ87dJ+e0J6eXbimZWE7f1kVABERABERABERABO4PgbMIbvY3sxWDFVzEZ4vVbJXYap/Cufvje+tDk7ts6UvcWV9NGzadb+zIMfE4OnafR+iTb2xnnf6U6dtvDIg1V8mxtxQBERABERABERABEbh9BE4W3NlukVVg9hwjvjP0Fq0I1xaVLU5jvxKYEcn4TpxDvxawbbdy2Tc9yS+xp+DN6jdbZdLeY55jSl/yb/G9FbvHu4q91e/c1xnjHDtx9rVjd60yuPGGasZc8WraWBcBERABERABERCBSyFwkuC+VFL6fX0E2FLz9a9//Xl/eWeEgH3NNwSdT853Ce5pa10EREAEREAEREAEromAgvuaaN9RLAR3/qcgq/Z9ZNU7q/pzzzn/IxAhPrfGxP5b3/rW82p/zn/wgx+8+98KfLdoji/q/A9B4naMXtHOOTnFvv83gTcIW6v1xLcUAREQAREQAREQgUsgoOC+BKpvwCeCOyI1YjbbgzhS/+53v/sFwR0h3CK76wjeFsj4T8mRdmwQ1ohk6rTP/rneK+7ph+gmPr6IZykCIiACIiACIiAC10BAwX0NlO8wRgvarEwjjCNes5L8Z3/2Z+8E90rQsn8/QnnV3v6BZwruxEHoT3v8I6K7b/zRvhWfmJYiIAIiIAIiIAIicGkEFNyXRvhO/bfAjaiNcM2R84jbFtFt28ON3ZbgXfVp0Zx+U3DnA7qJmwNB3YKbHMkBf50rbZYiIAIiIAIiIAIicC0EFNzXQvrO4rQgjmCN+E0ZERuR2yK2bXuYCu5Gw3MREAEREAEREIFHRUDB/agzv2fcU0RHPGffNsK7BXef45YV6GuucCdHjn3xsbMUAREQAREQAREQgUsjoOC+NMJ36n8K7qxq50OJiNopsiOs931oku0fgYT+bANJvHzIEf+5/tItJXxIMv47H2J1/DudFtMWAREQAREQARG4QwQU3Hc4addIeQruKVpnPTlF5PIVfi2+V7axR8SnT8R1voLwFMGdD3cmbvy1+O74vfJ9DRyNIQIiIAIiIAIiIAIK7jNwoIVjxF6vpLJyixBlRfcMYXVxJAKZk2yP8RABERABERABERCBayCg4D4R5YjrXs3tleFeWU2YWT8xtN2PRKC/5vBIF3YTAREQAREQAREQgYMRUHAfDNX7hmxP6BXtWGUVO1sjFNjvY+YVERABERABERABEXg0BBTcJ8w4gprtIl32XmSuc+2EkHYVAREQAREQAREQARG4MwQU3CdMGIJ7rnCvXMYG4e0+7hVCXhMBERABERABERCBt4mAgvuEeWVLyUsEdGz76+5OCG9XERABERABERABERCBO0BAwX3iJGXlur+CrkX4XAHvthPD2n0gwP8g5M3Mp59++pSfgc8HWD1EQAREQAREQARE4LURUHCfYQayas12kZS94o0QpL33cc/V7q4rzj+fmGAGfilX/0MQm2AN3iubzz16JgIiIAIiIAIiIALXQ0DBfT2sjXQEAhHS/SYlLlLvr2I8wq1dREAEREAEREAEROBqCCi4rwa1gV6KwNySQ//V9YjwXgWfIr3/F0KxDpKWIiACIiACIiAC10BAwX0NlI1xFAJsq9m3PSTium3YVpIyR8R2i+xZPyo5O4mACIiACIiACIjAgQgouA8ESrPXQYDV7F69RkhvZUSf2PU59gj5CG8PERABERABERABEbg0AgruSyOs/7MhkG8dyTfCRHz3ijUBettIbCK40+eDDz547xtLsiqu4AY5SxEQAREQAREQgUsioOC+JLr6vggCc4UaoY0I71VtBfdFpkCnIiACIiACIiACL0BAwf0CsDS9LgJZoUZEz8hZoc4f4ru3mbTg7nN80McVbhCxFAEREAEREAERuCQCCu5LoqvvkxBAGPcHIuOwV62xQTxTZ0tJ7NPWwn3WT0rSziIgAiIgAiIgAiKwBwEF9x6AbH59BLKS3R+abPGc7Hpvd+w++eST528tST+OiGx8zP7YWIqACIiACIiACIjAJRBQcF8CVX2KgAiIgAiIgAiIgAiIwP9HQMEtFURABERABERABERABETggggouC8Irq5FQAREQAREQAREQAREQMEtB0RABERABERABERABETggggouC8Irq5FQAREQAREQAREQAREQMEtB0RABERABERABERABETggggouC8Irq5FQAREQAREQAREQAREQMEtB05GIL/yyHdcd3nO77vO92jPH8A5OXEdiIAIiIAIiIAIiMAVEFBwXwHktx4ignslhs/5i44K7rfOIscnAiIgAiIgAm8XAQX3253bq41sS3D/9Kc/ffrwww+ffwkyycyV8F4B759rJ/H8UiS/FjkFd/v6yle+8i4GfS1FQAREQAREQARE4FYQUHDfykzccR6HCO7YtDCOGI/gRlC/RHBPX7N+x1CaugiIgAiIgAiIwBtEQMH9Bif12kPaEtwR06utJuTXK9iHCu4I9fjMincf7auvey4CIiACIiACIiACr42Agvu1Z+ANxI/g7g9Lct5bRhhmhHVWurF56Qr3p59++rwynph9RIDjq697LgIiIAIiIAIiIAKvjYCC+7Vn4A3E31rh7qG10EYs96r0oSvcCu5G1XMREAEREAEREIF7QEDBfQ+zdOM5HiK4VyvQxwhut5TcOBlMTwREQAREQARE4D0EFNzvQeKFlyJwqODu/dwR4NlWwjYQPkTJ3mxWxGnPdfonXn8Ac9Zfmr/2IiACIiACIiACInBJBBTcl0T3QXwfIrh//vOfPwvm3rsdEd37vOOH9ojrjz/++J0gb8EdWNu2xXfapm3XySPXPERABERABERABETgGggouK+BsjFEQAREQAREQAREQAQeFgEF98NOvQMXAREQAREQAREQARG4BgIK7mugbAwREAEREAEREAEREIGHRUDB/bBT78BFQAREQAREQAREQASugYCC+xooG0MEREAEREAEREAEROBhEVBwP+zUO3AREAEREAEREAEREIFrIKDgvgbKxhABERABERABERABEXhYBBTcDzv1DlwEREAEREAEREAEROAaCCi4r4GyMURABERABERABERABB4WAQX3w069AxcBERABERABERABEbgGAgrua6BsDBEQAREQAREQAREQgYdFQMH9sFPvwEVABERABERABERABK6BgIL7GigbQwREQAREQAREQARE4GERUHA/7NQ7cBEQAREQAREQAREQgWsgoOC+BsrGEAEREAEREAEREAEReFgEFNwPO/UOXAREQAREQAREQARE4BoIKLivgbIxREAEREAEREAEREAEHhaB/wdMZvMot5El9gAAAABJRU5ErkJggg==)\n"
      ]
    },
    {
      "cell_type": "code",
      "metadata": {
        "id": "onvhdSvWiVAs",
        "colab_type": "code",
        "colab": {
          "base_uri": "https://localhost:8080/",
          "height": 68
        },
        "outputId": "164253f9-1f78-4f20-e37b-fa73cd82f0df"
      },
      "source": [
        "df_clean.sexo.value_counts()"
      ],
      "execution_count": 142,
      "outputs": [
        {
          "output_type": "execute_result",
          "data": {
            "text/plain": [
              "1    7384\n",
              "0    4808\n",
              "Name: sexo, dtype: int64"
            ]
          },
          "metadata": {
            "tags": []
          },
          "execution_count": 142
        }
      ]
    },
    {
      "cell_type": "code",
      "metadata": {
        "id": "0wV6LitCCkIZ",
        "colab_type": "code",
        "outputId": "c752f26d-045d-4c09-c072-c4bfa8663e7d",
        "colab": {
          "base_uri": "https://localhost:8080/",
          "height": 68
        }
      },
      "source": [
        "#Verificando a quantidade de valores 0 e 1 dentro da variável sexo\n",
        "df_clean.sexo.value_counts(1)"
      ],
      "execution_count": 143,
      "outputs": [
        {
          "output_type": "execute_result",
          "data": {
            "text/plain": [
              "1    0.605643\n",
              "0    0.394357\n",
              "Name: sexo, dtype: float64"
            ]
          },
          "metadata": {
            "tags": []
          },
          "execution_count": 143
        }
      ]
    },
    {
      "cell_type": "code",
      "metadata": {
        "id": "6llZzqcOFtfR",
        "colab_type": "code",
        "outputId": "d0fb3e29-03bc-45b5-ba9a-043b635566d9",
        "colab": {
          "base_uri": "https://localhost:8080/",
          "height": 282
        }
      },
      "source": [
        "#Plotando gráfico de pizza dos valores 0 e 1 da variável sexo\n",
        "df_clean['sexo'].value_counts().plot.pie();\n",
        "print(' 1 = Masculino\\n 2 = Feminino')"
      ],
      "execution_count": 145,
      "outputs": [
        {
          "output_type": "stream",
          "text": [
            " 1 = Masculino\n",
            " 2 = Feminino\n"
          ],
          "name": "stdout"
        },
        {
          "output_type": "display_data",
          "data": {
            "image/png": "[encoded data removed]",
            "text/plain": [
              "<Figure size 432x288 with 1 Axes>"
            ]
          },
          "metadata": {
            "tags": []
          }
        }
      ]
    },
    {
      "cell_type": "markdown",
      "metadata": {
        "id": "5aIT4LGDF2zK",
        "colab_type": "text"
      },
      "source": [
        "## Quais as palavras mais utilizadas para relatar os crimes?"
      ]
    },
    {
      "cell_type": "code",
      "metadata": {
        "id": "VE-hgBcDJlO8",
        "colab_type": "code",
        "outputId": "cba510a0-74d5-4dea-c1ed-ae529db116bb",
        "colab": {
          "base_uri": "https://localhost:8080/",
          "height": 88
        }
      },
      "source": [
        "#Exemplos de descrições de crimes\n",
        "display(df_clean.descricao.iloc[100])\n",
        "display(df_clean.descricao.iloc[150])\n",
        "display(df_clean.descricao.iloc[200])"
      ],
      "execution_count": 0,
      "outputs": [
        {
          "output_type": "display_data",
          "data": {
            "text/plain": [
              "'Deixamos as duas bicicletas no bicicletario do mercado, presas com cadeado, bem proximo de uma viatura com vigias do mercado. Ao sair as bicicletas tinham sumido.'"
            ]
          },
          "metadata": {
            "tags": []
          }
        },
        {
          "output_type": "display_data",
          "data": {
            "text/plain": [
              "'Parei em frente a minha casa para apenas entrar e tomar um café, pois tinha que sair novamente. Demorei 20 minutos e ao sair deparei com meu veículo arrombado.'"
            ]
          },
          "metadata": {
            "tags": []
          }
        },
        {
          "output_type": "display_data",
          "data": {
            "text/plain": [
              "'Fui assaltado ao voltar na faculdade, quase em frente a uma escola, 3 jovens aparentemente da mesma idade, de moletom e boné, 1 estava armado. '"
            ]
          },
          "metadata": {
            "tags": []
          }
        }
      ]
    },
    {
      "cell_type": "code",
      "metadata": {
        "id": "dwyDCWL6KYsb",
        "colab_type": "code",
        "outputId": "5385b7b1-3539-4f87-85ec-6b8caf1adca1",
        "colab": {
          "base_uri": "https://localhost:8080/",
          "height": 34
        }
      },
      "source": [
        "#Transformar coluna descricao em string\n",
        "df_clean.descricao = str(df_clean.descricao)\n",
        "\n",
        "#Concatenar as palavras\n",
        "all_descricao = \" \".join(s for s in df_clean.descricao)\n",
        "\n",
        "#Ver quantidade de palavras\n",
        "print('Quantidade de palavras: {}'.format(len(all_descricao)))"
      ],
      "execution_count": 0,
      "outputs": [
        {
          "output_type": "stream",
          "text": [
            "Quantidade de palavras: 8473439\n"
          ],
          "name": "stdout"
        }
      ]
    },
    {
      "cell_type": "code",
      "metadata": {
        "id": "d-pFVwqILpoT",
        "colab_type": "code",
        "colab": {}
      },
      "source": [
        "# lista de stopword\n",
        "stopwords = set(STOPWORDS)\n",
        "stopwords.update([\"da\", \"meu\", \"em\", \"você\", \"de\", \"ao\", \"os\", \"foi\", \"para\", \"caso\"])\n",
        "\n",
        "# gerar uma wordcloud\n",
        "wordcloud = WordCloud(stopwords=stopwords, background_color = \"black\", width=1600, height=800).generate(all_descricao)\n",
        "\n",
        "wordcloud.to_file('descricoes.png');"
      ],
      "execution_count": 0,
      "outputs": []
    },
    {
      "cell_type": "code",
      "metadata": {
        "id": "RKerEHGIQxAN",
        "colab_type": "code",
        "colab": {
          "base_uri": "https://localhost:8080/",
          "height": 575
        },
        "outputId": "bbdb8931-a9b0-483d-a857-6f2006acd7b5"
      },
      "source": [
        "#Criar uma WordCloud sobre uma imagem\n",
        "# endereço LOCAL da SUA imagem\n",
        "sp_mask = np.array(Image.open(\"/content/planeje_mapadacidade.png\"))\n",
        "   \n",
        "# gerar uma wordcloud\n",
        "wordcloud = WordCloud(stopwords=stopwords,\n",
        "                      background_color=\"black\",\n",
        "                      width=1000, height=1000, max_words=2000,\n",
        "                      mask=sp_mask, max_font_size=200,\n",
        "                      min_font_size=1).generate(all_descricao)\n",
        "\n",
        "# mostrar a imagem final\n",
        "fig, ax = plt.subplots(figsize=(10,10))\n",
        "ax.imshow(wordcloud, interpolation='bilinear')\n",
        "ax.set_axis_off()\n",
        "\n",
        "wordcloud.to_file(\"descricoes.png\");"
      ],
      "execution_count": 152,
      "outputs": [
        {
          "output_type": "display_data",
          "data": {
            "image/png": "[encoded data removed]",
            "text/plain": [
              "<Figure size 720x720 with 1 Axes>"
            ]
          },
          "metadata": {
            "tags": []
          }
        }
      ]
    },
    {
      "cell_type": "markdown",
      "metadata": {
        "id": "qaLAnPpoRsbr",
        "colab_type": "text"
      },
      "source": [
        "# Conclusão"
      ]
    },
    {
      "cell_type": "markdown",
      "metadata": {
        "id": "6HVVlYBzR6pZ",
        "colab_type": "text"
      },
      "source": [
        "## **Conclusão sobre a análise**\n",
        "Iniciamos a análise com um dataset composto por 36 variáveis e 12899 entradas, an analisar as primeiras entradas, tive que analisar alguns comentários para identificar o que significava alguns dados dentro das variáveis, como o sexo por exemplo.\n",
        "Para não ter problema com com nomes das variáveis dentro do Python, alterei alguns nomes colocando \"_\" no lugar de espaços em branco.\n",
        "Retirar valores outliers foi um grande desafio quando se trata de prejuizos de pessoas em um crime, então mantive alguns outliers mantendo-os no dataset.\n",
        "Realizei algumas buscas na internet mas infelizmente não encontrei nada que me indicasse o significado dos valores numéricos dentro da variável \"ipo_assalto_id\".\n",
        "Devido aos bens materiais envolvidos em crimes estarem em forma de variável, criei um Data Frame simplificando a informação."
      ]
    },
    {
      "cell_type": "markdown",
      "metadata": {
        "id": "RFwiMO-EUlbJ",
        "colab_type": "text"
      },
      "source": [
        "## **Conclusão referente as informações extraidas do dataset**\n",
        "Analisando os bairros com maior índice de crimes encontramos 12,58% de dados nulos, e 5,72% como \"São Paulo\", o que provavelmente o input dos dados foi de maneira erronea, dos demais temos Consolação, Vila Mariana, Bela Vista, Pinheiros e Ipiranga.\n",
        "\n",
        "Os item mais envolvidos no crime é o celular, seguido por outros não descriminados, carteiras, documentos, bolsas e mochilas, e etc.\n",
        "\n",
        "O valor dos prejuizos no período de 8 anos foi de R$15.289.267,98.\n",
        "\n",
        "O tipo de sexo mais envolvido é o Masculino com 65,56% "
      ]
    }
  ]
}