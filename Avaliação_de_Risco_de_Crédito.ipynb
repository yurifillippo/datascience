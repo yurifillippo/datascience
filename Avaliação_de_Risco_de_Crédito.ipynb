{
  "nbformat": 4,
  "nbformat_minor": 0,
  "metadata": {
    "colab": {
      "name": "Copy of [PROJETO] Avaliação de Risco de Crédito.ipynb",
      "provenance": [],
      "collapsed_sections": [
        "gq7yH0ZlGn2q",
        "8yJQKuzW9u1K",
        "zTdclzuw94yI",
        "00KDL8GQXcN3",
        "acimgx5a_rRx",
        "3uB-0kDaAYBh",
        "gvAJbNumJ5lX"
      ],
      "include_colab_link": true
    },
    "kernelspec": {
      "name": "python3",
      "display_name": "Python 3"
    }
  },
  "cells": [
    {
      "cell_type": "markdown",
      "metadata": {
        "id": "view-in-github",
        "colab_type": "text"
      },
      "source": [
        "<a href=\"https://colab.research.google.com/github/yurifillippo/datascience/blob/master/Avalia%C3%A7%C3%A3o_de_Risco_de_Cr%C3%A9dito.ipynb\" target=\"_parent\"><img src=\"https://colab.research.google.com/assets/colab-badge.svg\" alt=\"Open In Colab\"/></a>"
      ]
    },
    {
      "cell_type": "markdown",
      "metadata": {
        "id": "-NK84vCl_yZo",
        "colab_type": "text"
      },
      "source": [
        "# Avaliação de Risco de Crédito\n",
        "\n",
        "Para uma instituição financeira, avaliar se um cliente cumprirá com suas obrigações financeiras é algo importante e ao mesmo tempo muito dificil.\n",
        "Cada vez mais, soluções vêm sendo desenvolvidas e aprimoradas visando minimizar o risco de default.\n",
        "\n",
        "Default é o termo utilizado para indicado o não cumprimento das obrigações e/ou condições de um empréstimo (como financiamentos ou dívidas de cartão de crédito). Normalmente, o principal motivo para o descumprimento das condições de pagamento é incapacidade financeira do cliente.\n",
        "\n",
        "## Contextualização do Problema\n",
        "\n",
        "Neste problema, o objetivo é prever qual a probabilidade de um cliente da Startup Nubank não coumprir com suas obrigações financeiras e deixar de pagar a sua fatura do Cartão de Crédito.\n",
        "\n",
        "Vale ressaltar que essa avaliação deve ser realizada no momento em que o cliente solicita o cartão (normalmente no primeiro contato com a instituição).\n",
        "\n",
        "\n",
        "<p align=center>\n",
        "  <img src=\"https://ddif61068scye.cloudfront.net/cdn/11/images/20150310174527faepce.jpg\" height=\"300px\">\n",
        "</p>"
      ]
    },
    {
      "cell_type": "markdown",
      "metadata": {
        "id": "gq7yH0ZlGn2q",
        "colab_type": "text"
      },
      "source": [
        "# Análise Exploratória"
      ]
    },
    {
      "cell_type": "code",
      "metadata": {
        "id": "SAIBZiQuFnnE",
        "colab_type": "code",
        "colab": {}
      },
      "source": [
        "# Importar bibliotecas\n",
        "import pandas as pd\n",
        "import matplotlib.pyplot as plt\n",
        "import seaborn as sns\n",
        "import numpy as np\n",
        "\n",
        "# Configurar dataset\n",
        "sns.set_style('dark')"
      ],
      "execution_count": 0,
      "outputs": []
    },
    {
      "cell_type": "code",
      "metadata": {
        "id": "LtQqAgvdp44q",
        "colab_type": "code",
        "colab": {}
      },
      "source": [
        "# Importar dataset\n",
        "df = pd.read_csv(\"http://dl.dropboxusercontent.com/s/xn2a4kzf0zer0xu/acquisition_train.csv?dl=0\")"
      ],
      "execution_count": 0,
      "outputs": []
    },
    {
      "cell_type": "code",
      "metadata": {
        "id": "TZnA1psvGI_D",
        "colab_type": "code",
        "outputId": "cd1e26cf-640e-4ae1-efaf-99c5d6e24baa",
        "colab": {
          "base_uri": "https://localhost:8080/"
        }
      },
      "source": [
        "# Tamanho do dataset\n",
        "print(\"Variáveis: {}\\nEntradas: {}\\n\\n\".format(df.shape[1], df.shape[0]))\n",
        "\n",
        "# Primeiras 5 entradas\n",
        "df.head()"
      ],
      "execution_count": 0,
      "outputs": [
        {
          "output_type": "stream",
          "text": [
            "Variáveis: 43\n",
            "Entradas: 45000\n",
            "\n",
            "\n"
          ],
          "name": "stdout"
        },
        {
          "output_type": "execute_result",
          "data": {
            "text/html": [
              "<div>\n",
              "<style scoped>\n",
              "    .dataframe tbody tr th:only-of-type {\n",
              "        vertical-align: middle;\n",
              "    }\n",
              "\n",
              "    .dataframe tbody tr th {\n",
              "        vertical-align: top;\n",
              "    }\n",
              "\n",
              "    .dataframe thead th {\n",
              "        text-align: right;\n",
              "    }\n",
              "</style>\n",
              "<table border=\"1\" class=\"dataframe\">\n",
              "  <thead>\n",
              "    <tr style=\"text-align: right;\">\n",
              "      <th></th>\n",
              "      <th>ids</th>\n",
              "      <th>target_default</th>\n",
              "      <th>score_1</th>\n",
              "      <th>score_2</th>\n",
              "      <th>score_3</th>\n",
              "      <th>score_4</th>\n",
              "      <th>score_5</th>\n",
              "      <th>score_6</th>\n",
              "      <th>risk_rate</th>\n",
              "      <th>last_amount_borrowed</th>\n",
              "      <th>last_borrowed_in_months</th>\n",
              "      <th>credit_limit</th>\n",
              "      <th>reason</th>\n",
              "      <th>income</th>\n",
              "      <th>facebook_profile</th>\n",
              "      <th>state</th>\n",
              "      <th>zip</th>\n",
              "      <th>channel</th>\n",
              "      <th>job_name</th>\n",
              "      <th>real_state</th>\n",
              "      <th>ok_since</th>\n",
              "      <th>n_bankruptcies</th>\n",
              "      <th>n_defaulted_loans</th>\n",
              "      <th>n_accounts</th>\n",
              "      <th>n_issues</th>\n",
              "      <th>application_time_applied</th>\n",
              "      <th>application_time_in_funnel</th>\n",
              "      <th>email</th>\n",
              "      <th>external_data_provider_credit_checks_last_2_year</th>\n",
              "      <th>external_data_provider_credit_checks_last_month</th>\n",
              "      <th>external_data_provider_credit_checks_last_year</th>\n",
              "      <th>external_data_provider_email_seen_before</th>\n",
              "      <th>external_data_provider_first_name</th>\n",
              "      <th>external_data_provider_fraud_score</th>\n",
              "      <th>lat_lon</th>\n",
              "      <th>marketing_channel</th>\n",
              "      <th>profile_phone_number</th>\n",
              "      <th>reported_income</th>\n",
              "      <th>shipping_state</th>\n",
              "      <th>shipping_zip_code</th>\n",
              "      <th>profile_tags</th>\n",
              "      <th>user_agent</th>\n",
              "      <th>target_fraud</th>\n",
              "    </tr>\n",
              "  </thead>\n",
              "  <tbody>\n",
              "    <tr>\n",
              "      <th>0</th>\n",
              "      <td>343b7e7b-2cf8-e508-b8fd-0a0285af30aa</td>\n",
              "      <td>False</td>\n",
              "      <td>1Rk8w4Ucd5yR3KcqZzLdow==</td>\n",
              "      <td>IOVu8au3ISbo6+zmfnYwMg==</td>\n",
              "      <td>350.0</td>\n",
              "      <td>101.800832</td>\n",
              "      <td>0.259555</td>\n",
              "      <td>108.427273</td>\n",
              "      <td>0.40</td>\n",
              "      <td>25033.92</td>\n",
              "      <td>36.0</td>\n",
              "      <td>0.0</td>\n",
              "      <td>mLVIVxoGY7TUDJ1FyFoSIZi1SFcaBmO01AydRchaEiGYtU...</td>\n",
              "      <td>65014.12</td>\n",
              "      <td>True</td>\n",
              "      <td>sjJbkqJS7cXalHLBFA+EOQ==</td>\n",
              "      <td>Ernn+uVXCMq/6ARrBCcd+A==</td>\n",
              "      <td>NCqL3QBx0pscDnx3ixKwXg==</td>\n",
              "      <td>mLVIVxoGY7TUDJ1FyFoSIZi1SFcaBmO01AydRchaEiGYtU...</td>\n",
              "      <td>N5/CE7lSkAfB04hVFFwllw==</td>\n",
              "      <td>NaN</td>\n",
              "      <td>0.0</td>\n",
              "      <td>0.0</td>\n",
              "      <td>18.0</td>\n",
              "      <td>18.0</td>\n",
              "      <td>07:52:34</td>\n",
              "      <td>444</td>\n",
              "      <td>outlook.com</td>\n",
              "      <td>NaN</td>\n",
              "      <td>2</td>\n",
              "      <td>0.0</td>\n",
              "      <td>51.0</td>\n",
              "      <td>leidelaura</td>\n",
              "      <td>645</td>\n",
              "      <td>(-29.151545708122246, -51.1386461804385)</td>\n",
              "      <td>Invite-email</td>\n",
              "      <td>514-9840782</td>\n",
              "      <td>57849.0</td>\n",
              "      <td>BR-MT</td>\n",
              "      <td>17528</td>\n",
              "      <td>{'tags': ['n19', 'n8']}</td>\n",
              "      <td>Mozilla/5.0 (Linux; Android 6.0.1; SGP771 Buil...</td>\n",
              "      <td>NaN</td>\n",
              "    </tr>\n",
              "    <tr>\n",
              "      <th>1</th>\n",
              "      <td>bc2c7502-bbad-0f8c-39c3-94e881967124</td>\n",
              "      <td>False</td>\n",
              "      <td>DGCQep2AE5QRkNCshIAlFQ==</td>\n",
              "      <td>SaamrHMo23l/3TwXOWgVzw==</td>\n",
              "      <td>370.0</td>\n",
              "      <td>97.062615</td>\n",
              "      <td>0.942655</td>\n",
              "      <td>92.002546</td>\n",
              "      <td>0.24</td>\n",
              "      <td>NaN</td>\n",
              "      <td>NaN</td>\n",
              "      <td>39726.0</td>\n",
              "      <td>mLVIVxoGY7TUDJ1FyFoSIZi1SFcaBmO01AydRchaEiGYtU...</td>\n",
              "      <td>100018.91</td>\n",
              "      <td>False</td>\n",
              "      <td>xsd3ZdsI3356I3xMxZeiqQ==</td>\n",
              "      <td>rlWIXTBO+VOa34+SpGyhlQ==</td>\n",
              "      <td>NCqL3QBx0pscDnx3ixKwXg==</td>\n",
              "      <td>mLVIVxoGY7TUDJ1FyFoSIZi1SFcaBmO01AydRchaEiGYtU...</td>\n",
              "      <td>N5/CE7lSkAfB04hVFFwllw==</td>\n",
              "      <td>50.0</td>\n",
              "      <td>0.0</td>\n",
              "      <td>0.0</td>\n",
              "      <td>14.0</td>\n",
              "      <td>14.0</td>\n",
              "      <td>02:34:29</td>\n",
              "      <td>346</td>\n",
              "      <td>gmail.com</td>\n",
              "      <td>0.0</td>\n",
              "      <td>1</td>\n",
              "      <td>0.0</td>\n",
              "      <td>17.0</td>\n",
              "      <td>diocezio</td>\n",
              "      <td>243</td>\n",
              "      <td>(-19.687710705798963, -47.94151536525154)</td>\n",
              "      <td>Radio-commercial</td>\n",
              "      <td>251-3659293</td>\n",
              "      <td>4902.0</td>\n",
              "      <td>BR-RS</td>\n",
              "      <td>40933</td>\n",
              "      <td>{'tags': ['n6', 'n7', 'nim']}</td>\n",
              "      <td>Mozilla/5.0 (Linux; Android 5.0.2; SAMSUNG SM-...</td>\n",
              "      <td>NaN</td>\n",
              "    </tr>\n",
              "    <tr>\n",
              "      <th>2</th>\n",
              "      <td>669630dd-2e6a-0396-84bf-455e5009c922</td>\n",
              "      <td>True</td>\n",
              "      <td>DGCQep2AE5QRkNCshIAlFQ==</td>\n",
              "      <td>Fv28Bz0YRTVAT5kl1bAV6g==</td>\n",
              "      <td>360.0</td>\n",
              "      <td>100.027073</td>\n",
              "      <td>0.351918</td>\n",
              "      <td>112.892453</td>\n",
              "      <td>0.29</td>\n",
              "      <td>7207.92</td>\n",
              "      <td>36.0</td>\n",
              "      <td>NaN</td>\n",
              "      <td>mLVIVxoGY7TUDJ1FyFoSIZi1SFcaBmO01AydRchaEiGYtU...</td>\n",
              "      <td>65023.65</td>\n",
              "      <td>NaN</td>\n",
              "      <td>Ygq6MsM98oC8yceExr69Ig==</td>\n",
              "      <td>PjTIDfJsK0DKL9fO7vuW2g==</td>\n",
              "      <td>NCqL3QBx0pscDnx3ixKwXg==</td>\n",
              "      <td>mLVIVxoGY7TUDJ1FyFoSIZi1SFcaBmO01AydRchaEiGYtU...</td>\n",
              "      <td>n+xK9CfX0bCn77lClTWviw==</td>\n",
              "      <td>NaN</td>\n",
              "      <td>0.0</td>\n",
              "      <td>0.0</td>\n",
              "      <td>10.0</td>\n",
              "      <td>NaN</td>\n",
              "      <td>00:60:02</td>\n",
              "      <td>6</td>\n",
              "      <td>gmail.com</td>\n",
              "      <td>NaN</td>\n",
              "      <td>2</td>\n",
              "      <td>NaN</td>\n",
              "      <td>9.0</td>\n",
              "      <td>veralucia</td>\n",
              "      <td>65</td>\n",
              "      <td>(-28.748023890412284, -51.867279334353995)</td>\n",
              "      <td>Waiting-list</td>\n",
              "      <td>230-6097993</td>\n",
              "      <td>163679.0</td>\n",
              "      <td>BR-RR</td>\n",
              "      <td>50985</td>\n",
              "      <td>{'tags': ['n0', 'n17', 'nim', 'da']}</td>\n",
              "      <td>Mozilla/5.0 (Linux; Android 6.0.1; SGP771 Buil...</td>\n",
              "      <td>NaN</td>\n",
              "    </tr>\n",
              "    <tr>\n",
              "      <th>3</th>\n",
              "      <td>d235609e-b6cb-0ccc-a329-d4f12e7ebdc1</td>\n",
              "      <td>False</td>\n",
              "      <td>1Rk8w4Ucd5yR3KcqZzLdow==</td>\n",
              "      <td>dCm9hFKfdRm7ej3jW+gyxw==</td>\n",
              "      <td>510.0</td>\n",
              "      <td>101.599485</td>\n",
              "      <td>0.987673</td>\n",
              "      <td>94.902491</td>\n",
              "      <td>0.32</td>\n",
              "      <td>NaN</td>\n",
              "      <td>NaN</td>\n",
              "      <td>54591.0</td>\n",
              "      <td>mLVIVxoGY7TUDJ1FyFoSIZi1SFcaBmO01AydRchaEiGYtU...</td>\n",
              "      <td>68830.01</td>\n",
              "      <td>False</td>\n",
              "      <td>KET/Pmr6rHp1RJ/P9ymztw==</td>\n",
              "      <td>Cc/kWDLQH3dpHv5HU+pLVA==</td>\n",
              "      <td>NCqL3QBx0pscDnx3ixKwXg==</td>\n",
              "      <td>mLVIVxoGY7TUDJ1FyFoSIZi1SFcaBmO01AydRchaEiE56f...</td>\n",
              "      <td>n+xK9CfX0bCn77lClTWviw==</td>\n",
              "      <td>NaN</td>\n",
              "      <td>1.0</td>\n",
              "      <td>0.0</td>\n",
              "      <td>19.0</td>\n",
              "      <td>19.0</td>\n",
              "      <td>11:20:49</td>\n",
              "      <td>406</td>\n",
              "      <td>spgov.com</td>\n",
              "      <td>NaN</td>\n",
              "      <td>3</td>\n",
              "      <td>NaN</td>\n",
              "      <td>38.0</td>\n",
              "      <td>venice</td>\n",
              "      <td>815</td>\n",
              "      <td>(-17.520650158450454, -39.75801139933186)</td>\n",
              "      <td>Waiting-list</td>\n",
              "      <td>261-3543751</td>\n",
              "      <td>1086.0</td>\n",
              "      <td>BR-RN</td>\n",
              "      <td>37825</td>\n",
              "      <td>{'tags': ['n4']}</td>\n",
              "      <td>Mozilla/5.0 (Linux; Android 6.0; HTC One X10 B...</td>\n",
              "      <td>NaN</td>\n",
              "    </tr>\n",
              "    <tr>\n",
              "      <th>4</th>\n",
              "      <td>9e0eb880-e8f4-3faa-67d8-f5cdd2b3932b</td>\n",
              "      <td>False</td>\n",
              "      <td>8k8UDR4Yx0qasAjkGrUZLw==</td>\n",
              "      <td>+CxEO4w7jv3QPI/BQbyqAA==</td>\n",
              "      <td>500.0</td>\n",
              "      <td>98.474289</td>\n",
              "      <td>0.532539</td>\n",
              "      <td>118.126207</td>\n",
              "      <td>0.18</td>\n",
              "      <td>NaN</td>\n",
              "      <td>NaN</td>\n",
              "      <td>NaN</td>\n",
              "      <td>mLVIVxoGY7TUDJ1FyFoSIZi1SFcaBmO01AydRchaEiGYtU...</td>\n",
              "      <td>60011.29</td>\n",
              "      <td>True</td>\n",
              "      <td>xsd3ZdsI3356I3xMxZeiqQ==</td>\n",
              "      <td>i036nmJ7rfxo+3EvCD7Jnw==</td>\n",
              "      <td>NCqL3QBx0pscDnx3ixKwXg==</td>\n",
              "      <td>mLVIVxoGY7TUDJ1FyFoSIZi1SFcaBmO01AydRchaEiGYtU...</td>\n",
              "      <td>n+xK9CfX0bCn77lClTWviw==</td>\n",
              "      <td>NaN</td>\n",
              "      <td>0.0</td>\n",
              "      <td>0.0</td>\n",
              "      <td>11.0</td>\n",
              "      <td>NaN</td>\n",
              "      <td>13:39:03</td>\n",
              "      <td>240</td>\n",
              "      <td>gmail.com</td>\n",
              "      <td>0.0</td>\n",
              "      <td>2</td>\n",
              "      <td>1.0</td>\n",
              "      <td>46.0</td>\n",
              "      <td>darzisa</td>\n",
              "      <td>320</td>\n",
              "      <td>(-16.574259446978008, -39.90990074785962)</td>\n",
              "      <td>Invite-email</td>\n",
              "      <td>102-3660162</td>\n",
              "      <td>198618.0</td>\n",
              "      <td>BR-MT</td>\n",
              "      <td>52827</td>\n",
              "      <td>{'tags': ['pro+aty', 'n19', 'da', 'b19']}</td>\n",
              "      <td>Mozilla/5.0 (Linux; Android 7.0; Pixel C Build...</td>\n",
              "      <td>NaN</td>\n",
              "    </tr>\n",
              "  </tbody>\n",
              "</table>\n",
              "</div>"
            ],
            "text/plain": [
              "                                    ids  ... target_fraud\n",
              "0  343b7e7b-2cf8-e508-b8fd-0a0285af30aa  ...          NaN\n",
              "1  bc2c7502-bbad-0f8c-39c3-94e881967124  ...          NaN\n",
              "2  669630dd-2e6a-0396-84bf-455e5009c922  ...          NaN\n",
              "3  d235609e-b6cb-0ccc-a329-d4f12e7ebdc1  ...          NaN\n",
              "4  9e0eb880-e8f4-3faa-67d8-f5cdd2b3932b  ...          NaN\n",
              "\n",
              "[5 rows x 43 columns]"
            ]
          },
          "metadata": {
            "tags": []
          },
          "execution_count": 150
        }
      ]
    },
    {
      "cell_type": "markdown",
      "metadata": {
        "id": "aM2pecTk_FzX",
        "colab_type": "text"
      },
      "source": [
        "Olhando para os dados conseguimos identificar que temos entradas criptografadas, e muitos valores Nan, o que nos leva a ter que realizar um trabalho de tratamento no dataset."
      ]
    },
    {
      "cell_type": "markdown",
      "metadata": {
        "id": "35BvQkrOSGEW",
        "colab_type": "text"
      },
      "source": [
        "**Dicionário de Variáveis**\n",
        "\n",
        "**ids** - ID do cliente\n",
        "\n",
        "**target_default** - A variável alvo para analisar o risco de default (inadimplência)\n",
        "\n",
        "**score_1** - Score 1, codificado\n",
        "\n",
        "**score_2** - Score 2, codificado\n",
        "\n",
        "**score_3** - Score 3, valor numérico\n",
        "\n",
        "**score_4** - Score 4, valor numérico\n",
        "\n",
        "**score_5** - Score 5, valor numérico\n",
        "\n",
        "**score_6** - Score 6, valor numérico\n",
        "\n",
        "**risk_rate** - Taxa de risco\n",
        "\n",
        "**last_amount_borrowed** - Último montante emprestado, valores NaN representam que cliente nunca pegou emprestimo, ou falta de dados\n",
        "\n",
        "**last_borrowed_in_months** - Meses do ultimo empréstimo\n",
        "\n",
        "**credit_limit** - Limite de crédito\n",
        "\n",
        "**reason** - Informações codificadas\n",
        "\n",
        "**income** - Renda do cliente\n",
        "\n",
        "**facebook_profile** - Informações se o cliente tem Facebook\n",
        "\n",
        "**state** - Estado, informação codificada\n",
        "\n",
        "**zip** - Informações codificadas\n",
        "\n",
        "**channel** - Informações codificadas\n",
        "\n",
        "**job_name** - Informações codificadas\n",
        "\n",
        "**real_state** - Informações codificadas\n",
        "\n",
        "**ok_since** - Não identificado\n",
        "\n",
        "**n_bankruptcies** - Não identificado\n",
        "\n",
        "**n_defaulted_loans** - Quantidade de empréstimos inadimplentes\n",
        "\n",
        "**n_accounts** - Numero de contas\n",
        "\n",
        "**n_issues** - Não identificado\n",
        "\n",
        "**application_time_applied** - Tempo de aplicação\n",
        "\n",
        "**application_time_in_funnel** - Tempo de aplicação no funil\n",
        "email - Servidor do e- mail do cliente\n",
        "\n",
        "**external_data_provider_credit_checks_last_2_year** - Verificações de crédito de provedor de dados externos nos últimos 2 anos\n",
        "\n",
        "**external_data_provider_credit_checks_last_month** - Verificações de crédito de provedor de dados externo no mês passado\n",
        "\n",
        "**external_data_provider_credit_checks_last_year** - Verificações de crédito de provedor de dados externos no ano passado\n",
        "\n",
        "**external_data_provider_email_seen_before** - Email do provedor de dados externo visto antes\n",
        "\n",
        "**external_data_provider_first_name** - Primeiro nome do provedor de dados externo \n",
        "\n",
        "**external_data_provider_fraud_score** - Pontuação de fraude do provedor de dados externo\n",
        "\n",
        "**lat_lon** - Latitude e Longitude\n",
        "\n",
        "**marketing_channel** - Canal de marketing\n",
        "\n",
        "**profile_phone_number** - Número de telefone do perfil\n",
        "\n",
        "**reported_income** - Renda reportada\n",
        "\n",
        "**shipping_state** - Estado de envio\n",
        "\n",
        "**shipping_zip_code** - Código postal de envio\n",
        "\n",
        "**profile_tags** - Tags de perfil  (contém um dicionário com tags atribuídas a cada cliente, aparentemente)\n",
        "\n",
        "**user_agent** - Agente de usuário\n",
        "\n",
        "**target_fraud** - Fraude alvo (seria a variável alvo de outro modelo para este mesmo dataset, onde o objetivo seria a detecção de fraude.)"
      ]
    },
    {
      "cell_type": "code",
      "metadata": {
        "id": "N2s6eMlRjSU9",
        "colab_type": "code",
        "outputId": "7714eec0-828b-4287-d51d-65430bd308fd",
        "colab": {
          "base_uri": "https://localhost:8080/"
        }
      },
      "source": [
        "# Resumo estatístico dos dados\n",
        "df.describe()"
      ],
      "execution_count": 0,
      "outputs": [
        {
          "output_type": "execute_result",
          "data": {
            "text/html": [
              "<div>\n",
              "<style scoped>\n",
              "    .dataframe tbody tr th:only-of-type {\n",
              "        vertical-align: middle;\n",
              "    }\n",
              "\n",
              "    .dataframe tbody tr th {\n",
              "        vertical-align: top;\n",
              "    }\n",
              "\n",
              "    .dataframe thead th {\n",
              "        text-align: right;\n",
              "    }\n",
              "</style>\n",
              "<table border=\"1\" class=\"dataframe\">\n",
              "  <thead>\n",
              "    <tr style=\"text-align: right;\">\n",
              "      <th></th>\n",
              "      <th>score_3</th>\n",
              "      <th>score_4</th>\n",
              "      <th>score_5</th>\n",
              "      <th>score_6</th>\n",
              "      <th>risk_rate</th>\n",
              "      <th>last_amount_borrowed</th>\n",
              "      <th>last_borrowed_in_months</th>\n",
              "      <th>credit_limit</th>\n",
              "      <th>income</th>\n",
              "      <th>ok_since</th>\n",
              "      <th>n_bankruptcies</th>\n",
              "      <th>n_defaulted_loans</th>\n",
              "      <th>n_accounts</th>\n",
              "      <th>n_issues</th>\n",
              "      <th>application_time_in_funnel</th>\n",
              "      <th>external_data_provider_credit_checks_last_2_year</th>\n",
              "      <th>external_data_provider_credit_checks_last_month</th>\n",
              "      <th>external_data_provider_credit_checks_last_year</th>\n",
              "      <th>external_data_provider_email_seen_before</th>\n",
              "      <th>external_data_provider_fraud_score</th>\n",
              "      <th>reported_income</th>\n",
              "      <th>shipping_zip_code</th>\n",
              "    </tr>\n",
              "  </thead>\n",
              "  <tbody>\n",
              "    <tr>\n",
              "      <th>count</th>\n",
              "      <td>44438.000000</td>\n",
              "      <td>45000.000000</td>\n",
              "      <td>45000.000000</td>\n",
              "      <td>45000.000000</td>\n",
              "      <td>44438.000000</td>\n",
              "      <td>15044.000000</td>\n",
              "      <td>15044.000000</td>\n",
              "      <td>31200.000000</td>\n",
              "      <td>4.443800e+04</td>\n",
              "      <td>18455.000000</td>\n",
              "      <td>44303.000000</td>\n",
              "      <td>44426.000000</td>\n",
              "      <td>44438.000000</td>\n",
              "      <td>33456.000000</td>\n",
              "      <td>45000.000000</td>\n",
              "      <td>22372.0</td>\n",
              "      <td>45000.000000</td>\n",
              "      <td>29876.000000</td>\n",
              "      <td>42767.000000</td>\n",
              "      <td>45000.000000</td>\n",
              "      <td>45000.00</td>\n",
              "      <td>45000.000000</td>\n",
              "    </tr>\n",
              "    <tr>\n",
              "      <th>mean</th>\n",
              "      <td>347.983258</td>\n",
              "      <td>100.006797</td>\n",
              "      <td>0.500037</td>\n",
              "      <td>99.925228</td>\n",
              "      <td>0.296717</td>\n",
              "      <td>13782.341991</td>\n",
              "      <td>41.763893</td>\n",
              "      <td>34381.951154</td>\n",
              "      <td>7.160739e+04</td>\n",
              "      <td>35.069737</td>\n",
              "      <td>0.076270</td>\n",
              "      <td>0.004569</td>\n",
              "      <td>10.696701</td>\n",
              "      <td>11.068119</td>\n",
              "      <td>247.537000</td>\n",
              "      <td>0.0</td>\n",
              "      <td>1.501067</td>\n",
              "      <td>0.503381</td>\n",
              "      <td>12.534781</td>\n",
              "      <td>500.399800</td>\n",
              "      <td>inf</td>\n",
              "      <td>33923.514844</td>\n",
              "    </tr>\n",
              "    <tr>\n",
              "      <th>std</th>\n",
              "      <td>110.429165</td>\n",
              "      <td>3.178080</td>\n",
              "      <td>0.288326</td>\n",
              "      <td>10.016549</td>\n",
              "      <td>0.101933</td>\n",
              "      <td>8077.571933</td>\n",
              "      <td>10.252705</td>\n",
              "      <td>36586.982218</td>\n",
              "      <td>5.185897e+04</td>\n",
              "      <td>21.663194</td>\n",
              "      <td>0.274052</td>\n",
              "      <td>0.079400</td>\n",
              "      <td>4.592463</td>\n",
              "      <td>4.595501</td>\n",
              "      <td>146.118398</td>\n",
              "      <td>0.0</td>\n",
              "      <td>1.114941</td>\n",
              "      <td>0.499997</td>\n",
              "      <td>126.530487</td>\n",
              "      <td>287.968873</td>\n",
              "      <td>NaN</td>\n",
              "      <td>12692.406382</td>\n",
              "    </tr>\n",
              "    <tr>\n",
              "      <th>min</th>\n",
              "      <td>0.000000</td>\n",
              "      <td>86.191572</td>\n",
              "      <td>0.000035</td>\n",
              "      <td>60.663039</td>\n",
              "      <td>0.000000</td>\n",
              "      <td>1005.180000</td>\n",
              "      <td>36.000000</td>\n",
              "      <td>0.000000</td>\n",
              "      <td>4.821180e+03</td>\n",
              "      <td>0.000000</td>\n",
              "      <td>0.000000</td>\n",
              "      <td>0.000000</td>\n",
              "      <td>0.000000</td>\n",
              "      <td>0.000000</td>\n",
              "      <td>0.000000</td>\n",
              "      <td>0.0</td>\n",
              "      <td>0.000000</td>\n",
              "      <td>0.000000</td>\n",
              "      <td>-999.000000</td>\n",
              "      <td>0.000000</td>\n",
              "      <td>403.00</td>\n",
              "      <td>12001.000000</td>\n",
              "    </tr>\n",
              "    <tr>\n",
              "      <th>25%</th>\n",
              "      <td>270.000000</td>\n",
              "      <td>97.867036</td>\n",
              "      <td>0.252150</td>\n",
              "      <td>93.198353</td>\n",
              "      <td>0.220000</td>\n",
              "      <td>7519.502500</td>\n",
              "      <td>36.000000</td>\n",
              "      <td>10000.000000</td>\n",
              "      <td>4.501078e+04</td>\n",
              "      <td>17.000000</td>\n",
              "      <td>0.000000</td>\n",
              "      <td>0.000000</td>\n",
              "      <td>7.000000</td>\n",
              "      <td>8.000000</td>\n",
              "      <td>120.000000</td>\n",
              "      <td>0.0</td>\n",
              "      <td>1.000000</td>\n",
              "      <td>0.000000</td>\n",
              "      <td>11.000000</td>\n",
              "      <td>252.000000</td>\n",
              "      <td>50948.25</td>\n",
              "      <td>22937.000000</td>\n",
              "    </tr>\n",
              "    <tr>\n",
              "      <th>50%</th>\n",
              "      <td>340.000000</td>\n",
              "      <td>100.018900</td>\n",
              "      <td>0.500753</td>\n",
              "      <td>99.974796</td>\n",
              "      <td>0.290000</td>\n",
              "      <td>12023.465000</td>\n",
              "      <td>36.000000</td>\n",
              "      <td>25647.000000</td>\n",
              "      <td>6.126676e+04</td>\n",
              "      <td>32.000000</td>\n",
              "      <td>0.000000</td>\n",
              "      <td>0.000000</td>\n",
              "      <td>10.000000</td>\n",
              "      <td>10.000000</td>\n",
              "      <td>248.000000</td>\n",
              "      <td>0.0</td>\n",
              "      <td>2.000000</td>\n",
              "      <td>1.000000</td>\n",
              "      <td>27.000000</td>\n",
              "      <td>503.000000</td>\n",
              "      <td>101779.00</td>\n",
              "      <td>33896.000000</td>\n",
              "    </tr>\n",
              "    <tr>\n",
              "      <th>75%</th>\n",
              "      <td>420.000000</td>\n",
              "      <td>102.141797</td>\n",
              "      <td>0.748816</td>\n",
              "      <td>106.640275</td>\n",
              "      <td>0.360000</td>\n",
              "      <td>19220.270000</td>\n",
              "      <td>36.000000</td>\n",
              "      <td>47086.750000</td>\n",
              "      <td>8.601923e+04</td>\n",
              "      <td>50.000000</td>\n",
              "      <td>0.000000</td>\n",
              "      <td>0.000000</td>\n",
              "      <td>13.000000</td>\n",
              "      <td>14.000000</td>\n",
              "      <td>375.000000</td>\n",
              "      <td>0.0</td>\n",
              "      <td>2.000000</td>\n",
              "      <td>1.000000</td>\n",
              "      <td>43.000000</td>\n",
              "      <td>747.000000</td>\n",
              "      <td>151337.25</td>\n",
              "      <td>44910.000000</td>\n",
              "    </tr>\n",
              "    <tr>\n",
              "      <th>max</th>\n",
              "      <td>990.000000</td>\n",
              "      <td>113.978234</td>\n",
              "      <td>0.999973</td>\n",
              "      <td>142.192400</td>\n",
              "      <td>0.900000</td>\n",
              "      <td>35059.600000</td>\n",
              "      <td>60.000000</td>\n",
              "      <td>448269.000000</td>\n",
              "      <td>5.000028e+06</td>\n",
              "      <td>141.000000</td>\n",
              "      <td>5.000000</td>\n",
              "      <td>5.000000</td>\n",
              "      <td>49.000000</td>\n",
              "      <td>49.000000</td>\n",
              "      <td>500.000000</td>\n",
              "      <td>0.0</td>\n",
              "      <td>3.000000</td>\n",
              "      <td>1.000000</td>\n",
              "      <td>59.000000</td>\n",
              "      <td>1000.000000</td>\n",
              "      <td>inf</td>\n",
              "      <td>56000.000000</td>\n",
              "    </tr>\n",
              "  </tbody>\n",
              "</table>\n",
              "</div>"
            ],
            "text/plain": [
              "            score_3       score_4  ...  reported_income  shipping_zip_code\n",
              "count  44438.000000  45000.000000  ...         45000.00       45000.000000\n",
              "mean     347.983258    100.006797  ...              inf       33923.514844\n",
              "std      110.429165      3.178080  ...              NaN       12692.406382\n",
              "min        0.000000     86.191572  ...           403.00       12001.000000\n",
              "25%      270.000000     97.867036  ...         50948.25       22937.000000\n",
              "50%      340.000000    100.018900  ...        101779.00       33896.000000\n",
              "75%      420.000000    102.141797  ...        151337.25       44910.000000\n",
              "max      990.000000    113.978234  ...              inf       56000.000000\n",
              "\n",
              "[8 rows x 22 columns]"
            ]
          },
          "metadata": {
            "tags": []
          },
          "execution_count": 151
        }
      ]
    },
    {
      "cell_type": "markdown",
      "metadata": {
        "id": "HpaIH3Fb_bEH",
        "colab_type": "text"
      },
      "source": [
        "Identificamos na variável \"*external_data_provider_email_seen_before*\" um valor negativo de -999, em \"*reported_income*\" valores NaN e inf, valores outliers em *last_amount_borrowed*, *credit_limit*, e *ok_since*."
      ]
    },
    {
      "cell_type": "code",
      "metadata": {
        "id": "0TeRRyE0Grei",
        "colab_type": "code",
        "outputId": "96f05870-342f-4f79-9828-48f371d42ca0",
        "colab": {
          "base_uri": "https://localhost:8080/"
        }
      },
      "source": [
        "# Verificar valores nulos no dataset\n",
        "n = (df.isnull().sum() / df.shape[0]).sort_values(ascending=False)\n",
        "df_n = pd.DataFrame(n)\n",
        "df_n.style.format(\" {:.2%}\")"
      ],
      "execution_count": 0,
      "outputs": [
        {
          "output_type": "execute_result",
          "data": {
            "text/html": [
              "<style  type=\"text/css\" >\n",
              "</style><table id=\"T_96c68dd4_995b_11ea_9802_0242ac1c0002\" ><thead>    <tr>        <th class=\"blank level0\" ></th>        <th class=\"col_heading level0 col0\" >0</th>    </tr></thead><tbody>\n",
              "                <tr>\n",
              "                        <th id=\"T_96c68dd4_995b_11ea_9802_0242ac1c0002level0_row0\" class=\"row_heading level0 row0\" >target_fraud</th>\n",
              "                        <td id=\"T_96c68dd4_995b_11ea_9802_0242ac1c0002row0_col0\" class=\"data row0 col0\" > 96.62%</td>\n",
              "            </tr>\n",
              "            <tr>\n",
              "                        <th id=\"T_96c68dd4_995b_11ea_9802_0242ac1c0002level0_row1\" class=\"row_heading level0 row1\" >last_amount_borrowed</th>\n",
              "                        <td id=\"T_96c68dd4_995b_11ea_9802_0242ac1c0002row1_col0\" class=\"data row1 col0\" > 66.57%</td>\n",
              "            </tr>\n",
              "            <tr>\n",
              "                        <th id=\"T_96c68dd4_995b_11ea_9802_0242ac1c0002level0_row2\" class=\"row_heading level0 row2\" >last_borrowed_in_months</th>\n",
              "                        <td id=\"T_96c68dd4_995b_11ea_9802_0242ac1c0002row2_col0\" class=\"data row2 col0\" > 66.57%</td>\n",
              "            </tr>\n",
              "            <tr>\n",
              "                        <th id=\"T_96c68dd4_995b_11ea_9802_0242ac1c0002level0_row3\" class=\"row_heading level0 row3\" >ok_since</th>\n",
              "                        <td id=\"T_96c68dd4_995b_11ea_9802_0242ac1c0002row3_col0\" class=\"data row3 col0\" > 58.99%</td>\n",
              "            </tr>\n",
              "            <tr>\n",
              "                        <th id=\"T_96c68dd4_995b_11ea_9802_0242ac1c0002level0_row4\" class=\"row_heading level0 row4\" >external_data_provider_credit_checks_last_2_year</th>\n",
              "                        <td id=\"T_96c68dd4_995b_11ea_9802_0242ac1c0002row4_col0\" class=\"data row4 col0\" > 50.28%</td>\n",
              "            </tr>\n",
              "            <tr>\n",
              "                        <th id=\"T_96c68dd4_995b_11ea_9802_0242ac1c0002level0_row5\" class=\"row_heading level0 row5\" >external_data_provider_credit_checks_last_year</th>\n",
              "                        <td id=\"T_96c68dd4_995b_11ea_9802_0242ac1c0002row5_col0\" class=\"data row5 col0\" > 33.61%</td>\n",
              "            </tr>\n",
              "            <tr>\n",
              "                        <th id=\"T_96c68dd4_995b_11ea_9802_0242ac1c0002level0_row6\" class=\"row_heading level0 row6\" >credit_limit</th>\n",
              "                        <td id=\"T_96c68dd4_995b_11ea_9802_0242ac1c0002row6_col0\" class=\"data row6 col0\" > 30.67%</td>\n",
              "            </tr>\n",
              "            <tr>\n",
              "                        <th id=\"T_96c68dd4_995b_11ea_9802_0242ac1c0002level0_row7\" class=\"row_heading level0 row7\" >n_issues</th>\n",
              "                        <td id=\"T_96c68dd4_995b_11ea_9802_0242ac1c0002row7_col0\" class=\"data row7 col0\" > 25.65%</td>\n",
              "            </tr>\n",
              "            <tr>\n",
              "                        <th id=\"T_96c68dd4_995b_11ea_9802_0242ac1c0002level0_row8\" class=\"row_heading level0 row8\" >facebook_profile</th>\n",
              "                        <td id=\"T_96c68dd4_995b_11ea_9802_0242ac1c0002row8_col0\" class=\"data row8 col0\" > 9.91%</td>\n",
              "            </tr>\n",
              "            <tr>\n",
              "                        <th id=\"T_96c68dd4_995b_11ea_9802_0242ac1c0002level0_row9\" class=\"row_heading level0 row9\" >marketing_channel</th>\n",
              "                        <td id=\"T_96c68dd4_995b_11ea_9802_0242ac1c0002row9_col0\" class=\"data row9 col0\" > 7.95%</td>\n",
              "            </tr>\n",
              "            <tr>\n",
              "                        <th id=\"T_96c68dd4_995b_11ea_9802_0242ac1c0002level0_row10\" class=\"row_heading level0 row10\" >job_name</th>\n",
              "                        <td id=\"T_96c68dd4_995b_11ea_9802_0242ac1c0002row10_col0\" class=\"data row10 col0\" > 7.41%</td>\n",
              "            </tr>\n",
              "            <tr>\n",
              "                        <th id=\"T_96c68dd4_995b_11ea_9802_0242ac1c0002level0_row11\" class=\"row_heading level0 row11\" >target_default</th>\n",
              "                        <td id=\"T_96c68dd4_995b_11ea_9802_0242ac1c0002row11_col0\" class=\"data row11 col0\" > 7.24%</td>\n",
              "            </tr>\n",
              "            <tr>\n",
              "                        <th id=\"T_96c68dd4_995b_11ea_9802_0242ac1c0002level0_row12\" class=\"row_heading level0 row12\" >external_data_provider_email_seen_before</th>\n",
              "                        <td id=\"T_96c68dd4_995b_11ea_9802_0242ac1c0002row12_col0\" class=\"data row12 col0\" > 4.96%</td>\n",
              "            </tr>\n",
              "            <tr>\n",
              "                        <th id=\"T_96c68dd4_995b_11ea_9802_0242ac1c0002level0_row13\" class=\"row_heading level0 row13\" >lat_lon</th>\n",
              "                        <td id=\"T_96c68dd4_995b_11ea_9802_0242ac1c0002row13_col0\" class=\"data row13 col0\" > 3.03%</td>\n",
              "            </tr>\n",
              "            <tr>\n",
              "                        <th id=\"T_96c68dd4_995b_11ea_9802_0242ac1c0002level0_row14\" class=\"row_heading level0 row14\" >user_agent</th>\n",
              "                        <td id=\"T_96c68dd4_995b_11ea_9802_0242ac1c0002row14_col0\" class=\"data row14 col0\" > 1.60%</td>\n",
              "            </tr>\n",
              "            <tr>\n",
              "                        <th id=\"T_96c68dd4_995b_11ea_9802_0242ac1c0002level0_row15\" class=\"row_heading level0 row15\" >n_bankruptcies</th>\n",
              "                        <td id=\"T_96c68dd4_995b_11ea_9802_0242ac1c0002row15_col0\" class=\"data row15 col0\" > 1.55%</td>\n",
              "            </tr>\n",
              "            <tr>\n",
              "                        <th id=\"T_96c68dd4_995b_11ea_9802_0242ac1c0002level0_row16\" class=\"row_heading level0 row16\" >n_defaulted_loans</th>\n",
              "                        <td id=\"T_96c68dd4_995b_11ea_9802_0242ac1c0002row16_col0\" class=\"data row16 col0\" > 1.28%</td>\n",
              "            </tr>\n",
              "            <tr>\n",
              "                        <th id=\"T_96c68dd4_995b_11ea_9802_0242ac1c0002level0_row17\" class=\"row_heading level0 row17\" >reason</th>\n",
              "                        <td id=\"T_96c68dd4_995b_11ea_9802_0242ac1c0002row17_col0\" class=\"data row17 col0\" > 1.26%</td>\n",
              "            </tr>\n",
              "            <tr>\n",
              "                        <th id=\"T_96c68dd4_995b_11ea_9802_0242ac1c0002level0_row18\" class=\"row_heading level0 row18\" >income</th>\n",
              "                        <td id=\"T_96c68dd4_995b_11ea_9802_0242ac1c0002row18_col0\" class=\"data row18 col0\" > 1.25%</td>\n",
              "            </tr>\n",
              "            <tr>\n",
              "                        <th id=\"T_96c68dd4_995b_11ea_9802_0242ac1c0002level0_row19\" class=\"row_heading level0 row19\" >real_state</th>\n",
              "                        <td id=\"T_96c68dd4_995b_11ea_9802_0242ac1c0002row19_col0\" class=\"data row19 col0\" > 1.25%</td>\n",
              "            </tr>\n",
              "            <tr>\n",
              "                        <th id=\"T_96c68dd4_995b_11ea_9802_0242ac1c0002level0_row20\" class=\"row_heading level0 row20\" >state</th>\n",
              "                        <td id=\"T_96c68dd4_995b_11ea_9802_0242ac1c0002row20_col0\" class=\"data row20 col0\" > 1.25%</td>\n",
              "            </tr>\n",
              "            <tr>\n",
              "                        <th id=\"T_96c68dd4_995b_11ea_9802_0242ac1c0002level0_row21\" class=\"row_heading level0 row21\" >zip</th>\n",
              "                        <td id=\"T_96c68dd4_995b_11ea_9802_0242ac1c0002row21_col0\" class=\"data row21 col0\" > 1.25%</td>\n",
              "            </tr>\n",
              "            <tr>\n",
              "                        <th id=\"T_96c68dd4_995b_11ea_9802_0242ac1c0002level0_row22\" class=\"row_heading level0 row22\" >channel</th>\n",
              "                        <td id=\"T_96c68dd4_995b_11ea_9802_0242ac1c0002row22_col0\" class=\"data row22 col0\" > 1.25%</td>\n",
              "            </tr>\n",
              "            <tr>\n",
              "                        <th id=\"T_96c68dd4_995b_11ea_9802_0242ac1c0002level0_row23\" class=\"row_heading level0 row23\" >score_3</th>\n",
              "                        <td id=\"T_96c68dd4_995b_11ea_9802_0242ac1c0002row23_col0\" class=\"data row23 col0\" > 1.25%</td>\n",
              "            </tr>\n",
              "            <tr>\n",
              "                        <th id=\"T_96c68dd4_995b_11ea_9802_0242ac1c0002level0_row24\" class=\"row_heading level0 row24\" >score_2</th>\n",
              "                        <td id=\"T_96c68dd4_995b_11ea_9802_0242ac1c0002row24_col0\" class=\"data row24 col0\" > 1.25%</td>\n",
              "            </tr>\n",
              "            <tr>\n",
              "                        <th id=\"T_96c68dd4_995b_11ea_9802_0242ac1c0002level0_row25\" class=\"row_heading level0 row25\" >score_1</th>\n",
              "                        <td id=\"T_96c68dd4_995b_11ea_9802_0242ac1c0002row25_col0\" class=\"data row25 col0\" > 1.25%</td>\n",
              "            </tr>\n",
              "            <tr>\n",
              "                        <th id=\"T_96c68dd4_995b_11ea_9802_0242ac1c0002level0_row26\" class=\"row_heading level0 row26\" >n_accounts</th>\n",
              "                        <td id=\"T_96c68dd4_995b_11ea_9802_0242ac1c0002row26_col0\" class=\"data row26 col0\" > 1.25%</td>\n",
              "            </tr>\n",
              "            <tr>\n",
              "                        <th id=\"T_96c68dd4_995b_11ea_9802_0242ac1c0002level0_row27\" class=\"row_heading level0 row27\" >risk_rate</th>\n",
              "                        <td id=\"T_96c68dd4_995b_11ea_9802_0242ac1c0002row27_col0\" class=\"data row27 col0\" > 1.25%</td>\n",
              "            </tr>\n",
              "            <tr>\n",
              "                        <th id=\"T_96c68dd4_995b_11ea_9802_0242ac1c0002level0_row28\" class=\"row_heading level0 row28\" >shipping_zip_code</th>\n",
              "                        <td id=\"T_96c68dd4_995b_11ea_9802_0242ac1c0002row28_col0\" class=\"data row28 col0\" > 0.00%</td>\n",
              "            </tr>\n",
              "            <tr>\n",
              "                        <th id=\"T_96c68dd4_995b_11ea_9802_0242ac1c0002level0_row29\" class=\"row_heading level0 row29\" >score_4</th>\n",
              "                        <td id=\"T_96c68dd4_995b_11ea_9802_0242ac1c0002row29_col0\" class=\"data row29 col0\" > 0.00%</td>\n",
              "            </tr>\n",
              "            <tr>\n",
              "                        <th id=\"T_96c68dd4_995b_11ea_9802_0242ac1c0002level0_row30\" class=\"row_heading level0 row30\" >score_5</th>\n",
              "                        <td id=\"T_96c68dd4_995b_11ea_9802_0242ac1c0002row30_col0\" class=\"data row30 col0\" > 0.00%</td>\n",
              "            </tr>\n",
              "            <tr>\n",
              "                        <th id=\"T_96c68dd4_995b_11ea_9802_0242ac1c0002level0_row31\" class=\"row_heading level0 row31\" >profile_tags</th>\n",
              "                        <td id=\"T_96c68dd4_995b_11ea_9802_0242ac1c0002row31_col0\" class=\"data row31 col0\" > 0.00%</td>\n",
              "            </tr>\n",
              "            <tr>\n",
              "                        <th id=\"T_96c68dd4_995b_11ea_9802_0242ac1c0002level0_row32\" class=\"row_heading level0 row32\" >score_6</th>\n",
              "                        <td id=\"T_96c68dd4_995b_11ea_9802_0242ac1c0002row32_col0\" class=\"data row32 col0\" > 0.00%</td>\n",
              "            </tr>\n",
              "            <tr>\n",
              "                        <th id=\"T_96c68dd4_995b_11ea_9802_0242ac1c0002level0_row33\" class=\"row_heading level0 row33\" >application_time_in_funnel</th>\n",
              "                        <td id=\"T_96c68dd4_995b_11ea_9802_0242ac1c0002row33_col0\" class=\"data row33 col0\" > 0.00%</td>\n",
              "            </tr>\n",
              "            <tr>\n",
              "                        <th id=\"T_96c68dd4_995b_11ea_9802_0242ac1c0002level0_row34\" class=\"row_heading level0 row34\" >shipping_state</th>\n",
              "                        <td id=\"T_96c68dd4_995b_11ea_9802_0242ac1c0002row34_col0\" class=\"data row34 col0\" > 0.00%</td>\n",
              "            </tr>\n",
              "            <tr>\n",
              "                        <th id=\"T_96c68dd4_995b_11ea_9802_0242ac1c0002level0_row35\" class=\"row_heading level0 row35\" >reported_income</th>\n",
              "                        <td id=\"T_96c68dd4_995b_11ea_9802_0242ac1c0002row35_col0\" class=\"data row35 col0\" > 0.00%</td>\n",
              "            </tr>\n",
              "            <tr>\n",
              "                        <th id=\"T_96c68dd4_995b_11ea_9802_0242ac1c0002level0_row36\" class=\"row_heading level0 row36\" >application_time_applied</th>\n",
              "                        <td id=\"T_96c68dd4_995b_11ea_9802_0242ac1c0002row36_col0\" class=\"data row36 col0\" > 0.00%</td>\n",
              "            </tr>\n",
              "            <tr>\n",
              "                        <th id=\"T_96c68dd4_995b_11ea_9802_0242ac1c0002level0_row37\" class=\"row_heading level0 row37\" >profile_phone_number</th>\n",
              "                        <td id=\"T_96c68dd4_995b_11ea_9802_0242ac1c0002row37_col0\" class=\"data row37 col0\" > 0.00%</td>\n",
              "            </tr>\n",
              "            <tr>\n",
              "                        <th id=\"T_96c68dd4_995b_11ea_9802_0242ac1c0002level0_row38\" class=\"row_heading level0 row38\" >external_data_provider_fraud_score</th>\n",
              "                        <td id=\"T_96c68dd4_995b_11ea_9802_0242ac1c0002row38_col0\" class=\"data row38 col0\" > 0.00%</td>\n",
              "            </tr>\n",
              "            <tr>\n",
              "                        <th id=\"T_96c68dd4_995b_11ea_9802_0242ac1c0002level0_row39\" class=\"row_heading level0 row39\" >external_data_provider_first_name</th>\n",
              "                        <td id=\"T_96c68dd4_995b_11ea_9802_0242ac1c0002row39_col0\" class=\"data row39 col0\" > 0.00%</td>\n",
              "            </tr>\n",
              "            <tr>\n",
              "                        <th id=\"T_96c68dd4_995b_11ea_9802_0242ac1c0002level0_row40\" class=\"row_heading level0 row40\" >external_data_provider_credit_checks_last_month</th>\n",
              "                        <td id=\"T_96c68dd4_995b_11ea_9802_0242ac1c0002row40_col0\" class=\"data row40 col0\" > 0.00%</td>\n",
              "            </tr>\n",
              "            <tr>\n",
              "                        <th id=\"T_96c68dd4_995b_11ea_9802_0242ac1c0002level0_row41\" class=\"row_heading level0 row41\" >email</th>\n",
              "                        <td id=\"T_96c68dd4_995b_11ea_9802_0242ac1c0002row41_col0\" class=\"data row41 col0\" > 0.00%</td>\n",
              "            </tr>\n",
              "            <tr>\n",
              "                        <th id=\"T_96c68dd4_995b_11ea_9802_0242ac1c0002level0_row42\" class=\"row_heading level0 row42\" >ids</th>\n",
              "                        <td id=\"T_96c68dd4_995b_11ea_9802_0242ac1c0002row42_col0\" class=\"data row42 col0\" > 0.00%</td>\n",
              "            </tr>\n",
              "    </tbody></table>"
            ],
            "text/plain": [
              "<pandas.io.formats.style.Styler at 0x7ff5b7b8b5c0>"
            ]
          },
          "metadata": {
            "tags": []
          },
          "execution_count": 152
        }
      ]
    },
    {
      "cell_type": "markdown",
      "metadata": {
        "id": "w1OtYOKmAeD4",
        "colab_type": "text"
      },
      "source": [
        "O dataset apresenta 5 variáveis com mais de 50% de suas entradas ausentes."
      ]
    },
    {
      "cell_type": "code",
      "metadata": {
        "id": "v9cVPPFeLYcw",
        "colab_type": "code",
        "outputId": "6b4a602e-4bf7-435d-83d8-3d71abf39777",
        "colab": {
          "base_uri": "https://localhost:8080/"
        }
      },
      "source": [
        "# Tipo das variáveis\n",
        "df.dtypes"
      ],
      "execution_count": 0,
      "outputs": [
        {
          "output_type": "execute_result",
          "data": {
            "text/plain": [
              "ids                                                  object\n",
              "target_default                                       object\n",
              "score_1                                              object\n",
              "score_2                                              object\n",
              "score_3                                             float64\n",
              "score_4                                             float64\n",
              "score_5                                             float64\n",
              "score_6                                             float64\n",
              "risk_rate                                           float64\n",
              "last_amount_borrowed                                float64\n",
              "last_borrowed_in_months                             float64\n",
              "credit_limit                                        float64\n",
              "reason                                               object\n",
              "income                                              float64\n",
              "facebook_profile                                     object\n",
              "state                                                object\n",
              "zip                                                  object\n",
              "channel                                              object\n",
              "job_name                                             object\n",
              "real_state                                           object\n",
              "ok_since                                            float64\n",
              "n_bankruptcies                                      float64\n",
              "n_defaulted_loans                                   float64\n",
              "n_accounts                                          float64\n",
              "n_issues                                            float64\n",
              "application_time_applied                             object\n",
              "application_time_in_funnel                            int64\n",
              "email                                                object\n",
              "external_data_provider_credit_checks_last_2_year    float64\n",
              "external_data_provider_credit_checks_last_month       int64\n",
              "external_data_provider_credit_checks_last_year      float64\n",
              "external_data_provider_email_seen_before            float64\n",
              "external_data_provider_first_name                    object\n",
              "external_data_provider_fraud_score                    int64\n",
              "lat_lon                                              object\n",
              "marketing_channel                                    object\n",
              "profile_phone_number                                 object\n",
              "reported_income                                     float64\n",
              "shipping_state                                       object\n",
              "shipping_zip_code                                     int64\n",
              "profile_tags                                         object\n",
              "user_agent                                           object\n",
              "target_fraud                                         object\n",
              "dtype: object"
            ]
          },
          "metadata": {
            "tags": []
          },
          "execution_count": 153
        }
      ]
    },
    {
      "cell_type": "markdown",
      "metadata": {
        "id": "8yJQKuzW9u1K",
        "colab_type": "text"
      },
      "source": [
        "# Transformação dos dados"
      ]
    },
    {
      "cell_type": "markdown",
      "metadata": {
        "id": "8RMCnBSsUEhG",
        "colab_type": "text"
      },
      "source": [
        "Após analisar cada variável, conseguimos identificar algumas que poderemos excluir por principalmente não conseguir obter mais informações para tratá-las de uma forma melhor e trataremos valores Nan e inf.\n"
      ]
    },
    {
      "cell_type": "code",
      "metadata": {
        "id": "C8y6KNKVZXBj",
        "colab_type": "code",
        "colab": {}
      },
      "source": [
        "#Criar cópia do dataset\n",
        "df_clean = df.copy()\n",
        "\n",
        "#Transformar valores inf da variável reported_income em NaN\n",
        "df_clean['reported_income'] = df_clean['reported_income'].replace(np.inf,np.nan)\n",
        "\n",
        "#Excluir variáveis identificadas na análise como sem informação aparente ou que demandam mais pesquisa\n",
        "df_clean.drop(labels=['ids', 'target_fraud', 'external_data_provider_credit_checks_last_2_year', 'channel', 'reason', 'zip', 'job_name', 'external_data_provider_first_name',\n",
        "            'lat_lon', 'shipping_zip_code', 'user_agent', 'profile_tags','application_time_applied', 'email', 'marketing_channel', 'profile_phone_number', 'shipping_state'], axis=1, inplace=True)\n",
        "\n",
        "#Alterar valor -999  para Nan da variável external_data_provider_email_seen_before\n",
        "df_clean.loc[df['external_data_provider_email_seen_before'] == -999.0, 'external_data_provider_email_seen_before'] = np.nan\n",
        "\n",
        "#Elminar as entradas onde target_default é NaN\n",
        "df_clean.dropna(subset=['target_default'], inplace=True)\n"
      ],
      "execution_count": 0,
      "outputs": []
    },
    {
      "cell_type": "markdown",
      "metadata": {
        "id": "xzuiev5GNfaU",
        "colab_type": "text"
      },
      "source": [
        "Para as variáveis:\n",
        "\n",
        "last_amount_borrowed - valores Nan tratarei como 0, pois, se não existe valor o cliente não apresenta anteriormente valores de emprestimos\n",
        "\n",
        "last_borrowed_in_months - significa meses do ultimo emprestimo, considero Nan como 0\n",
        "\n",
        "external_data_provider_credit_checks_last_year - verificações de crédito no ultimo ano, valores Nan, considero como 0\n",
        "\n",
        "credit_limit - também vou considerar os valores nulos como 0, ou seja, o cliente não tem limite de crédito estipulado"
      ]
    },
    {
      "cell_type": "code",
      "metadata": {
        "id": "TF0T4UmOO1oL",
        "colab_type": "code",
        "colab": {}
      },
      "source": [
        "#Tratamento das variáveis com valores ausentes\n",
        "\n",
        "df_clean.last_amount_borrowed.fillna(0, inplace=True)\n",
        "df_clean.last_borrowed_in_months.fillna(0, inplace=True)\n",
        "df_clean.external_data_provider_credit_checks_last_year.fillna(0,inplace=True)\n",
        "df_clean.credit_limit.fillna(0, inplace=True)"
      ],
      "execution_count": 0,
      "outputs": []
    },
    {
      "cell_type": "markdown",
      "metadata": {
        "id": "REEdfHScraRt",
        "colab_type": "text"
      },
      "source": [
        "Das variáveis restantes, usaremos a Biblioteca Simple Imputer em SimpleImputer para realizar o preenchimento dos valores ausentes, dividindo o dataset entra variáveis numéricas e categoricas:\n",
        "\n",
        "**Numéricas:** (strategy=mean)\n",
        "\n",
        "\n",
        "credit_limit\n",
        "\n",
        "n_issues\n",
        "\n",
        "external_data_provider_email_seen_before\n",
        "\n",
        "n_bankruptcies\n",
        "\n",
        "reported_income\n",
        "\n",
        "n_defaulted_loans\n",
        "\n",
        "\n",
        "\n",
        "**Categoricas:** (strategy=most_frequent)\n",
        "\n",
        "\n",
        "facebook_profile\n",
        "\n",
        "marketing_channel\n",
        "\n",
        "job_name\n",
        "\n",
        "user_agent\n"
      ]
    },
    {
      "cell_type": "code",
      "metadata": {
        "id": "0Rd_V_e7nTiM",
        "colab_type": "code",
        "colab": {}
      },
      "source": [
        "# Biblioteca para preenchimento de valores ausentes\n",
        "from sklearn.impute import SimpleImputer\n",
        "\n",
        "# Dividir variáveis do dataset entre categoricas e numericas\n",
        "num_df = df_clean.select_dtypes(exclude='object').columns\n",
        "cat_df = df_clean.select_dtypes(include='object').columns\n",
        "\n",
        "# Imput de valores em variáveis numéricas\n",
        "imputer = SimpleImputer(missing_values=np.nan, strategy='mean')\n",
        "imputer = imputer.fit(df_clean.loc[:,num_df])\n",
        "df_clean.loc[:,num_df] = imputer.transform(df_clean.loc[:, num_df])\n",
        "\n",
        "# Imput de valores em variáveis categoricas\n",
        "imputer = SimpleImputer(missing_values=np.nan, strategy='most_frequent')\n",
        "imputer = imputer.fit(df_clean.loc[:,cat_df])\n",
        "df_clean.loc[:,cat_df] = imputer.transform(df_clean.loc[:, cat_df])"
      ],
      "execution_count": 0,
      "outputs": []
    },
    {
      "cell_type": "code",
      "metadata": {
        "id": "YSf3SnNABa1H",
        "colab_type": "code",
        "outputId": "48f1dad0-f663-430c-fcb6-519c50f0d363",
        "colab": {
          "base_uri": "https://localhost:8080/",
          "height": 485
        }
      },
      "source": [
        "#Verificar valores ausentes no dataset \n",
        "print((df_clean.isnull().sum() / df_clean.shape[0]).sort_values(ascending=False))"
      ],
      "execution_count": 0,
      "outputs": [
        {
          "output_type": "stream",
          "text": [
            "reported_income                                    0.0\n",
            "external_data_provider_fraud_score                 0.0\n",
            "score_1                                            0.0\n",
            "score_2                                            0.0\n",
            "score_3                                            0.0\n",
            "score_4                                            0.0\n",
            "score_5                                            0.0\n",
            "score_6                                            0.0\n",
            "risk_rate                                          0.0\n",
            "last_amount_borrowed                               0.0\n",
            "last_borrowed_in_months                            0.0\n",
            "credit_limit                                       0.0\n",
            "income                                             0.0\n",
            "facebook_profile                                   0.0\n",
            "state                                              0.0\n",
            "real_state                                         0.0\n",
            "ok_since                                           0.0\n",
            "n_bankruptcies                                     0.0\n",
            "n_defaulted_loans                                  0.0\n",
            "n_accounts                                         0.0\n",
            "n_issues                                           0.0\n",
            "application_time_in_funnel                         0.0\n",
            "external_data_provider_credit_checks_last_month    0.0\n",
            "external_data_provider_credit_checks_last_year     0.0\n",
            "external_data_provider_email_seen_before           0.0\n",
            "target_default                                     0.0\n",
            "dtype: float64\n"
          ],
          "name": "stdout"
        }
      ]
    },
    {
      "cell_type": "markdown",
      "metadata": {
        "id": "wmVz3neaIDXd",
        "colab_type": "text"
      },
      "source": [
        "Após realizarmos a o preenchimento de valores ausentes nas variáveis, iremos normalizar os dados de valores numéricos, utilizando StandardScaler, onde o conceito é **Conjunto de dados = (Conjunto de dados - Média) / Desvio Padrão**"
      ]
    },
    {
      "cell_type": "code",
      "metadata": {
        "id": "85UaQ1V9IMib",
        "colab_type": "code",
        "colab": {}
      },
      "source": [
        "# Importar biblioteca\n",
        "from sklearn.preprocessing import StandardScaler\n",
        "\n",
        "# Criar cópia do dataframe\n",
        "df_2 = df_clean.copy()\n",
        "\n",
        "# Eliminar coluna target_default e demais variáveis string\n",
        "num_cols = df_2.drop('target_default', axis=1).select_dtypes(exclude='object').columns\n",
        "\n",
        "# Passar método StandardScaler\n",
        "df_2[num_cols] = StandardScaler().fit_transform(df_2[num_cols].values)"
      ],
      "execution_count": 0,
      "outputs": []
    },
    {
      "cell_type": "markdown",
      "metadata": {
        "id": "ntOyArT1Mpnq",
        "colab_type": "text"
      },
      "source": [
        "Classificaremos as variáveis com seu tipo *object*, com Label Encoding em variáveis do tipo numéricas, como por exemplo, Ruim , Médio, Bom, onde: Ruim = 1, Médio = 2 e Bom = 3"
      ]
    },
    {
      "cell_type": "code",
      "metadata": {
        "id": "9CdbBTqXM7qA",
        "colab_type": "code",
        "colab": {}
      },
      "source": [
        "# Importar biblioteca\n",
        "from sklearn.preprocessing import LabelEncoder\n",
        "\n",
        "# Criar cópia do dataframe\n",
        "encoded_df = df_2.copy()\n",
        "\n",
        "# Eliminar variáveis numéricas\n",
        "cat_col = encoded_df.select_dtypes('object').columns\n",
        "\n",
        "# Passar método LabelEncoder\n",
        "for col in cat_col:\n",
        "  encoded_df[col+'_encoded'] = LabelEncoder().fit_transform(encoded_df[col])\n",
        "  encoded_df.drop(col, axis=1, inplace=True)"
      ],
      "execution_count": 0,
      "outputs": []
    },
    {
      "cell_type": "markdown",
      "metadata": {
        "id": "zTdclzuw94yI",
        "colab_type": "text"
      },
      "source": [
        "# Divisão do dataset"
      ]
    },
    {
      "cell_type": "markdown",
      "metadata": {
        "id": "sfwng6kBWXNg",
        "colab_type": "text"
      },
      "source": [
        "Dividir dataset entre treino e teste utilizando train_test_split para treinarmos os modelos de Machine Learning"
      ]
    },
    {
      "cell_type": "code",
      "metadata": {
        "id": "4Pyoty24Wd2f",
        "colab_type": "code",
        "colab": {}
      },
      "source": [
        "# Importar biblioteca\n",
        "from sklearn.model_selection import train_test_split\n",
        "\n",
        "# Separar as variáveis independentes da variável alvo\n",
        "X = encoded_df.drop('target_default', axis=1) \n",
        "y = encoded_df.target_default\n",
        "\n",
        "# Dividir o dataset entre treino e teste\n",
        "X_train, X_test, y_train, y_test = train_test_split(X,y)"
      ],
      "execution_count": 0,
      "outputs": []
    },
    {
      "cell_type": "markdown",
      "metadata": {
        "id": "00KDL8GQXcN3",
        "colab_type": "text"
      },
      "source": [
        "# Preparação, treinamendo e predição do modelo de Machine Learning 1 - Regressão Logística da Biblioteca sklearn"
      ]
    },
    {
      "cell_type": "code",
      "metadata": {
        "id": "WAqyjHoyXk9u",
        "colab_type": "code",
        "colab": {}
      },
      "source": [
        "# Importanto bibliotecas\n",
        "from sklearn.linear_model import LogisticRegression\n",
        "from sklearn.metrics import accuracy_score\n",
        "from sklearn.metrics import classification_report"
      ],
      "execution_count": 0,
      "outputs": []
    },
    {
      "cell_type": "code",
      "metadata": {
        "id": "Bar030loYLIp",
        "colab_type": "code",
        "outputId": "67c74d92-d8fd-4e43-ae6c-b68f5812e793",
        "colab": {
          "base_uri": "https://localhost:8080/",
          "height": 242
        }
      },
      "source": [
        "# Treinar modelo de Machine Learning\n",
        "ml_model = LogisticRegression()\n",
        "\n",
        "ml_model.fit(X_train,y_train)"
      ],
      "execution_count": 0,
      "outputs": [
        {
          "output_type": "stream",
          "text": [
            "/usr/local/lib/python3.6/dist-packages/sklearn/linear_model/_logistic.py:940: ConvergenceWarning: lbfgs failed to converge (status=1):\n",
            "STOP: TOTAL NO. of ITERATIONS REACHED LIMIT.\n",
            "\n",
            "Increase the number of iterations (max_iter) or scale the data as shown in:\n",
            "    https://scikit-learn.org/stable/modules/preprocessing.html\n",
            "Please also refer to the documentation for alternative solver options:\n",
            "    https://scikit-learn.org/stable/modules/linear_model.html#logistic-regression\n",
            "  extra_warning_msg=_LOGISTIC_SOLVER_CONVERGENCE_MSG)\n"
          ],
          "name": "stderr"
        },
        {
          "output_type": "execute_result",
          "data": {
            "text/plain": [
              "LogisticRegression(C=1.0, class_weight=None, dual=False, fit_intercept=True,\n",
              "                   intercept_scaling=1, l1_ratio=None, max_iter=100,\n",
              "                   multi_class='auto', n_jobs=None, penalty='l2',\n",
              "                   random_state=None, solver='lbfgs', tol=0.0001, verbose=0,\n",
              "                   warm_start=False)"
            ]
          },
          "metadata": {
            "tags": []
          },
          "execution_count": 162
        }
      ]
    },
    {
      "cell_type": "markdown",
      "metadata": {
        "id": "ZqKiFi_WYgCE",
        "colab_type": "text"
      },
      "source": [
        "Após o modelo treinado iremos realizar previsões e analisar as métricas, se for o caso, faremos alterações em nosso modelo."
      ]
    },
    {
      "cell_type": "code",
      "metadata": {
        "id": "Cnns4uTlYt-W",
        "colab_type": "code",
        "outputId": "889c048f-0aee-4398-e3e2-e3166b46ef86",
        "colab": {
          "base_uri": "https://localhost:8080/",
          "height": 34
        }
      },
      "source": [
        "#Previsões e probabilidades em cima do dataset de teste\n",
        "y_pred = ml_model.predict(X_test)\n",
        "\n",
        "# ver performance do algoritmo\n",
        "print('Performance: {}'.format(accuracy_score(y_test, y_pred)))"
      ],
      "execution_count": 0,
      "outputs": [
        {
          "output_type": "stream",
          "text": [
            "Performance: 0.8418934457646607\n"
          ],
          "name": "stdout"
        }
      ]
    },
    {
      "cell_type": "code",
      "metadata": {
        "id": "PU8lf_b0ZkDt",
        "colab_type": "code",
        "outputId": "5d9ee246-d017-4174-b503-09a4115b4beb",
        "colab": {
          "base_uri": "https://localhost:8080/",
          "height": 281
        }
      },
      "source": [
        "encoded_df.target_default.value_counts().plot(kind='bar');"
      ],
      "execution_count": 0,
      "outputs": [
        {
          "output_type": "display_data",
          "data": {
            "image/png": "[encoded data removed]",
            "text/plain": [
              "<Figure size 432x288 with 1 Axes>"
            ]
          },
          "metadata": {
            "tags": []
          }
        }
      ]
    },
    {
      "cell_type": "markdown",
      "metadata": {
        "id": "Invc1gCuaV6I",
        "colab_type": "text"
      },
      "source": [
        "Conseguimos uma performance de 84,18% em um conjunto de dados sem muita informação, como visto no gráfico acima, nosso dataset está totalmente desbalanceado, e com certeza temos uma melhor precisão em target_default com False."
      ]
    },
    {
      "cell_type": "code",
      "metadata": {
        "id": "B2VNnVPt_H7X",
        "colab_type": "code",
        "outputId": "158683ab-8416-479b-bc2a-fccaf2b5b9ed",
        "colab": {
          "base_uri": "https://localhost:8080/",
          "height": 173
        }
      },
      "source": [
        "print(classification_report(y_test, y_pred, digits=4))"
      ],
      "execution_count": 0,
      "outputs": [
        {
          "output_type": "stream",
          "text": [
            "              precision    recall  f1-score   support\n",
            "\n",
            "       False     0.8430    0.9983    0.9141      8791\n",
            "        True     0.4000    0.0061    0.0120      1645\n",
            "\n",
            "    accuracy                         0.8419     10436\n",
            "   macro avg     0.6215    0.5022    0.4630     10436\n",
            "weighted avg     0.7731    0.8419    0.7719     10436\n",
            "\n"
          ],
          "name": "stdout"
        }
      ]
    },
    {
      "cell_type": "markdown",
      "metadata": {
        "id": "VxHYaqPJ_Vko",
        "colab_type": "text"
      },
      "source": [
        "Conforme citado acima, podemos comprovar que temos o dobro de performance de False."
      ]
    },
    {
      "cell_type": "markdown",
      "metadata": {
        "id": "6w5mD2VGawn-",
        "colab_type": "text"
      },
      "source": [
        "Faremos um teste balanceando os dados e aplicando mais de um modelo."
      ]
    },
    {
      "cell_type": "markdown",
      "metadata": {
        "id": "acimgx5a_rRx",
        "colab_type": "text"
      },
      "source": [
        "# Balanceando os dados"
      ]
    },
    {
      "cell_type": "code",
      "metadata": {
        "id": "yoeuVIADC0Jz",
        "colab_type": "code",
        "outputId": "d16ce6d1-17a4-41a1-96ca-fc410a6a7a29",
        "colab": {
          "base_uri": "https://localhost:8080/",
          "height": 72
        }
      },
      "source": [
        "#Importar Bibliotecas\n",
        "from imblearn.under_sampling import RandomUnderSampler;\n",
        "# usar técnica under-sampling para balancear os dados, nesta técnica iremos manter nossos dados de minoria, e iremos colher a mesma quantidade de dados da maioria\n",
        "rus = RandomUnderSampler()\n",
        "X_rus, y_rus = rus.fit_sample(X_train, y_train)"
      ],
      "execution_count": 0,
      "outputs": [
        {
          "output_type": "stream",
          "text": [
            "/usr/local/lib/python3.6/dist-packages/sklearn/utils/deprecation.py:87: FutureWarning: Function safe_indexing is deprecated; safe_indexing is deprecated in version 0.22 and will be removed in version 0.24.\n",
            "  warnings.warn(msg, category=FutureWarning)\n"
          ],
          "name": "stderr"
        }
      ]
    },
    {
      "cell_type": "code",
      "metadata": {
        "id": "L1Nbopo8EzP7",
        "colab_type": "code",
        "outputId": "af99b7a5-3398-49bd-f738-264c030981cc",
        "colab": {
          "base_uri": "https://localhost:8080/",
          "height": 265
        }
      },
      "source": [
        "# plotar a nova distribuição de classes\n",
        "sns.countplot(y_rus);"
      ],
      "execution_count": 0,
      "outputs": [
        {
          "output_type": "display_data",
          "data": {
            "image/png": "[encoded data removed]",
            "text/plain": [
              "<Figure size 432x288 with 1 Axes>"
            ]
          },
          "metadata": {
            "tags": []
          }
        }
      ]
    },
    {
      "cell_type": "markdown",
      "metadata": {
        "id": "3uB-0kDaAYBh",
        "colab_type": "text"
      },
      "source": [
        "# Preparação, treinamendo e predição do modelo de Machine Learning 2 - Regressão Logística da Biblioteca sklearn"
      ]
    },
    {
      "cell_type": "code",
      "metadata": {
        "id": "H-Ov1GI5FJmw",
        "colab_type": "code",
        "outputId": "14033f83-0e3f-4e25-ffa9-8a246c724c56",
        "colab": {
          "base_uri": "https://localhost:8080/",
          "height": 104
        }
      },
      "source": [
        "# Treinar modelo de Machine Learning com dados balanceados\n",
        "ml_model1 = LogisticRegression(dual=False, max_iter=150, multi_class='auto')\n",
        "\n",
        "ml_model1.fit(X_rus, y_rus)"
      ],
      "execution_count": 0,
      "outputs": [
        {
          "output_type": "execute_result",
          "data": {
            "text/plain": [
              "LogisticRegression(C=1.0, class_weight=None, dual=False, fit_intercept=True,\n",
              "                   intercept_scaling=1, l1_ratio=None, max_iter=150,\n",
              "                   multi_class='auto', n_jobs=None, penalty='l2',\n",
              "                   random_state=None, solver='lbfgs', tol=0.0001, verbose=0,\n",
              "                   warm_start=False)"
            ]
          },
          "metadata": {
            "tags": []
          },
          "execution_count": 168
        }
      ]
    },
    {
      "cell_type": "markdown",
      "metadata": {
        "id": "htuwVf3wArJR",
        "colab_type": "text"
      },
      "source": [
        "Ao treinar o modelo identificamos uma valha ao convergir resultados True."
      ]
    },
    {
      "cell_type": "code",
      "metadata": {
        "id": "wX75QD2sFdKK",
        "colab_type": "code",
        "outputId": "794644f0-ab9d-4391-efd3-f44dc3c2f24c",
        "colab": {
          "base_uri": "https://localhost:8080/",
          "height": 34
        }
      },
      "source": [
        "# Previsões e probabilidades em cima do dataset de teste\n",
        "yb_pred = ml_model1.predict(X_test)\n",
        "\n",
        "# ver performance do algoritmo\n",
        "print('Performance: {}'.format(accuracy_score(y_test, yb_pred)))"
      ],
      "execution_count": 0,
      "outputs": [
        {
          "output_type": "stream",
          "text": [
            "Performance: 0.6268685320045995\n"
          ],
          "name": "stdout"
        }
      ]
    },
    {
      "cell_type": "code",
      "metadata": {
        "id": "gVFcJEQhrRzK",
        "colab_type": "code",
        "outputId": "103036e2-096d-4cbe-9a11-d601c377d532",
        "colab": {
          "base_uri": "https://localhost:8080/",
          "height": 173
        }
      },
      "source": [
        "# Análise da performance do algoritimo\n",
        "print(classification_report(y_test, yb_pred, digits=4))"
      ],
      "execution_count": 0,
      "outputs": [
        {
          "output_type": "stream",
          "text": [
            "              precision    recall  f1-score   support\n",
            "\n",
            "       False     0.8921    0.6337    0.7410      8791\n",
            "        True     0.2317    0.5903    0.3328      1645\n",
            "\n",
            "    accuracy                         0.6269     10436\n",
            "   macro avg     0.5619    0.6120    0.5369     10436\n",
            "weighted avg     0.7880    0.6269    0.6767     10436\n",
            "\n"
          ],
          "name": "stdout"
        }
      ]
    },
    {
      "cell_type": "markdown",
      "metadata": {
        "id": "AJgd4gz72xZr",
        "colab_type": "text"
      },
      "source": [
        "# Preparação, treinamendo e predição do modelo de Machine Learning 3 - Decision Tree classifier da Biblioteca sklearn"
      ]
    },
    {
      "cell_type": "markdown",
      "metadata": {
        "id": "JeMal2BeCTGB",
        "colab_type": "text"
      },
      "source": [
        "Ao testar novamenta com outro algoritimo de machine learning, quero entender o motivo da baixa performance, do algoritimo anterior com os dados balanceados."
      ]
    },
    {
      "cell_type": "code",
      "metadata": {
        "id": "M98I3yYM2ziI",
        "colab_type": "code",
        "colab": {}
      },
      "source": [
        "# criar e treinar um modelo de Regressão Linear\n",
        "from sklearn.tree import DecisionTreeClassifier"
      ],
      "execution_count": 0,
      "outputs": []
    },
    {
      "cell_type": "code",
      "metadata": {
        "id": "_1iyRSkl23Ig",
        "colab_type": "code",
        "outputId": "51f8aac0-e189-4ce2-9532-cd706592b72a",
        "colab": {
          "base_uri": "https://localhost:8080/",
          "height": 121
        }
      },
      "source": [
        "# criar e treinar um modelo de Regressão Linear\n",
        "dt_model = DecisionTreeClassifier(max_depth=7, criterion=\"entropy\", splitter='best')\n",
        "dt_model.fit(X_rus, y_rus)"
      ],
      "execution_count": 0,
      "outputs": [
        {
          "output_type": "execute_result",
          "data": {
            "text/plain": [
              "DecisionTreeClassifier(ccp_alpha=0.0, class_weight=None, criterion='entropy',\n",
              "                       max_depth=7, max_features=None, max_leaf_nodes=None,\n",
              "                       min_impurity_decrease=0.0, min_impurity_split=None,\n",
              "                       min_samples_leaf=1, min_samples_split=2,\n",
              "                       min_weight_fraction_leaf=0.0, presort='deprecated',\n",
              "                       random_state=None, splitter='best')"
            ]
          },
          "metadata": {
            "tags": []
          },
          "execution_count": 172
        }
      ]
    },
    {
      "cell_type": "code",
      "metadata": {
        "id": "saMR9O2V2884",
        "colab_type": "code",
        "outputId": "db53614b-2632-4e35-cb8d-f956ebe5aaac",
        "colab": {
          "base_uri": "https://localhost:8080/",
          "height": 69
        }
      },
      "source": [
        "# previsões e probabilidades em cima do dataset de teste\n",
        "yd_pred = dt_model.predict(X_test)\n",
        "\n",
        "# ver performance do algoritmo\n",
        "print(\"\\nAccuracy Score:\")\n",
        "print (accuracy_score(y_test, yd_pred))"
      ],
      "execution_count": 0,
      "outputs": [
        {
          "output_type": "stream",
          "text": [
            "\n",
            "Accuracy Score:\n",
            "0.6278267535454197\n"
          ],
          "name": "stdout"
        }
      ]
    },
    {
      "cell_type": "code",
      "metadata": {
        "id": "iE6Tm0Do3IvI",
        "colab_type": "code",
        "outputId": "7f98327c-5ba8-4b50-a449-0905939942fd",
        "colab": {
          "base_uri": "https://localhost:8080/",
          "height": 173
        }
      },
      "source": [
        "#Análise da performance do algoritimo\n",
        "print(classification_report(y_test, yd_pred, digits=4))"
      ],
      "execution_count": 0,
      "outputs": [
        {
          "output_type": "stream",
          "text": [
            "              precision    recall  f1-score   support\n",
            "\n",
            "       False     0.9000    0.6279    0.7397      8791\n",
            "        True     0.2398    0.6274    0.3470      1645\n",
            "\n",
            "    accuracy                         0.6278     10436\n",
            "   macro avg     0.5699    0.6276    0.5434     10436\n",
            "weighted avg     0.7960    0.6278    0.6778     10436\n",
            "\n"
          ],
          "name": "stdout"
        }
      ]
    },
    {
      "cell_type": "markdown",
      "metadata": {
        "id": "gvAJbNumJ5lX",
        "colab_type": "text"
      },
      "source": [
        "# Preparação, treinamendo e predição do modelo de Machine Learning 3 - XGBClassifier da biblioteca Xgboost "
      ]
    },
    {
      "cell_type": "code",
      "metadata": {
        "id": "ZIXMYPNiJ4Hm",
        "colab_type": "code",
        "colab": {}
      },
      "source": [
        "#Criar cópia dos datasets\n",
        "\n",
        "#Cópia para Target Default = True\n",
        "df_testetrue = encoded_df.copy()\n",
        "\n",
        "#Cópia para Target Default = False\n",
        "df_testefalse = encoded_df.copy()"
      ],
      "execution_count": 0,
      "outputs": []
    },
    {
      "cell_type": "code",
      "metadata": {
        "id": "mSyHVigxKRRQ",
        "colab_type": "code",
        "colab": {}
      },
      "source": [
        "#Dividir dataset para Target Default = True \n",
        "df_testetrue = df_testetrue.loc[df_testetrue['target_default'] == True]\n",
        "#Dividir dataset para Target Default = False\n",
        "df_testefalse = df_testefalse.loc[df_testefalse['target_default'] == False]"
      ],
      "execution_count": 0,
      "outputs": []
    },
    {
      "cell_type": "code",
      "metadata": {
        "id": "nzIvaGvEKk3A",
        "colab_type": "code",
        "outputId": "5733cc46-871e-4e70-cf4a-63f7e700669c",
        "colab": {
          "base_uri": "https://localhost:8080/",
          "height": 86
        }
      },
      "source": [
        "#Contagem de valores True no dataset\n",
        "print(\"Contagem de entradas True: {}\".format((df_testetrue['target_default'].value_counts())));\n",
        "#Contagem de valores False no dataset\n",
        "print(\"Contagem de entradas False: {}\".format(df_testefalse['target_default'].value_counts()));"
      ],
      "execution_count": 0,
      "outputs": [
        {
          "output_type": "stream",
          "text": [
            "Contagem de entradas True: True    6661\n",
            "Name: target_default, dtype: int64\n",
            "Contagem de entradas False: False    35080\n",
            "Name: target_default, dtype: int64\n"
          ],
          "name": "stdout"
        }
      ]
    },
    {
      "cell_type": "markdown",
      "metadata": {
        "id": "UO-bjtB9MvRc",
        "colab_type": "text"
      },
      "source": [
        "Iremos excluindo entradas em *df_testefalse* ou aumentando as entradas de acordo com a performance do algoritimo."
      ]
    },
    {
      "cell_type": "code",
      "metadata": {
        "id": "a8pCO-eeSamk",
        "colab_type": "code",
        "outputId": "cdce8f9a-82a1-4fe3-bd2d-7cee14e895de",
        "colab": {
          "base_uri": "https://localhost:8080/",
          "height": 34
        }
      },
      "source": [
        "#Escolhendo aleatóriamente entradas False\n",
        "df_testefalse = df_testefalse.sample(20000)\n",
        "\n",
        "#Agrupando o Datagrame df_testetrue e df_testefalse\n",
        "new_df = pd.concat([df_testefalse, df_testetrue])\n",
        "\n",
        "print('Entradas no dataset: {}'.format(new_df.shape[0]))"
      ],
      "execution_count": 0,
      "outputs": [
        {
          "output_type": "stream",
          "text": [
            "Entradas no dataset: 26661\n"
          ],
          "name": "stdout"
        }
      ]
    },
    {
      "cell_type": "code",
      "metadata": {
        "id": "GAVFmgULY1HK",
        "colab_type": "code",
        "colab": {}
      },
      "source": [
        "from xgboost import XGBClassifier"
      ],
      "execution_count": 0,
      "outputs": []
    },
    {
      "cell_type": "code",
      "metadata": {
        "id": "LyKwy1VqZMlC",
        "colab_type": "code",
        "colab": {}
      },
      "source": [
        "# separar as variáveis independentes da variável alvo\n",
        "X = new_df.drop('target_default', axis=1)\n",
        "y = new_df.target_default \n",
        "\n",
        "# Dividir o dataset entre treino e teste\n",
        "X_train, X_test, y_train, y_test = train_test_split(X,y)"
      ],
      "execution_count": 0,
      "outputs": []
    },
    {
      "cell_type": "code",
      "metadata": {
        "id": "zliu0c8yZ0Q0",
        "colab_type": "code",
        "outputId": "10f0a626-215d-4036-e034-9dc9b366146e",
        "colab": {
          "base_uri": "https://localhost:8080/",
          "height": 138
        }
      },
      "source": [
        "# instanciando o modelo e treinando o mesmo\n",
        "ml_model = XGBClassifier(learning_rate=0.02, n_estimators=1100, max_depth=3, subsample = 0.7, colsample_bytree = 1, gamma=10, random_state=10)\n",
        "\n",
        "ml_model.fit(X_train, y_train)"
      ],
      "execution_count": 0,
      "outputs": [
        {
          "output_type": "execute_result",
          "data": {
            "text/plain": [
              "XGBClassifier(base_score=0.5, booster='gbtree', colsample_bylevel=1,\n",
              "              colsample_bynode=1, colsample_bytree=1, gamma=10,\n",
              "              learning_rate=0.02, max_delta_step=0, max_depth=3,\n",
              "              min_child_weight=1, missing=None, n_estimators=1100, n_jobs=1,\n",
              "              nthread=None, objective='binary:logistic', random_state=10,\n",
              "              reg_alpha=0, reg_lambda=1, scale_pos_weight=1, seed=None,\n",
              "              silent=None, subsample=0.7, verbosity=1)"
            ]
          },
          "metadata": {
            "tags": []
          },
          "execution_count": 181
        }
      ]
    },
    {
      "cell_type": "code",
      "metadata": {
        "id": "8D1Ls-tlaIna",
        "colab_type": "code",
        "outputId": "8b8b6690-2bfe-4570-be45-d28d7230bee1",
        "colab": {
          "base_uri": "https://localhost:8080/",
          "height": 225
        }
      },
      "source": [
        "# previsões e probabilidades em cima do dataset de teste\n",
        "y_predx = ml_model.predict(X_test)\n",
        "\n",
        "# ver performance do algoritmo\n",
        "print(\"\\nAccuracy Score:\")\n",
        "print (accuracy_score(y_test, y_predx))\n",
        "print(classification_report(y_test, y_predx, digits=4))\n"
      ],
      "execution_count": 0,
      "outputs": [
        {
          "output_type": "stream",
          "text": [
            "\n",
            "Accuracy Score:\n",
            "0.7593759375937594\n",
            "              precision    recall  f1-score   support\n",
            "\n",
            "       False     0.7671    0.9696    0.8566      4939\n",
            "        True     0.6454    0.1581    0.2540      1727\n",
            "\n",
            "    accuracy                         0.7594      6666\n",
            "   macro avg     0.7062    0.5639    0.5553      6666\n",
            "weighted avg     0.7356    0.7594    0.7004      6666\n",
            "\n"
          ],
          "name": "stdout"
        }
      ]
    },
    {
      "cell_type": "markdown",
      "metadata": {
        "id": "CC_vJDMc-4jR",
        "colab_type": "text"
      },
      "source": [
        "# Conclusão"
      ]
    },
    {
      "cell_type": "markdown",
      "metadata": {
        "id": "PuVurTz3eRwr",
        "colab_type": "text"
      },
      "source": [
        "**Modelo de Machine Learning 1** - Regressão Logística da Biblioteca sklearn - Com os dados desbalanceados com uma representação de aproximados 5000 True e 35000 False, tivemos uma performance geral de 84,19%, porém analisando a precisão para True, tivemos somente 40%.\n",
        "\n",
        "Após as análises acima realizei o balanceamento dos dados onde obtive os seguinte resultados:\n",
        "\n",
        "**Modelo de Machine Learning 2** - Regressão Logística da Biblioteca sklearn (Dados balanceados)\n",
        "\n",
        "Utilizando a técnica de under-sampling para balancear os dados, tivemos entradas aproximadas de 5000 para False e 5000 para True, nossa performance geral caiu para 62,69%, nossa precisão para False subiu para 89%, porém a precisão para True caiu para 23,60%.\n",
        "\n",
        "**Modelo de Machine Learning 3**\n",
        "Realizamos uma terceira tentativa com Arvore de Decisão da biblioteca Slearn, com os dados balanceados\n",
        "\n",
        "Tivemos uma performance geral de 62,78% e praticamente mantivemos os números do segundo algoritimo que testamos\n",
        "\n",
        "**Modelo de Machine Learning 4**\n",
        "Para finalizar, utilizei a biblioteca XGBoost\n",
        "\n",
        "Tive problemas para utilizar os dados balanceados da forma que a biblioteca imblearn.under_sampling me trouxe os dados, então utilizando python e pandas dividi o conjunto de dados entre True e False, desta forma podia controlar a quantidade de entradas False iria incluir e analisar a performance."
      ]
    },
    {
      "cell_type": "code",
      "metadata": {
        "id": "gJA2bjH4wh5L",
        "colab_type": "code",
        "colab": {}
      },
      "source": [
        "df_result = {\n",
        "    'Entradas False' : [6661, 15000, 20000, 25000, 35080],\n",
        "    'Performance Geral' : [0.6605, 0.7291, 0.7609, 0.7955, 0.8380],\n",
        "    'Precisão para True' : [0.6550, 0.6507, 0.6497, 0.6331, 0.5873],\n",
        "    'Precisão para False' : [0.6661, 0.7390, 0.7675, 0.8021, 0.8410],\n",
        "}\n",
        "\n",
        "df_result = pd.DataFrame(df_result)"
      ],
      "execution_count": 0,
      "outputs": []
    },
    {
      "cell_type": "code",
      "metadata": {
        "id": "s08V-xjsx9bo",
        "colab_type": "code",
        "outputId": "c66795a9-15f2-4d3b-92e4-6fab0a6151b2",
        "colab": {
          "base_uri": "https://localhost:8080/",
          "height": 606
        }
      },
      "source": [
        "#Plotar figure\n",
        "fig, ax = plt.subplots(figsize=(15,10))\n",
        "\n",
        "#Plotar gráfico\n",
        "df_result.plot('Entradas False', ax=ax);"
      ],
      "execution_count": 0,
      "outputs": [
        {
          "output_type": "display_data",
          "data": {
            "image/png": "[encoded data removed]",
            "text/plain": [
              "<Figure size 1080x720 with 1 Axes>"
            ]
          },
          "metadata": {
            "tags": []
          }
        }
      ]
    },
    {
      "cell_type": "markdown",
      "metadata": {
        "id": "23kjHl_65oir",
        "colab_type": "text"
      },
      "source": [
        "Analisando o gráfico temos a precisão para False crescente conforme temos um aumento na quantidade de dados, junto com a precisão geral, na precisão para True, como temos uma menor quantidade de dados, a partir de 20000 entradas de False para 6661 de True, temos uma grande queda de performance.\n",
        "\n",
        "Conclui que para conseguir uma melhor performance neste algotirimo necessitaríamos de mais dados, principalmente com resultados True."
      ]
    }
  ]
}