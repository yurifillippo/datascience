{
  "nbformat": 4,
  "nbformat_minor": 0,
  "metadata": {
    "colab": {
      "name": "Projeto_FortBrasil.ipynb",
      "provenance": [],
      "collapsed_sections": [],
      "mount_file_id": "1jc1mKUgocUlSCPb9L1-oXKmtrYVB6Gt5",
      "authorship_tag": "ABX9TyNDrUHIdXsfmX8evwPta6Gm",
      "include_colab_link": true
    },
    "kernelspec": {
      "name": "python3",
      "display_name": "Python 3"
    }
  },
  "cells": [
    {
      "cell_type": "markdown",
      "metadata": {
        "id": "view-in-github",
        "colab_type": "text"
      },
      "source": [
        "<a href=\"https://colab.research.google.com/github/yurifillippo/datascience/blob/master/Projeto_FortBrasil.ipynb\" target=\"_parent\"><img src=\"https://colab.research.google.com/assets/colab-badge.svg\" alt=\"Open In Colab\"/></a>"
      ]
    },
    {
      "cell_type": "markdown",
      "metadata": {
        "id": "Nq9HMiPzDz8v",
        "colab_type": "text"
      },
      "source": [
        "De acordo com os dados, temos os seguintes questionamentos:\n",
        "\n",
        "2.1 - Que tipo de problema estamos enfrentando e qual técnica você utilizaria para resolver esse problema?\n",
        "\n",
        "O problema enfrentado é de classificação de clientes, onde temos que buscar prever se o cliente irá ou não realizar o pagamento da fatura no mês seguinte.\n",
        "\n",
        "Vou utilizar um algoritimo de regressão logística da biblioteca Sklearng, porém, antes de iniciar o modelo, trabalharei os dados buscando identificar possíveis valores nulos, ajustar os tipos de variáveis, balanceamento dos dados, etc."
      ]
    },
    {
      "cell_type": "code",
      "metadata": {
        "id": "CJDT6Fi6vbei",
        "colab_type": "code",
        "colab": {}
      },
      "source": [
        "#Importar bibliotecas\n",
        "import pandas as pd\n",
        "import seaborn as sns\n",
        "import numpy as np\n",
        "import matplotlib.pyplot as plt"
      ],
      "execution_count": null,
      "outputs": []
    },
    {
      "cell_type": "code",
      "metadata": {
        "id": "FK8aNK7hv3V-",
        "colab_type": "code",
        "colab": {
          "base_uri": "https://localhost:8080/",
          "height": 240
        },
        "outputId": "fe30e56d-a0a5-4039-a39d-0d10a4d8d017"
      },
      "source": [
        "#Importar dataset\n",
        "df = pd.read_csv('/content/drive/My Drive/FortBrasil/questao3_creditcard.csv', sep=\";\")\n",
        "\n",
        "#Ver Tamanho do dataset\n",
        "print(df.shape)\n",
        "\n",
        "#Ver primeiras entradas\n",
        "df.head()"
      ],
      "execution_count": null,
      "outputs": [
        {
          "output_type": "stream",
          "text": [
            "(27278, 24)\n"
          ],
          "name": "stdout"
        },
        {
          "output_type": "execute_result",
          "data": {
            "text/html": [
              "<div>\n",
              "<style scoped>\n",
              "    .dataframe tbody tr th:only-of-type {\n",
              "        vertical-align: middle;\n",
              "    }\n",
              "\n",
              "    .dataframe tbody tr th {\n",
              "        vertical-align: top;\n",
              "    }\n",
              "\n",
              "    .dataframe thead th {\n",
              "        text-align: right;\n",
              "    }\n",
              "</style>\n",
              "<table border=\"1\" class=\"dataframe\">\n",
              "  <thead>\n",
              "    <tr style=\"text-align: right;\">\n",
              "      <th></th>\n",
              "      <th>X1</th>\n",
              "      <th>X2</th>\n",
              "      <th>X3</th>\n",
              "      <th>X4</th>\n",
              "      <th>X5</th>\n",
              "      <th>X6</th>\n",
              "      <th>X7</th>\n",
              "      <th>X8</th>\n",
              "      <th>X9</th>\n",
              "      <th>X10</th>\n",
              "      <th>X11</th>\n",
              "      <th>X12</th>\n",
              "      <th>X13</th>\n",
              "      <th>X14</th>\n",
              "      <th>X15</th>\n",
              "      <th>X16</th>\n",
              "      <th>X17</th>\n",
              "      <th>X18</th>\n",
              "      <th>X19</th>\n",
              "      <th>X20</th>\n",
              "      <th>X21</th>\n",
              "      <th>X22</th>\n",
              "      <th>X23</th>\n",
              "      <th>Y</th>\n",
              "    </tr>\n",
              "  </thead>\n",
              "  <tbody>\n",
              "    <tr>\n",
              "      <th>0</th>\n",
              "      <td>LIMIT_BAL</td>\n",
              "      <td>SEX</td>\n",
              "      <td>EDUCATION</td>\n",
              "      <td>MARRIAGE</td>\n",
              "      <td>AGE</td>\n",
              "      <td>PAY_0</td>\n",
              "      <td>PAY_2</td>\n",
              "      <td>PAY_3</td>\n",
              "      <td>PAY_4</td>\n",
              "      <td>PAY_5</td>\n",
              "      <td>PAY_6</td>\n",
              "      <td>BILL_AMT1</td>\n",
              "      <td>BILL_AMT2</td>\n",
              "      <td>BILL_AMT3</td>\n",
              "      <td>BILL_AMT4</td>\n",
              "      <td>BILL_AMT5</td>\n",
              "      <td>BILL_AMT6</td>\n",
              "      <td>PAY_AMT1</td>\n",
              "      <td>PAY_AMT2</td>\n",
              "      <td>PAY_AMT3</td>\n",
              "      <td>PAY_AMT4</td>\n",
              "      <td>PAY_AMT5</td>\n",
              "      <td>PAY_AMT6</td>\n",
              "      <td>default_payment</td>\n",
              "    </tr>\n",
              "    <tr>\n",
              "      <th>1</th>\n",
              "      <td>20000</td>\n",
              "      <td>2</td>\n",
              "      <td>2</td>\n",
              "      <td>1</td>\n",
              "      <td>24</td>\n",
              "      <td>2</td>\n",
              "      <td>2</td>\n",
              "      <td>-1</td>\n",
              "      <td>-1</td>\n",
              "      <td>-2</td>\n",
              "      <td>-2</td>\n",
              "      <td>3913</td>\n",
              "      <td>3102</td>\n",
              "      <td>689</td>\n",
              "      <td>0</td>\n",
              "      <td>0</td>\n",
              "      <td>0</td>\n",
              "      <td>0</td>\n",
              "      <td>689</td>\n",
              "      <td>0</td>\n",
              "      <td>0</td>\n",
              "      <td>0</td>\n",
              "      <td>0</td>\n",
              "      <td>1</td>\n",
              "    </tr>\n",
              "    <tr>\n",
              "      <th>2</th>\n",
              "      <td>120000</td>\n",
              "      <td>2</td>\n",
              "      <td>2</td>\n",
              "      <td>2</td>\n",
              "      <td>26</td>\n",
              "      <td>-1</td>\n",
              "      <td>2</td>\n",
              "      <td>0</td>\n",
              "      <td>0</td>\n",
              "      <td>0</td>\n",
              "      <td>2</td>\n",
              "      <td>2682</td>\n",
              "      <td>1725</td>\n",
              "      <td>2682</td>\n",
              "      <td>3272</td>\n",
              "      <td>3455</td>\n",
              "      <td>3261</td>\n",
              "      <td>0</td>\n",
              "      <td>1000</td>\n",
              "      <td>1000</td>\n",
              "      <td>1000</td>\n",
              "      <td>0</td>\n",
              "      <td>2000</td>\n",
              "      <td>1</td>\n",
              "    </tr>\n",
              "    <tr>\n",
              "      <th>3</th>\n",
              "      <td>90000</td>\n",
              "      <td>2</td>\n",
              "      <td>2</td>\n",
              "      <td>2</td>\n",
              "      <td>34</td>\n",
              "      <td>0</td>\n",
              "      <td>0</td>\n",
              "      <td>0</td>\n",
              "      <td>0</td>\n",
              "      <td>0</td>\n",
              "      <td>0</td>\n",
              "      <td>29239</td>\n",
              "      <td>14027</td>\n",
              "      <td>13559</td>\n",
              "      <td>14331</td>\n",
              "      <td>14948</td>\n",
              "      <td>15549</td>\n",
              "      <td>1518</td>\n",
              "      <td>1500</td>\n",
              "      <td>1000</td>\n",
              "      <td>1000</td>\n",
              "      <td>1000</td>\n",
              "      <td>5000</td>\n",
              "      <td>0</td>\n",
              "    </tr>\n",
              "    <tr>\n",
              "      <th>4</th>\n",
              "      <td>50000</td>\n",
              "      <td>2</td>\n",
              "      <td>2</td>\n",
              "      <td>1</td>\n",
              "      <td>37</td>\n",
              "      <td>0</td>\n",
              "      <td>0</td>\n",
              "      <td>0</td>\n",
              "      <td>0</td>\n",
              "      <td>0</td>\n",
              "      <td>0</td>\n",
              "      <td>46990</td>\n",
              "      <td>48233</td>\n",
              "      <td>49291</td>\n",
              "      <td>28314</td>\n",
              "      <td>28959</td>\n",
              "      <td>29547</td>\n",
              "      <td>2000</td>\n",
              "      <td>2019</td>\n",
              "      <td>1200</td>\n",
              "      <td>1100</td>\n",
              "      <td>1069</td>\n",
              "      <td>1000</td>\n",
              "      <td>0</td>\n",
              "    </tr>\n",
              "  </tbody>\n",
              "</table>\n",
              "</div>"
            ],
            "text/plain": [
              "          X1   X2         X3  ...       X22       X23                Y\n",
              "0  LIMIT_BAL  SEX  EDUCATION  ...  PAY_AMT5  PAY_AMT6  default_payment\n",
              "1      20000    2          2  ...         0         0                1\n",
              "2     120000    2          2  ...         0      2000                1\n",
              "3      90000    2          2  ...      1000      5000                0\n",
              "4      50000    2          2  ...      1069      1000                0\n",
              "\n",
              "[5 rows x 24 columns]"
            ]
          },
          "metadata": {
            "tags": []
          },
          "execution_count": 1353
        }
      ]
    },
    {
      "cell_type": "markdown",
      "metadata": {
        "id": "Z-qr2t_UxXHu",
        "colab_type": "text"
      },
      "source": [
        "Terei que inicialmente que excluir a entrada de index 0, todo dataset aparenta ter valores somente do tipo int(), irei analisar e se for o caso, alterar o tipo das variáveis."
      ]
    },
    {
      "cell_type": "code",
      "metadata": {
        "id": "8wXiGuyOy0AG",
        "colab_type": "code",
        "colab": {
          "base_uri": "https://localhost:8080/",
          "height": 416
        },
        "outputId": "c30184e1-dfe8-44d6-a276-bc8f901f2895"
      },
      "source": [
        "#Eliminar primeira entrada e dar reset no index\n",
        "df.drop([0], inplace=True)\n",
        "df = df.reset_index(drop=True)\n",
        "df"
      ],
      "execution_count": null,
      "outputs": [
        {
          "output_type": "execute_result",
          "data": {
            "text/html": [
              "<div>\n",
              "<style scoped>\n",
              "    .dataframe tbody tr th:only-of-type {\n",
              "        vertical-align: middle;\n",
              "    }\n",
              "\n",
              "    .dataframe tbody tr th {\n",
              "        vertical-align: top;\n",
              "    }\n",
              "\n",
              "    .dataframe thead th {\n",
              "        text-align: right;\n",
              "    }\n",
              "</style>\n",
              "<table border=\"1\" class=\"dataframe\">\n",
              "  <thead>\n",
              "    <tr style=\"text-align: right;\">\n",
              "      <th></th>\n",
              "      <th>X1</th>\n",
              "      <th>X2</th>\n",
              "      <th>X3</th>\n",
              "      <th>X4</th>\n",
              "      <th>X5</th>\n",
              "      <th>X6</th>\n",
              "      <th>X7</th>\n",
              "      <th>X8</th>\n",
              "      <th>X9</th>\n",
              "      <th>X10</th>\n",
              "      <th>X11</th>\n",
              "      <th>X12</th>\n",
              "      <th>X13</th>\n",
              "      <th>X14</th>\n",
              "      <th>X15</th>\n",
              "      <th>X16</th>\n",
              "      <th>X17</th>\n",
              "      <th>X18</th>\n",
              "      <th>X19</th>\n",
              "      <th>X20</th>\n",
              "      <th>X21</th>\n",
              "      <th>X22</th>\n",
              "      <th>X23</th>\n",
              "      <th>Y</th>\n",
              "    </tr>\n",
              "  </thead>\n",
              "  <tbody>\n",
              "    <tr>\n",
              "      <th>0</th>\n",
              "      <td>20000</td>\n",
              "      <td>2</td>\n",
              "      <td>2</td>\n",
              "      <td>1</td>\n",
              "      <td>24</td>\n",
              "      <td>2</td>\n",
              "      <td>2</td>\n",
              "      <td>-1</td>\n",
              "      <td>-1</td>\n",
              "      <td>-2</td>\n",
              "      <td>-2</td>\n",
              "      <td>3913</td>\n",
              "      <td>3102</td>\n",
              "      <td>689</td>\n",
              "      <td>0</td>\n",
              "      <td>0</td>\n",
              "      <td>0</td>\n",
              "      <td>0</td>\n",
              "      <td>689</td>\n",
              "      <td>0</td>\n",
              "      <td>0</td>\n",
              "      <td>0</td>\n",
              "      <td>0</td>\n",
              "      <td>1</td>\n",
              "    </tr>\n",
              "    <tr>\n",
              "      <th>1</th>\n",
              "      <td>120000</td>\n",
              "      <td>2</td>\n",
              "      <td>2</td>\n",
              "      <td>2</td>\n",
              "      <td>26</td>\n",
              "      <td>-1</td>\n",
              "      <td>2</td>\n",
              "      <td>0</td>\n",
              "      <td>0</td>\n",
              "      <td>0</td>\n",
              "      <td>2</td>\n",
              "      <td>2682</td>\n",
              "      <td>1725</td>\n",
              "      <td>2682</td>\n",
              "      <td>3272</td>\n",
              "      <td>3455</td>\n",
              "      <td>3261</td>\n",
              "      <td>0</td>\n",
              "      <td>1000</td>\n",
              "      <td>1000</td>\n",
              "      <td>1000</td>\n",
              "      <td>0</td>\n",
              "      <td>2000</td>\n",
              "      <td>1</td>\n",
              "    </tr>\n",
              "    <tr>\n",
              "      <th>2</th>\n",
              "      <td>90000</td>\n",
              "      <td>2</td>\n",
              "      <td>2</td>\n",
              "      <td>2</td>\n",
              "      <td>34</td>\n",
              "      <td>0</td>\n",
              "      <td>0</td>\n",
              "      <td>0</td>\n",
              "      <td>0</td>\n",
              "      <td>0</td>\n",
              "      <td>0</td>\n",
              "      <td>29239</td>\n",
              "      <td>14027</td>\n",
              "      <td>13559</td>\n",
              "      <td>14331</td>\n",
              "      <td>14948</td>\n",
              "      <td>15549</td>\n",
              "      <td>1518</td>\n",
              "      <td>1500</td>\n",
              "      <td>1000</td>\n",
              "      <td>1000</td>\n",
              "      <td>1000</td>\n",
              "      <td>5000</td>\n",
              "      <td>0</td>\n",
              "    </tr>\n",
              "    <tr>\n",
              "      <th>3</th>\n",
              "      <td>50000</td>\n",
              "      <td>2</td>\n",
              "      <td>2</td>\n",
              "      <td>1</td>\n",
              "      <td>37</td>\n",
              "      <td>0</td>\n",
              "      <td>0</td>\n",
              "      <td>0</td>\n",
              "      <td>0</td>\n",
              "      <td>0</td>\n",
              "      <td>0</td>\n",
              "      <td>46990</td>\n",
              "      <td>48233</td>\n",
              "      <td>49291</td>\n",
              "      <td>28314</td>\n",
              "      <td>28959</td>\n",
              "      <td>29547</td>\n",
              "      <td>2000</td>\n",
              "      <td>2019</td>\n",
              "      <td>1200</td>\n",
              "      <td>1100</td>\n",
              "      <td>1069</td>\n",
              "      <td>1000</td>\n",
              "      <td>0</td>\n",
              "    </tr>\n",
              "    <tr>\n",
              "      <th>4</th>\n",
              "      <td>50000</td>\n",
              "      <td>1</td>\n",
              "      <td>2</td>\n",
              "      <td>1</td>\n",
              "      <td>57</td>\n",
              "      <td>-1</td>\n",
              "      <td>0</td>\n",
              "      <td>-1</td>\n",
              "      <td>0</td>\n",
              "      <td>0</td>\n",
              "      <td>0</td>\n",
              "      <td>8617</td>\n",
              "      <td>5670</td>\n",
              "      <td>35835</td>\n",
              "      <td>20940</td>\n",
              "      <td>19146</td>\n",
              "      <td>19131</td>\n",
              "      <td>2000</td>\n",
              "      <td>36681</td>\n",
              "      <td>10000</td>\n",
              "      <td>9000</td>\n",
              "      <td>689</td>\n",
              "      <td>679</td>\n",
              "      <td>0</td>\n",
              "    </tr>\n",
              "    <tr>\n",
              "      <th>...</th>\n",
              "      <td>...</td>\n",
              "      <td>...</td>\n",
              "      <td>...</td>\n",
              "      <td>...</td>\n",
              "      <td>...</td>\n",
              "      <td>...</td>\n",
              "      <td>...</td>\n",
              "      <td>...</td>\n",
              "      <td>...</td>\n",
              "      <td>...</td>\n",
              "      <td>...</td>\n",
              "      <td>...</td>\n",
              "      <td>...</td>\n",
              "      <td>...</td>\n",
              "      <td>...</td>\n",
              "      <td>...</td>\n",
              "      <td>...</td>\n",
              "      <td>...</td>\n",
              "      <td>...</td>\n",
              "      <td>...</td>\n",
              "      <td>...</td>\n",
              "      <td>...</td>\n",
              "      <td>...</td>\n",
              "      <td>...</td>\n",
              "    </tr>\n",
              "    <tr>\n",
              "      <th>27272</th>\n",
              "      <td>100000</td>\n",
              "      <td>1</td>\n",
              "      <td>1</td>\n",
              "      <td>2</td>\n",
              "      <td>38</td>\n",
              "      <td>0</td>\n",
              "      <td>-1</td>\n",
              "      <td>-1</td>\n",
              "      <td>0</td>\n",
              "      <td>0</td>\n",
              "      <td>0</td>\n",
              "      <td>3042</td>\n",
              "      <td>1427</td>\n",
              "      <td>102996</td>\n",
              "      <td>70626</td>\n",
              "      <td>69473</td>\n",
              "      <td>55004</td>\n",
              "      <td>2000</td>\n",
              "      <td>111784</td>\n",
              "      <td>4000</td>\n",
              "      <td>3000</td>\n",
              "      <td>2000</td>\n",
              "      <td>2000</td>\n",
              "      <td>0</td>\n",
              "    </tr>\n",
              "    <tr>\n",
              "      <th>27273</th>\n",
              "      <td>80000</td>\n",
              "      <td>1</td>\n",
              "      <td>2</td>\n",
              "      <td>2</td>\n",
              "      <td>34</td>\n",
              "      <td>2</td>\n",
              "      <td>2</td>\n",
              "      <td>2</td>\n",
              "      <td>2</td>\n",
              "      <td>2</td>\n",
              "      <td>2</td>\n",
              "      <td>72557</td>\n",
              "      <td>77708</td>\n",
              "      <td>79384</td>\n",
              "      <td>77519</td>\n",
              "      <td>82607</td>\n",
              "      <td>81158</td>\n",
              "      <td>7000</td>\n",
              "      <td>3500</td>\n",
              "      <td>0</td>\n",
              "      <td>7000</td>\n",
              "      <td>0</td>\n",
              "      <td>4000</td>\n",
              "      <td>1</td>\n",
              "    </tr>\n",
              "    <tr>\n",
              "      <th>27274</th>\n",
              "      <td>150000</td>\n",
              "      <td>1</td>\n",
              "      <td>3</td>\n",
              "      <td>2</td>\n",
              "      <td>43</td>\n",
              "      <td>-1</td>\n",
              "      <td>-1</td>\n",
              "      <td>-1</td>\n",
              "      <td>-1</td>\n",
              "      <td>0</td>\n",
              "      <td>0</td>\n",
              "      <td>1683</td>\n",
              "      <td>1828</td>\n",
              "      <td>3502</td>\n",
              "      <td>8979</td>\n",
              "      <td>5190</td>\n",
              "      <td>0</td>\n",
              "      <td>1837</td>\n",
              "      <td>3526</td>\n",
              "      <td>8998</td>\n",
              "      <td>129</td>\n",
              "      <td>0</td>\n",
              "      <td>0</td>\n",
              "      <td>0</td>\n",
              "    </tr>\n",
              "    <tr>\n",
              "      <th>27275</th>\n",
              "      <td>30000</td>\n",
              "      <td>1</td>\n",
              "      <td>2</td>\n",
              "      <td>2</td>\n",
              "      <td>37</td>\n",
              "      <td>4</td>\n",
              "      <td>3</td>\n",
              "      <td>2</td>\n",
              "      <td>-1</td>\n",
              "      <td>0</td>\n",
              "      <td>0</td>\n",
              "      <td>3565</td>\n",
              "      <td>3356</td>\n",
              "      <td>2758</td>\n",
              "      <td>20878</td>\n",
              "      <td>20582</td>\n",
              "      <td>19357</td>\n",
              "      <td>0</td>\n",
              "      <td>0</td>\n",
              "      <td>22000</td>\n",
              "      <td>4200</td>\n",
              "      <td>2000</td>\n",
              "      <td>3100</td>\n",
              "      <td>1</td>\n",
              "    </tr>\n",
              "    <tr>\n",
              "      <th>27276</th>\n",
              "      <td>80000</td>\n",
              "      <td>1</td>\n",
              "      <td>3</td>\n",
              "      <td>1</td>\n",
              "      <td>41</td>\n",
              "      <td>1</td>\n",
              "      <td>-1</td>\n",
              "      <td>0</td>\n",
              "      <td>0</td>\n",
              "      <td>0</td>\n",
              "      <td>-1</td>\n",
              "      <td>-1645</td>\n",
              "      <td>78379</td>\n",
              "      <td>76304</td>\n",
              "      <td>52774</td>\n",
              "      <td>11855</td>\n",
              "      <td>48944</td>\n",
              "      <td>85900</td>\n",
              "      <td>3409</td>\n",
              "      <td>1178</td>\n",
              "      <td>1926</td>\n",
              "      <td>52964</td>\n",
              "      <td>1804</td>\n",
              "      <td>1</td>\n",
              "    </tr>\n",
              "  </tbody>\n",
              "</table>\n",
              "<p>27277 rows × 24 columns</p>\n",
              "</div>"
            ],
            "text/plain": [
              "           X1 X2 X3 X4  X5  X6  X7  ...    X18     X19    X20   X21    X22   X23  Y\n",
              "0       20000  2  2  1  24   2   2  ...      0     689      0     0      0     0  1\n",
              "1      120000  2  2  2  26  -1   2  ...      0    1000   1000  1000      0  2000  1\n",
              "2       90000  2  2  2  34   0   0  ...   1518    1500   1000  1000   1000  5000  0\n",
              "3       50000  2  2  1  37   0   0  ...   2000    2019   1200  1100   1069  1000  0\n",
              "4       50000  1  2  1  57  -1   0  ...   2000   36681  10000  9000    689   679  0\n",
              "...       ... .. .. ..  ..  ..  ..  ...    ...     ...    ...   ...    ...   ... ..\n",
              "27272  100000  1  1  2  38   0  -1  ...   2000  111784   4000  3000   2000  2000  0\n",
              "27273   80000  1  2  2  34   2   2  ...   7000    3500      0  7000      0  4000  1\n",
              "27274  150000  1  3  2  43  -1  -1  ...   1837    3526   8998   129      0     0  0\n",
              "27275   30000  1  2  2  37   4   3  ...      0       0  22000  4200   2000  3100  1\n",
              "27276   80000  1  3  1  41   1  -1  ...  85900    3409   1178  1926  52964  1804  1\n",
              "\n",
              "[27277 rows x 24 columns]"
            ]
          },
          "metadata": {
            "tags": []
          },
          "execution_count": 1354
        }
      ]
    },
    {
      "cell_type": "code",
      "metadata": {
        "id": "SoW_qRl7zhxA",
        "colab_type": "code",
        "colab": {
          "base_uri": "https://localhost:8080/",
          "height": 450
        },
        "outputId": "4ae8545a-c57c-40ab-a37b-612c8ab0962b"
      },
      "source": [
        "#Ver tipo das variáveis\n",
        "df.dtypes"
      ],
      "execution_count": null,
      "outputs": [
        {
          "output_type": "execute_result",
          "data": {
            "text/plain": [
              "X1     object\n",
              "X2     object\n",
              "X3     object\n",
              "X4     object\n",
              "X5     object\n",
              "X6     object\n",
              "X7     object\n",
              "X8     object\n",
              "X9     object\n",
              "X10    object\n",
              "X11    object\n",
              "X12    object\n",
              "X13    object\n",
              "X14    object\n",
              "X15    object\n",
              "X16    object\n",
              "X17    object\n",
              "X18    object\n",
              "X19    object\n",
              "X20    object\n",
              "X21    object\n",
              "X22    object\n",
              "X23    object\n",
              "Y      object\n",
              "dtype: object"
            ]
          },
          "metadata": {
            "tags": []
          },
          "execution_count": 1355
        }
      ]
    },
    {
      "cell_type": "markdown",
      "metadata": {
        "id": "rdq8OjAy0Dw3",
        "colab_type": "text"
      },
      "source": [
        "Todo dataset está como int(), vou alterar todas as variáveis e em seguida analisar o resumo estatístico das variáveis, a fim de identificar algum valor null ou outlier. "
      ]
    },
    {
      "cell_type": "code",
      "metadata": {
        "id": "sRLPIw-VjB42",
        "colab_type": "code",
        "colab": {}
      },
      "source": [
        "#Alterar variáveis para tipo int\n",
        "df = df.apply(pd.to_numeric)"
      ],
      "execution_count": null,
      "outputs": []
    },
    {
      "cell_type": "code",
      "metadata": {
        "id": "PPw9eIBckuTi",
        "colab_type": "code",
        "colab": {
          "base_uri": "https://localhost:8080/",
          "height": 314
        },
        "outputId": "fdd26253-ea04-4744-c8d0-9ce55e001709"
      },
      "source": [
        "#Analisar resumo estatístico\n",
        "df.describe()"
      ],
      "execution_count": null,
      "outputs": [
        {
          "output_type": "execute_result",
          "data": {
            "text/html": [
              "<div>\n",
              "<style scoped>\n",
              "    .dataframe tbody tr th:only-of-type {\n",
              "        vertical-align: middle;\n",
              "    }\n",
              "\n",
              "    .dataframe tbody tr th {\n",
              "        vertical-align: top;\n",
              "    }\n",
              "\n",
              "    .dataframe thead th {\n",
              "        text-align: right;\n",
              "    }\n",
              "</style>\n",
              "<table border=\"1\" class=\"dataframe\">\n",
              "  <thead>\n",
              "    <tr style=\"text-align: right;\">\n",
              "      <th></th>\n",
              "      <th>X1</th>\n",
              "      <th>X2</th>\n",
              "      <th>X3</th>\n",
              "      <th>X4</th>\n",
              "      <th>X5</th>\n",
              "      <th>X6</th>\n",
              "      <th>X7</th>\n",
              "      <th>X8</th>\n",
              "      <th>X9</th>\n",
              "      <th>X10</th>\n",
              "      <th>X11</th>\n",
              "      <th>X12</th>\n",
              "      <th>X13</th>\n",
              "      <th>X14</th>\n",
              "      <th>X15</th>\n",
              "      <th>X16</th>\n",
              "      <th>X17</th>\n",
              "      <th>X18</th>\n",
              "      <th>X19</th>\n",
              "      <th>X20</th>\n",
              "      <th>X21</th>\n",
              "      <th>X22</th>\n",
              "      <th>X23</th>\n",
              "      <th>Y</th>\n",
              "    </tr>\n",
              "  </thead>\n",
              "  <tbody>\n",
              "    <tr>\n",
              "      <th>count</th>\n",
              "      <td>27277.000000</td>\n",
              "      <td>27277.000000</td>\n",
              "      <td>27277.000000</td>\n",
              "      <td>27277.000000</td>\n",
              "      <td>27277.000000</td>\n",
              "      <td>27277.000000</td>\n",
              "      <td>27277.000000</td>\n",
              "      <td>27277.000000</td>\n",
              "      <td>27277.000000</td>\n",
              "      <td>27277.000000</td>\n",
              "      <td>27277.000000</td>\n",
              "      <td>27277.000000</td>\n",
              "      <td>27277.000000</td>\n",
              "      <td>2.727700e+04</td>\n",
              "      <td>27277.000000</td>\n",
              "      <td>27277.000000</td>\n",
              "      <td>27277.000000</td>\n",
              "      <td>27277.000000</td>\n",
              "      <td>2.727700e+04</td>\n",
              "      <td>27277.000000</td>\n",
              "      <td>27277.000000</td>\n",
              "      <td>27277.000000</td>\n",
              "      <td>27277.00000</td>\n",
              "      <td>27277.000000</td>\n",
              "    </tr>\n",
              "    <tr>\n",
              "      <th>mean</th>\n",
              "      <td>167569.369066</td>\n",
              "      <td>1.602156</td>\n",
              "      <td>1.854529</td>\n",
              "      <td>1.553287</td>\n",
              "      <td>35.498295</td>\n",
              "      <td>-0.011878</td>\n",
              "      <td>-0.129963</td>\n",
              "      <td>-0.164021</td>\n",
              "      <td>-0.216593</td>\n",
              "      <td>-0.262016</td>\n",
              "      <td>-0.287788</td>\n",
              "      <td>51349.616820</td>\n",
              "      <td>49293.677750</td>\n",
              "      <td>4.715000e+04</td>\n",
              "      <td>43394.140228</td>\n",
              "      <td>40425.756718</td>\n",
              "      <td>38998.131393</td>\n",
              "      <td>5693.453496</td>\n",
              "      <td>5.917119e+03</td>\n",
              "      <td>5239.719434</td>\n",
              "      <td>4831.205668</td>\n",
              "      <td>4837.650658</td>\n",
              "      <td>5197.53195</td>\n",
              "      <td>0.222092</td>\n",
              "    </tr>\n",
              "    <tr>\n",
              "      <th>std</th>\n",
              "      <td>129943.505747</td>\n",
              "      <td>0.489462</td>\n",
              "      <td>0.791572</td>\n",
              "      <td>0.521280</td>\n",
              "      <td>9.257493</td>\n",
              "      <td>1.124299</td>\n",
              "      <td>1.199402</td>\n",
              "      <td>1.199644</td>\n",
              "      <td>1.171351</td>\n",
              "      <td>1.136013</td>\n",
              "      <td>1.152935</td>\n",
              "      <td>73560.416137</td>\n",
              "      <td>71054.013602</td>\n",
              "      <td>6.936379e+04</td>\n",
              "      <td>64277.544992</td>\n",
              "      <td>60661.207444</td>\n",
              "      <td>59431.348578</td>\n",
              "      <td>16731.626186</td>\n",
              "      <td>2.337507e+04</td>\n",
              "      <td>17188.266605</td>\n",
              "      <td>15720.692286</td>\n",
              "      <td>15486.729576</td>\n",
              "      <td>17715.54146</td>\n",
              "      <td>0.415660</td>\n",
              "    </tr>\n",
              "    <tr>\n",
              "      <th>min</th>\n",
              "      <td>10000.000000</td>\n",
              "      <td>1.000000</td>\n",
              "      <td>0.000000</td>\n",
              "      <td>0.000000</td>\n",
              "      <td>21.000000</td>\n",
              "      <td>-2.000000</td>\n",
              "      <td>-2.000000</td>\n",
              "      <td>-2.000000</td>\n",
              "      <td>-2.000000</td>\n",
              "      <td>-2.000000</td>\n",
              "      <td>-2.000000</td>\n",
              "      <td>-165580.000000</td>\n",
              "      <td>-69777.000000</td>\n",
              "      <td>-1.572640e+05</td>\n",
              "      <td>-170000.000000</td>\n",
              "      <td>-81334.000000</td>\n",
              "      <td>-339603.000000</td>\n",
              "      <td>0.000000</td>\n",
              "      <td>0.000000e+00</td>\n",
              "      <td>0.000000</td>\n",
              "      <td>0.000000</td>\n",
              "      <td>0.000000</td>\n",
              "      <td>0.00000</td>\n",
              "      <td>0.000000</td>\n",
              "    </tr>\n",
              "    <tr>\n",
              "      <th>25%</th>\n",
              "      <td>50000.000000</td>\n",
              "      <td>1.000000</td>\n",
              "      <td>1.000000</td>\n",
              "      <td>1.000000</td>\n",
              "      <td>28.000000</td>\n",
              "      <td>-1.000000</td>\n",
              "      <td>-1.000000</td>\n",
              "      <td>-1.000000</td>\n",
              "      <td>-1.000000</td>\n",
              "      <td>-1.000000</td>\n",
              "      <td>-1.000000</td>\n",
              "      <td>3616.000000</td>\n",
              "      <td>3035.000000</td>\n",
              "      <td>2.748000e+03</td>\n",
              "      <td>2368.000000</td>\n",
              "      <td>1790.000000</td>\n",
              "      <td>1270.000000</td>\n",
              "      <td>1000.000000</td>\n",
              "      <td>8.400000e+02</td>\n",
              "      <td>390.000000</td>\n",
              "      <td>296.000000</td>\n",
              "      <td>244.000000</td>\n",
              "      <td>134.00000</td>\n",
              "      <td>0.000000</td>\n",
              "    </tr>\n",
              "    <tr>\n",
              "      <th>50%</th>\n",
              "      <td>140000.000000</td>\n",
              "      <td>2.000000</td>\n",
              "      <td>2.000000</td>\n",
              "      <td>2.000000</td>\n",
              "      <td>34.000000</td>\n",
              "      <td>0.000000</td>\n",
              "      <td>0.000000</td>\n",
              "      <td>0.000000</td>\n",
              "      <td>0.000000</td>\n",
              "      <td>0.000000</td>\n",
              "      <td>0.000000</td>\n",
              "      <td>22619.000000</td>\n",
              "      <td>21458.000000</td>\n",
              "      <td>2.026000e+04</td>\n",
              "      <td>19117.000000</td>\n",
              "      <td>18184.000000</td>\n",
              "      <td>17180.000000</td>\n",
              "      <td>2105.000000</td>\n",
              "      <td>2.012000e+03</td>\n",
              "      <td>1807.000000</td>\n",
              "      <td>1500.000000</td>\n",
              "      <td>1500.000000</td>\n",
              "      <td>1500.00000</td>\n",
              "      <td>0.000000</td>\n",
              "    </tr>\n",
              "    <tr>\n",
              "      <th>75%</th>\n",
              "      <td>240000.000000</td>\n",
              "      <td>2.000000</td>\n",
              "      <td>2.000000</td>\n",
              "      <td>2.000000</td>\n",
              "      <td>41.000000</td>\n",
              "      <td>0.000000</td>\n",
              "      <td>0.000000</td>\n",
              "      <td>0.000000</td>\n",
              "      <td>0.000000</td>\n",
              "      <td>0.000000</td>\n",
              "      <td>0.000000</td>\n",
              "      <td>67336.000000</td>\n",
              "      <td>64105.000000</td>\n",
              "      <td>6.038500e+04</td>\n",
              "      <td>54794.000000</td>\n",
              "      <td>50372.000000</td>\n",
              "      <td>49341.000000</td>\n",
              "      <td>5008.000000</td>\n",
              "      <td>5.000000e+03</td>\n",
              "      <td>4530.000000</td>\n",
              "      <td>4010.000000</td>\n",
              "      <td>4055.000000</td>\n",
              "      <td>4000.00000</td>\n",
              "      <td>0.000000</td>\n",
              "    </tr>\n",
              "    <tr>\n",
              "      <th>max</th>\n",
              "      <td>800000.000000</td>\n",
              "      <td>2.000000</td>\n",
              "      <td>6.000000</td>\n",
              "      <td>3.000000</td>\n",
              "      <td>79.000000</td>\n",
              "      <td>8.000000</td>\n",
              "      <td>8.000000</td>\n",
              "      <td>8.000000</td>\n",
              "      <td>8.000000</td>\n",
              "      <td>8.000000</td>\n",
              "      <td>8.000000</td>\n",
              "      <td>746814.000000</td>\n",
              "      <td>743970.000000</td>\n",
              "      <td>1.664089e+06</td>\n",
              "      <td>706864.000000</td>\n",
              "      <td>823540.000000</td>\n",
              "      <td>699944.000000</td>\n",
              "      <td>873552.000000</td>\n",
              "      <td>1.684259e+06</td>\n",
              "      <td>889043.000000</td>\n",
              "      <td>621000.000000</td>\n",
              "      <td>426529.000000</td>\n",
              "      <td>528666.00000</td>\n",
              "      <td>1.000000</td>\n",
              "    </tr>\n",
              "  </tbody>\n",
              "</table>\n",
              "</div>"
            ],
            "text/plain": [
              "                  X1            X2  ...           X23             Y\n",
              "count   27277.000000  27277.000000  ...   27277.00000  27277.000000\n",
              "mean   167569.369066      1.602156  ...    5197.53195      0.222092\n",
              "std    129943.505747      0.489462  ...   17715.54146      0.415660\n",
              "min     10000.000000      1.000000  ...       0.00000      0.000000\n",
              "25%     50000.000000      1.000000  ...     134.00000      0.000000\n",
              "50%    140000.000000      2.000000  ...    1500.00000      0.000000\n",
              "75%    240000.000000      2.000000  ...    4000.00000      0.000000\n",
              "max    800000.000000      2.000000  ...  528666.00000      1.000000\n",
              "\n",
              "[8 rows x 24 columns]"
            ]
          },
          "metadata": {
            "tags": []
          },
          "execution_count": 1357
        }
      ]
    },
    {
      "cell_type": "markdown",
      "metadata": {
        "id": "eJX6dxPi5PBr",
        "colab_type": "text"
      },
      "source": [
        "De acordo com o dataset acima, e com a quantidade de informações que recebi sobre os dados, os valores aparentam estar coerentes, sem valores nulos.\n",
        "\n",
        "Por se tratar de dados onde a variável alvo podemos ter apenas dois valores ( 0 ou 1), para a melhor performance do nosso modelo, temos que avaliar a distribuição:"
      ]
    },
    {
      "cell_type": "code",
      "metadata": {
        "id": "Mkihd60Smm16",
        "colab_type": "code",
        "colab": {
          "base_uri": "https://localhost:8080/",
          "height": 365
        },
        "outputId": "5773496d-4cbe-454c-aed6-8c16d50908a5"
      },
      "source": [
        "#Verificar balanceamento do dataset\n",
        "print(\"Pagaria fatura?\")\n",
        "print(\"1 - Sim: {:.2%} \\n2 - Não: {:.2%}\\n\\n\".format(df[df.Y ==1].shape[0] / df.Y.shape[0] , 1 - (df[df.Y ==1].shape[0] / (df.Y.shape[0]))))\n",
        "\n",
        "#Gerar gráfico com balanceamento dos dados para transações Normais ou Fraudes\n",
        "sns.countplot('Y', data=df);"
      ],
      "execution_count": null,
      "outputs": [
        {
          "output_type": "stream",
          "text": [
            "Pagaria fatura?\n",
            "1 - Sim: 22.21% \n",
            "2 - Não: 77.79%\n",
            "\n",
            "\n"
          ],
          "name": "stdout"
        },
        {
          "output_type": "display_data",
          "data": {
            "image/png": "[encoded data removed]",
            "text/plain": [
              "<Figure size 432x288 with 1 Axes>"
            ]
          },
          "metadata": {
            "tags": [],
            "needs_background": "light"
          }
        }
      ]
    },
    {
      "cell_type": "markdown",
      "metadata": {
        "id": "-j7ieKr6wI1h",
        "colab_type": "text"
      },
      "source": [
        "O gráfico mostra o desbalanceamento dos dados, onde somente 22,21% pagariam a fatura e 77,79% não pagaria. O que indica que teremos que realizar um balanceamento nos dados para conseguimos uma boa performance no algoritimo.\n",
        "\n",
        "Muitas das variáveis podem não ter relação com o resultado final, por este movito, vou analisar as variáveis e suas correlações, mantendo as correlações positivas para o modelo:"
      ]
    },
    {
      "cell_type": "code",
      "metadata": {
        "id": "onL-Wtbt1MSo",
        "colab_type": "code",
        "colab": {}
      },
      "source": [
        "#Criar matriz de correlação das variáveis\n",
        "corr = df.corr()"
      ],
      "execution_count": null,
      "outputs": []
    },
    {
      "cell_type": "code",
      "metadata": {
        "id": "vdTXbUuryKyX",
        "colab_type": "code",
        "colab": {
          "base_uri": "https://localhost:8080/",
          "height": 1000
        },
        "outputId": "ae64708c-30c7-475c-d2f9-acf5497a937c"
      },
      "source": [
        "#Plotar figure\n",
        "fig, ax = plt.subplots(figsize=(18,18))\n",
        "\n",
        "#Plotar heatmap de correlações\n",
        "sns.heatmap(corr, cmap='RdBu', fmt='.2f', square=True, linecolor='white', annot=True, ax=ax);"
      ],
      "execution_count": null,
      "outputs": [
        {
          "output_type": "display_data",
          "data": {
            "image/png": "[encoded data removed]",
            "text/plain": [
              "<Figure size 1296x1296 with 2 Axes>"
            ]
          },
          "metadata": {
            "tags": [],
            "needs_background": "light"
          }
        }
      ]
    },
    {
      "cell_type": "code",
      "metadata": {
        "id": "tN84qtoA1Wh_",
        "colab_type": "code",
        "colab": {}
      },
      "source": [
        "#Manter somente variáveis com correlação positiva\n",
        "df.drop('X1', axis=1, inplace=True)\n",
        "df.drop('X2', axis=1, inplace=True)\n",
        "df.drop('X3', axis=1, inplace=True)\n",
        "df.drop('X4', axis=1, inplace=True)\n",
        "df.drop('X5', axis=1, inplace=True)\n",
        "df.drop('X18', axis=1, inplace=True)\n",
        "df.drop('X19', axis=1, inplace=True)\n",
        "df.drop('X20', axis=1, inplace=True)\n",
        "df.drop('X21', axis=1, inplace=True)\n",
        "df.drop('X22', axis=1, inplace=True)\n",
        "df.drop('X23', axis=1, inplace=True)"
      ],
      "execution_count": null,
      "outputs": []
    },
    {
      "cell_type": "markdown",
      "metadata": {
        "id": "nkrJyVBm7duM",
        "colab_type": "text"
      },
      "source": [
        "Neste momento vamos criar o modelo de Regressão Logística para tentar identificar se, de acordo com os dados, o cliente irá ou não fazer o pagamento"
      ]
    },
    {
      "cell_type": "code",
      "metadata": {
        "id": "JcMg7uIGoxq_",
        "colab_type": "code",
        "colab": {}
      },
      "source": [
        "#importar bibliotecas para modelo de machine learning\n",
        "from sklearn.linear_model import LogisticRegression\n",
        "from sklearn.model_selection import train_test_split\n",
        "from sklearn.metrics import classification_report\n",
        "from sklearn.metrics import confusion_matrix\n",
        "from imblearn.under_sampling import RandomUnderSampler;"
      ],
      "execution_count": null,
      "outputs": []
    },
    {
      "cell_type": "code",
      "metadata": {
        "id": "YGR1QLfCprJV",
        "colab_type": "code",
        "colab": {
          "base_uri": "https://localhost:8080/",
          "height": 372
        },
        "outputId": "3522f787-3d2c-4eae-ce95-efd66bbf9504"
      },
      "source": [
        "#Criar algoritimo\n",
        "model = LogisticRegression()\n",
        "\n",
        "#Definir X e y\n",
        "X = df.drop('Y', axis=1) \n",
        "y = df['Y']\n",
        "\n",
        "#Difidir dataset\n",
        "X_train, X_test, y_train, y_test = train_test_split(X,y, test_size= 0.35)\n",
        "\n",
        "# usar técnica under-sampling para balancear os dados, nesta técnica iremos manter nossos dados de minoria, e iremos colher a mesma quantidade de dados da maioria\n",
        "rus = RandomUnderSampler()\n",
        "X_rus, y_rus = rus.fit_sample(X_train, y_train)\n",
        "\n",
        "# ver o balanceamento das classes\n",
        "print(pd.Series(y_rus).value_counts())\n",
        "\n",
        "# plotar a nova distribuição de classes\n",
        "sns.countplot(y_rus);"
      ],
      "execution_count": null,
      "outputs": [
        {
          "output_type": "stream",
          "text": [
            "1    3956\n",
            "0    3956\n",
            "dtype: int64\n"
          ],
          "name": "stdout"
        },
        {
          "output_type": "stream",
          "text": [
            "/usr/local/lib/python3.6/dist-packages/sklearn/utils/deprecation.py:87: FutureWarning: Function safe_indexing is deprecated; safe_indexing is deprecated in version 0.22 and will be removed in version 0.24.\n",
            "  warnings.warn(msg, category=FutureWarning)\n"
          ],
          "name": "stderr"
        },
        {
          "output_type": "display_data",
          "data": {
            "image/png": "[encoded data removed]",
            "text/plain": [
              "<Figure size 432x288 with 1 Axes>"
            ]
          },
          "metadata": {
            "tags": [],
            "needs_background": "light"
          }
        }
      ]
    },
    {
      "cell_type": "markdown",
      "metadata": {
        "id": "5wcI8KHd8OZl",
        "colab_type": "text"
      },
      "source": [
        "Com os dados balanceados, vamos treinar nosso modelo e avaliar sua performance."
      ]
    },
    {
      "cell_type": "code",
      "metadata": {
        "id": "V4YalXeUyfa_",
        "colab_type": "code",
        "colab": {}
      },
      "source": [
        "# Treinar um modelo de Regressão Logística\n",
        "model = LogisticRegression(C=0.1, max_iter=350)\n",
        "\n",
        "model.fit(X_rus, y_rus)\n",
        "\n",
        "# Fazer as previsões em cima dos dados de teste\n",
        "y_pred = model.predict(X_rus)"
      ],
      "execution_count": null,
      "outputs": []
    },
    {
      "cell_type": "code",
      "metadata": {
        "id": "v2zvur83qBZ6",
        "colab_type": "code",
        "colab": {
          "base_uri": "https://localhost:8080/",
          "height": 173
        },
        "outputId": "5cccea6f-8524-4861-fb1e-21aefe9fa39b"
      },
      "source": [
        "# imprimir relatório de classificação\n",
        "print(classification_report(y_rus, y_pred, digits=4))"
      ],
      "execution_count": null,
      "outputs": [
        {
          "output_type": "stream",
          "text": [
            "              precision    recall  f1-score   support\n",
            "\n",
            "           0     0.6381    0.8481    0.7282      3956\n",
            "           1     0.7735    0.5190    0.6212      3956\n",
            "\n",
            "    accuracy                         0.6835      7912\n",
            "   macro avg     0.7058    0.6835    0.6747      7912\n",
            "weighted avg     0.7058    0.6835    0.6747      7912\n",
            "\n"
          ],
          "name": "stdout"
        }
      ]
    },
    {
      "cell_type": "code",
      "metadata": {
        "id": "lOGRINbS8fsC",
        "colab_type": "code",
        "colab": {}
      },
      "source": [
        "#Importar dataset com novos dados\n",
        "df_new = pd.read_csv(\"/content/drive/My Drive/FortBrasil/questao33_creditcard_clientes.csv\", sep=';')"
      ],
      "execution_count": null,
      "outputs": []
    },
    {
      "cell_type": "code",
      "metadata": {
        "id": "faCEKyiQ8qDP",
        "colab_type": "code",
        "colab": {
          "base_uri": "https://localhost:8080/",
          "height": 222
        },
        "outputId": "1aad7445-ce64-4991-c5ec-1d3ef34c77d4"
      },
      "source": [
        "df_new.head()"
      ],
      "execution_count": null,
      "outputs": [
        {
          "output_type": "execute_result",
          "data": {
            "text/html": [
              "<div>\n",
              "<style scoped>\n",
              "    .dataframe tbody tr th:only-of-type {\n",
              "        vertical-align: middle;\n",
              "    }\n",
              "\n",
              "    .dataframe tbody tr th {\n",
              "        vertical-align: top;\n",
              "    }\n",
              "\n",
              "    .dataframe thead th {\n",
              "        text-align: right;\n",
              "    }\n",
              "</style>\n",
              "<table border=\"1\" class=\"dataframe\">\n",
              "  <thead>\n",
              "    <tr style=\"text-align: right;\">\n",
              "      <th></th>\n",
              "      <th>X1</th>\n",
              "      <th>X2</th>\n",
              "      <th>X3</th>\n",
              "      <th>X4</th>\n",
              "      <th>X5</th>\n",
              "      <th>X6</th>\n",
              "      <th>X7</th>\n",
              "      <th>X8</th>\n",
              "      <th>X9</th>\n",
              "      <th>X10</th>\n",
              "      <th>X11</th>\n",
              "      <th>X12</th>\n",
              "      <th>X13</th>\n",
              "      <th>X14</th>\n",
              "      <th>X15</th>\n",
              "      <th>X16</th>\n",
              "      <th>X17</th>\n",
              "      <th>X18</th>\n",
              "      <th>X19</th>\n",
              "      <th>X20</th>\n",
              "      <th>X21</th>\n",
              "      <th>X22</th>\n",
              "      <th>X23</th>\n",
              "    </tr>\n",
              "  </thead>\n",
              "  <tbody>\n",
              "    <tr>\n",
              "      <th>0</th>\n",
              "      <td>LIMIT_BAL</td>\n",
              "      <td>SEX</td>\n",
              "      <td>EDUCATION</td>\n",
              "      <td>MARRIAGE</td>\n",
              "      <td>AGE</td>\n",
              "      <td>PAY_0</td>\n",
              "      <td>PAY_2</td>\n",
              "      <td>PAY_3</td>\n",
              "      <td>PAY_4</td>\n",
              "      <td>PAY_5</td>\n",
              "      <td>PAY_6</td>\n",
              "      <td>BILL_AMT1</td>\n",
              "      <td>BILL_AMT2</td>\n",
              "      <td>BILL_AMT3</td>\n",
              "      <td>BILL_AMT4</td>\n",
              "      <td>BILL_AMT5</td>\n",
              "      <td>BILL_AMT6</td>\n",
              "      <td>PAY_AMT1</td>\n",
              "      <td>PAY_AMT2</td>\n",
              "      <td>PAY_AMT3</td>\n",
              "      <td>PAY_AMT4</td>\n",
              "      <td>PAY_AMT5</td>\n",
              "      <td>PAY_AMT6</td>\n",
              "    </tr>\n",
              "    <tr>\n",
              "      <th>1</th>\n",
              "      <td>70000</td>\n",
              "      <td>2</td>\n",
              "      <td>2</td>\n",
              "      <td>2</td>\n",
              "      <td>26</td>\n",
              "      <td>2</td>\n",
              "      <td>0</td>\n",
              "      <td>0</td>\n",
              "      <td>2</td>\n",
              "      <td>2</td>\n",
              "      <td>2</td>\n",
              "      <td>41087</td>\n",
              "      <td>42445</td>\n",
              "      <td>45020</td>\n",
              "      <td>44006</td>\n",
              "      <td>46905</td>\n",
              "      <td>46012</td>\n",
              "      <td>2007</td>\n",
              "      <td>3582</td>\n",
              "      <td>0</td>\n",
              "      <td>3601</td>\n",
              "      <td>0</td>\n",
              "      <td>1820</td>\n",
              "    </tr>\n",
              "    <tr>\n",
              "      <th>2</th>\n",
              "      <td>230000</td>\n",
              "      <td>2</td>\n",
              "      <td>1</td>\n",
              "      <td>2</td>\n",
              "      <td>27</td>\n",
              "      <td>-1</td>\n",
              "      <td>-1</td>\n",
              "      <td>-1</td>\n",
              "      <td>-1</td>\n",
              "      <td>-1</td>\n",
              "      <td>-1</td>\n",
              "      <td>16646</td>\n",
              "      <td>17265</td>\n",
              "      <td>13266</td>\n",
              "      <td>15339</td>\n",
              "      <td>14307</td>\n",
              "      <td>36923</td>\n",
              "      <td>17270</td>\n",
              "      <td>13281</td>\n",
              "      <td>15339</td>\n",
              "      <td>14307</td>\n",
              "      <td>37292</td>\n",
              "      <td>0</td>\n",
              "    </tr>\n",
              "    <tr>\n",
              "      <th>3</th>\n",
              "      <td>50000</td>\n",
              "      <td>1</td>\n",
              "      <td>2</td>\n",
              "      <td>2</td>\n",
              "      <td>33</td>\n",
              "      <td>2</td>\n",
              "      <td>0</td>\n",
              "      <td>0</td>\n",
              "      <td>0</td>\n",
              "      <td>0</td>\n",
              "      <td>0</td>\n",
              "      <td>30518</td>\n",
              "      <td>29618</td>\n",
              "      <td>22102</td>\n",
              "      <td>22734</td>\n",
              "      <td>23217</td>\n",
              "      <td>23680</td>\n",
              "      <td>1718</td>\n",
              "      <td>1500</td>\n",
              "      <td>1000</td>\n",
              "      <td>1000</td>\n",
              "      <td>1000</td>\n",
              "      <td>716</td>\n",
              "    </tr>\n",
              "    <tr>\n",
              "      <th>4</th>\n",
              "      <td>50000</td>\n",
              "      <td>1</td>\n",
              "      <td>1</td>\n",
              "      <td>2</td>\n",
              "      <td>29</td>\n",
              "      <td>2</td>\n",
              "      <td>2</td>\n",
              "      <td>2</td>\n",
              "      <td>2</td>\n",
              "      <td>2</td>\n",
              "      <td>2</td>\n",
              "      <td>24987</td>\n",
              "      <td>24300</td>\n",
              "      <td>26591</td>\n",
              "      <td>25865</td>\n",
              "      <td>27667</td>\n",
              "      <td>28264</td>\n",
              "      <td>0</td>\n",
              "      <td>2700</td>\n",
              "      <td>0</td>\n",
              "      <td>2225</td>\n",
              "      <td>1200</td>\n",
              "      <td>0</td>\n",
              "    </tr>\n",
              "  </tbody>\n",
              "</table>\n",
              "</div>"
            ],
            "text/plain": [
              "          X1   X2         X3        X4  ...       X20       X21       X22       X23\n",
              "0  LIMIT_BAL  SEX  EDUCATION  MARRIAGE  ...  PAY_AMT3  PAY_AMT4  PAY_AMT5  PAY_AMT6\n",
              "1      70000    2          2         2  ...         0      3601         0      1820\n",
              "2     230000    2          1         2  ...     15339     14307     37292         0\n",
              "3      50000    1          2         2  ...      1000      1000      1000       716\n",
              "4      50000    1          1         2  ...         0      2225      1200         0\n",
              "\n",
              "[5 rows x 23 columns]"
            ]
          },
          "metadata": {
            "tags": []
          },
          "execution_count": 1444
        }
      ]
    },
    {
      "cell_type": "markdown",
      "metadata": {
        "id": "47xox6a689fO",
        "colab_type": "text"
      },
      "source": [
        "Como realizamos alterações com a quantidade de variáveis para manter somente as que concluimos como correlações positivas para o modelo, iremos manter somente as variáveis do dataset de treino e teste."
      ]
    },
    {
      "cell_type": "code",
      "metadata": {
        "id": "YA9nHKu-9lVX",
        "colab_type": "code",
        "colab": {
          "base_uri": "https://localhost:8080/",
          "height": 202
        },
        "outputId": "4496bda1-e9ed-4ca6-b488-7973bbb22696"
      },
      "source": [
        "#Eliminar primeira entrada e dar reset no index\n",
        "df_new.drop([0], inplace=True)\n",
        "df_new = df_new.reset_index(drop=True)\n",
        "df_new.head()"
      ],
      "execution_count": null,
      "outputs": [
        {
          "output_type": "execute_result",
          "data": {
            "text/html": [
              "<div>\n",
              "<style scoped>\n",
              "    .dataframe tbody tr th:only-of-type {\n",
              "        vertical-align: middle;\n",
              "    }\n",
              "\n",
              "    .dataframe tbody tr th {\n",
              "        vertical-align: top;\n",
              "    }\n",
              "\n",
              "    .dataframe thead th {\n",
              "        text-align: right;\n",
              "    }\n",
              "</style>\n",
              "<table border=\"1\" class=\"dataframe\">\n",
              "  <thead>\n",
              "    <tr style=\"text-align: right;\">\n",
              "      <th></th>\n",
              "      <th>X1</th>\n",
              "      <th>X2</th>\n",
              "      <th>X3</th>\n",
              "      <th>X4</th>\n",
              "      <th>X5</th>\n",
              "      <th>X6</th>\n",
              "      <th>X7</th>\n",
              "      <th>X8</th>\n",
              "      <th>X9</th>\n",
              "      <th>X10</th>\n",
              "      <th>X11</th>\n",
              "      <th>X12</th>\n",
              "      <th>X13</th>\n",
              "      <th>X14</th>\n",
              "      <th>X15</th>\n",
              "      <th>X16</th>\n",
              "      <th>X17</th>\n",
              "      <th>X18</th>\n",
              "      <th>X19</th>\n",
              "      <th>X20</th>\n",
              "      <th>X21</th>\n",
              "      <th>X22</th>\n",
              "      <th>X23</th>\n",
              "    </tr>\n",
              "  </thead>\n",
              "  <tbody>\n",
              "    <tr>\n",
              "      <th>0</th>\n",
              "      <td>70000</td>\n",
              "      <td>2</td>\n",
              "      <td>2</td>\n",
              "      <td>2</td>\n",
              "      <td>26</td>\n",
              "      <td>2</td>\n",
              "      <td>0</td>\n",
              "      <td>0</td>\n",
              "      <td>2</td>\n",
              "      <td>2</td>\n",
              "      <td>2</td>\n",
              "      <td>41087</td>\n",
              "      <td>42445</td>\n",
              "      <td>45020</td>\n",
              "      <td>44006</td>\n",
              "      <td>46905</td>\n",
              "      <td>46012</td>\n",
              "      <td>2007</td>\n",
              "      <td>3582</td>\n",
              "      <td>0</td>\n",
              "      <td>3601</td>\n",
              "      <td>0</td>\n",
              "      <td>1820</td>\n",
              "    </tr>\n",
              "    <tr>\n",
              "      <th>1</th>\n",
              "      <td>230000</td>\n",
              "      <td>2</td>\n",
              "      <td>1</td>\n",
              "      <td>2</td>\n",
              "      <td>27</td>\n",
              "      <td>-1</td>\n",
              "      <td>-1</td>\n",
              "      <td>-1</td>\n",
              "      <td>-1</td>\n",
              "      <td>-1</td>\n",
              "      <td>-1</td>\n",
              "      <td>16646</td>\n",
              "      <td>17265</td>\n",
              "      <td>13266</td>\n",
              "      <td>15339</td>\n",
              "      <td>14307</td>\n",
              "      <td>36923</td>\n",
              "      <td>17270</td>\n",
              "      <td>13281</td>\n",
              "      <td>15339</td>\n",
              "      <td>14307</td>\n",
              "      <td>37292</td>\n",
              "      <td>0</td>\n",
              "    </tr>\n",
              "    <tr>\n",
              "      <th>2</th>\n",
              "      <td>50000</td>\n",
              "      <td>1</td>\n",
              "      <td>2</td>\n",
              "      <td>2</td>\n",
              "      <td>33</td>\n",
              "      <td>2</td>\n",
              "      <td>0</td>\n",
              "      <td>0</td>\n",
              "      <td>0</td>\n",
              "      <td>0</td>\n",
              "      <td>0</td>\n",
              "      <td>30518</td>\n",
              "      <td>29618</td>\n",
              "      <td>22102</td>\n",
              "      <td>22734</td>\n",
              "      <td>23217</td>\n",
              "      <td>23680</td>\n",
              "      <td>1718</td>\n",
              "      <td>1500</td>\n",
              "      <td>1000</td>\n",
              "      <td>1000</td>\n",
              "      <td>1000</td>\n",
              "      <td>716</td>\n",
              "    </tr>\n",
              "    <tr>\n",
              "      <th>3</th>\n",
              "      <td>50000</td>\n",
              "      <td>1</td>\n",
              "      <td>1</td>\n",
              "      <td>2</td>\n",
              "      <td>29</td>\n",
              "      <td>2</td>\n",
              "      <td>2</td>\n",
              "      <td>2</td>\n",
              "      <td>2</td>\n",
              "      <td>2</td>\n",
              "      <td>2</td>\n",
              "      <td>24987</td>\n",
              "      <td>24300</td>\n",
              "      <td>26591</td>\n",
              "      <td>25865</td>\n",
              "      <td>27667</td>\n",
              "      <td>28264</td>\n",
              "      <td>0</td>\n",
              "      <td>2700</td>\n",
              "      <td>0</td>\n",
              "      <td>2225</td>\n",
              "      <td>1200</td>\n",
              "      <td>0</td>\n",
              "    </tr>\n",
              "    <tr>\n",
              "      <th>4</th>\n",
              "      <td>10000</td>\n",
              "      <td>1</td>\n",
              "      <td>2</td>\n",
              "      <td>1</td>\n",
              "      <td>56</td>\n",
              "      <td>2</td>\n",
              "      <td>2</td>\n",
              "      <td>2</td>\n",
              "      <td>0</td>\n",
              "      <td>0</td>\n",
              "      <td>0</td>\n",
              "      <td>2097</td>\n",
              "      <td>4193</td>\n",
              "      <td>3978</td>\n",
              "      <td>4062</td>\n",
              "      <td>4196</td>\n",
              "      <td>4326</td>\n",
              "      <td>2300</td>\n",
              "      <td>0</td>\n",
              "      <td>150</td>\n",
              "      <td>200</td>\n",
              "      <td>200</td>\n",
              "      <td>160</td>\n",
              "    </tr>\n",
              "  </tbody>\n",
              "</table>\n",
              "</div>"
            ],
            "text/plain": [
              "       X1 X2 X3 X4  X5  X6  X7  ...    X17    X18    X19    X20    X21    X22   X23\n",
              "0   70000  2  2  2  26   2   0  ...  46012   2007   3582      0   3601      0  1820\n",
              "1  230000  2  1  2  27  -1  -1  ...  36923  17270  13281  15339  14307  37292     0\n",
              "2   50000  1  2  2  33   2   0  ...  23680   1718   1500   1000   1000   1000   716\n",
              "3   50000  1  1  2  29   2   2  ...  28264      0   2700      0   2225   1200     0\n",
              "4   10000  1  2  1  56   2   2  ...   4326   2300      0    150    200    200   160\n",
              "\n",
              "[5 rows x 23 columns]"
            ]
          },
          "metadata": {
            "tags": []
          },
          "execution_count": 1445
        }
      ]
    },
    {
      "cell_type": "code",
      "metadata": {
        "id": "e2yNJRw9PO-j",
        "colab_type": "code",
        "colab": {
          "base_uri": "https://localhost:8080/",
          "height": 34
        },
        "outputId": "9acacc31-46bd-4c9c-dcb7-9277b809ccf9"
      },
      "source": [
        "#Quantidade de entradas do dataset\n",
        "df_new.shape"
      ],
      "execution_count": null,
      "outputs": [
        {
          "output_type": "execute_result",
          "data": {
            "text/plain": [
              "(2723, 23)"
            ]
          },
          "metadata": {
            "tags": []
          },
          "execution_count": 1446
        }
      ]
    },
    {
      "cell_type": "code",
      "metadata": {
        "id": "sjgzW-2bDG-e",
        "colab_type": "code",
        "colab": {}
      },
      "source": [
        "#Alterar variáveis para tipo int\n",
        "df_new = df_new.apply(pd.to_numeric)"
      ],
      "execution_count": null,
      "outputs": []
    },
    {
      "cell_type": "code",
      "metadata": {
        "id": "CAgwzpmJ9Y0S",
        "colab_type": "code",
        "colab": {}
      },
      "source": [
        "#Atribuir a outro dataset as variáveis que não utilizamos no modelo de machine learning\n",
        "df_new2 = df_new.copy()"
      ],
      "execution_count": null,
      "outputs": []
    },
    {
      "cell_type": "code",
      "metadata": {
        "id": "8ytcB4x8AdCJ",
        "colab_type": "code",
        "colab": {}
      },
      "source": [
        "#Selecionar apenas variáveis que utilizamos no dataset \"df\"\n",
        "df_new = df_new[['X6', 'X7', 'X8', 'X9', 'X10', 'X11', 'X12', 'X13', 'X14', 'X15', 'X16',\n",
        "       'X17']]"
      ],
      "execution_count": null,
      "outputs": []
    },
    {
      "cell_type": "code",
      "metadata": {
        "id": "qoqIIMP09s1j",
        "colab_type": "code",
        "colab": {
          "base_uri": "https://localhost:8080/",
          "height": 242
        },
        "outputId": "26d79fcf-762b-463a-d336-e86223d6a17e"
      },
      "source": [
        "#Verificar se há valores nulos no dataset\n",
        "df_new.isnull().sum()"
      ],
      "execution_count": null,
      "outputs": [
        {
          "output_type": "execute_result",
          "data": {
            "text/plain": [
              "X6     0\n",
              "X7     0\n",
              "X8     0\n",
              "X9     0\n",
              "X10    0\n",
              "X11    0\n",
              "X12    0\n",
              "X13    0\n",
              "X14    0\n",
              "X15    0\n",
              "X16    0\n",
              "X17    0\n",
              "dtype: int64"
            ]
          },
          "metadata": {
            "tags": []
          },
          "execution_count": 1450
        }
      ]
    },
    {
      "cell_type": "markdown",
      "metadata": {
        "id": "arsWI9mD99F_",
        "colab_type": "text"
      },
      "source": [
        "Após realizar as alterações no dataset, e constatar que não temos valores nulos, iremos rodar o algoritimo com os dados para realizar as previsões."
      ]
    },
    {
      "cell_type": "code",
      "metadata": {
        "id": "l6-l3Rbr-WAp",
        "colab_type": "code",
        "colab": {}
      },
      "source": [
        "#Realizar previsão com os novos dados\n",
        "y_new = model.predict(df_new)"
      ],
      "execution_count": null,
      "outputs": []
    },
    {
      "cell_type": "code",
      "metadata": {
        "id": "IOP7w2wH-c9k",
        "colab_type": "code",
        "colab": {}
      },
      "source": [
        "#Atribuir variável alvo ao novo dataset\n",
        "df_new['Y'] = y_new\n",
        "\n",
        "#Atribuir variáveis que foram retiradas ao rodar o modelo preditivo\n",
        "df_new['X1'] = df_new2.X1\n",
        "df_new['X2'] = df_new2.X2\n",
        "df_new['X3'] = df_new2.X3\n",
        "df_new['X4'] = df_new2.X4\n",
        "df_new['X5'] = df_new2.X5\n",
        "df_new['X18'] = df_new2.X18\n",
        "df_new['X19'] = df_new2.X19\n",
        "df_new['X20'] = df_new2.X20\n",
        "df_new['X21'] = df_new2.X21\n",
        "df_new['X22'] = df_new2.X22\n",
        "df_new['X23'] = df_new2.X23;"
      ],
      "execution_count": null,
      "outputs": []
    },
    {
      "cell_type": "code",
      "metadata": {
        "id": "OtVWDJC2-hsn",
        "colab_type": "code",
        "colab": {
          "base_uri": "https://localhost:8080/",
          "height": 202
        },
        "outputId": "2b193293-a01d-4a45-f89f-1371a50ad57e"
      },
      "source": [
        "#Ver primeiras entradas do novo dataset\n",
        "df_new.head()"
      ],
      "execution_count": null,
      "outputs": [
        {
          "output_type": "execute_result",
          "data": {
            "text/html": [
              "<div>\n",
              "<style scoped>\n",
              "    .dataframe tbody tr th:only-of-type {\n",
              "        vertical-align: middle;\n",
              "    }\n",
              "\n",
              "    .dataframe tbody tr th {\n",
              "        vertical-align: top;\n",
              "    }\n",
              "\n",
              "    .dataframe thead th {\n",
              "        text-align: right;\n",
              "    }\n",
              "</style>\n",
              "<table border=\"1\" class=\"dataframe\">\n",
              "  <thead>\n",
              "    <tr style=\"text-align: right;\">\n",
              "      <th></th>\n",
              "      <th>X6</th>\n",
              "      <th>X7</th>\n",
              "      <th>X8</th>\n",
              "      <th>X9</th>\n",
              "      <th>X10</th>\n",
              "      <th>X11</th>\n",
              "      <th>X12</th>\n",
              "      <th>X13</th>\n",
              "      <th>X14</th>\n",
              "      <th>X15</th>\n",
              "      <th>X16</th>\n",
              "      <th>X17</th>\n",
              "      <th>Y</th>\n",
              "      <th>X1</th>\n",
              "      <th>X2</th>\n",
              "      <th>X3</th>\n",
              "      <th>X4</th>\n",
              "      <th>X5</th>\n",
              "      <th>X18</th>\n",
              "      <th>X19</th>\n",
              "      <th>X20</th>\n",
              "      <th>X21</th>\n",
              "      <th>X22</th>\n",
              "      <th>X23</th>\n",
              "    </tr>\n",
              "  </thead>\n",
              "  <tbody>\n",
              "    <tr>\n",
              "      <th>0</th>\n",
              "      <td>2</td>\n",
              "      <td>0</td>\n",
              "      <td>0</td>\n",
              "      <td>2</td>\n",
              "      <td>2</td>\n",
              "      <td>2</td>\n",
              "      <td>41087</td>\n",
              "      <td>42445</td>\n",
              "      <td>45020</td>\n",
              "      <td>44006</td>\n",
              "      <td>46905</td>\n",
              "      <td>46012</td>\n",
              "      <td>1</td>\n",
              "      <td>70000</td>\n",
              "      <td>2</td>\n",
              "      <td>2</td>\n",
              "      <td>2</td>\n",
              "      <td>26</td>\n",
              "      <td>2007</td>\n",
              "      <td>3582</td>\n",
              "      <td>0</td>\n",
              "      <td>3601</td>\n",
              "      <td>0</td>\n",
              "      <td>1820</td>\n",
              "    </tr>\n",
              "    <tr>\n",
              "      <th>1</th>\n",
              "      <td>-1</td>\n",
              "      <td>-1</td>\n",
              "      <td>-1</td>\n",
              "      <td>-1</td>\n",
              "      <td>-1</td>\n",
              "      <td>-1</td>\n",
              "      <td>16646</td>\n",
              "      <td>17265</td>\n",
              "      <td>13266</td>\n",
              "      <td>15339</td>\n",
              "      <td>14307</td>\n",
              "      <td>36923</td>\n",
              "      <td>0</td>\n",
              "      <td>230000</td>\n",
              "      <td>2</td>\n",
              "      <td>1</td>\n",
              "      <td>2</td>\n",
              "      <td>27</td>\n",
              "      <td>17270</td>\n",
              "      <td>13281</td>\n",
              "      <td>15339</td>\n",
              "      <td>14307</td>\n",
              "      <td>37292</td>\n",
              "      <td>0</td>\n",
              "    </tr>\n",
              "    <tr>\n",
              "      <th>2</th>\n",
              "      <td>2</td>\n",
              "      <td>0</td>\n",
              "      <td>0</td>\n",
              "      <td>0</td>\n",
              "      <td>0</td>\n",
              "      <td>0</td>\n",
              "      <td>30518</td>\n",
              "      <td>29618</td>\n",
              "      <td>22102</td>\n",
              "      <td>22734</td>\n",
              "      <td>23217</td>\n",
              "      <td>23680</td>\n",
              "      <td>1</td>\n",
              "      <td>50000</td>\n",
              "      <td>1</td>\n",
              "      <td>2</td>\n",
              "      <td>2</td>\n",
              "      <td>33</td>\n",
              "      <td>1718</td>\n",
              "      <td>1500</td>\n",
              "      <td>1000</td>\n",
              "      <td>1000</td>\n",
              "      <td>1000</td>\n",
              "      <td>716</td>\n",
              "    </tr>\n",
              "    <tr>\n",
              "      <th>3</th>\n",
              "      <td>2</td>\n",
              "      <td>2</td>\n",
              "      <td>2</td>\n",
              "      <td>2</td>\n",
              "      <td>2</td>\n",
              "      <td>2</td>\n",
              "      <td>24987</td>\n",
              "      <td>24300</td>\n",
              "      <td>26591</td>\n",
              "      <td>25865</td>\n",
              "      <td>27667</td>\n",
              "      <td>28264</td>\n",
              "      <td>1</td>\n",
              "      <td>50000</td>\n",
              "      <td>1</td>\n",
              "      <td>1</td>\n",
              "      <td>2</td>\n",
              "      <td>29</td>\n",
              "      <td>0</td>\n",
              "      <td>2700</td>\n",
              "      <td>0</td>\n",
              "      <td>2225</td>\n",
              "      <td>1200</td>\n",
              "      <td>0</td>\n",
              "    </tr>\n",
              "    <tr>\n",
              "      <th>4</th>\n",
              "      <td>2</td>\n",
              "      <td>2</td>\n",
              "      <td>2</td>\n",
              "      <td>0</td>\n",
              "      <td>0</td>\n",
              "      <td>0</td>\n",
              "      <td>2097</td>\n",
              "      <td>4193</td>\n",
              "      <td>3978</td>\n",
              "      <td>4062</td>\n",
              "      <td>4196</td>\n",
              "      <td>4326</td>\n",
              "      <td>1</td>\n",
              "      <td>10000</td>\n",
              "      <td>1</td>\n",
              "      <td>2</td>\n",
              "      <td>1</td>\n",
              "      <td>56</td>\n",
              "      <td>2300</td>\n",
              "      <td>0</td>\n",
              "      <td>150</td>\n",
              "      <td>200</td>\n",
              "      <td>200</td>\n",
              "      <td>160</td>\n",
              "    </tr>\n",
              "  </tbody>\n",
              "</table>\n",
              "</div>"
            ],
            "text/plain": [
              "   X6  X7  X8  X9  X10  X11    X12  ...  X5    X18    X19    X20    X21    X22   X23\n",
              "0   2   0   0   2    2    2  41087  ...  26   2007   3582      0   3601      0  1820\n",
              "1  -1  -1  -1  -1   -1   -1  16646  ...  27  17270  13281  15339  14307  37292     0\n",
              "2   2   0   0   0    0    0  30518  ...  33   1718   1500   1000   1000   1000   716\n",
              "3   2   2   2   2    2    2  24987  ...  29      0   2700      0   2225   1200     0\n",
              "4   2   2   2   0    0    0   2097  ...  56   2300      0    150    200    200   160\n",
              "\n",
              "[5 rows x 24 columns]"
            ]
          },
          "metadata": {
            "tags": []
          },
          "execution_count": 1453
        }
      ]
    },
    {
      "cell_type": "markdown",
      "metadata": {
        "id": "-7TEoWlxDnPE",
        "colab_type": "text"
      },
      "source": [
        "Após criar o modelo de machine learning e rodar com novos dados, iremos ao segundo questionamento:\n",
        "\n",
        "2.2 - Se você só pudesse enviar comunicação para 10% dos clientes devivo ao alto custo, para quais clientes abaixo você enviaria? Explique sua resposta. Utilizar os clientes da base \"questao33_creditcard_clientes.csv\""
      ]
    },
    {
      "cell_type": "markdown",
      "metadata": {
        "id": "BFQKdQL2FV82",
        "colab_type": "text"
      },
      "source": [
        "De acordo com o questionamento e a situação, inicialmente buscaremos os clientes que algoritimo identificou que não irá realizar o pagamento:"
      ]
    },
    {
      "cell_type": "code",
      "metadata": {
        "id": "bSI18EJeKiMo",
        "colab_type": "code",
        "colab": {
          "base_uri": "https://localhost:8080/",
          "height": 365
        },
        "outputId": "71f7a775-faa5-4199-d057-c6ea09797fdb"
      },
      "source": [
        "#Informações do novo conjunto de dados\n",
        "print(\"Pagaria fatura?\")\n",
        "print(\"1 - Sim: {:.2%} \\n2 - Não: {:.2%}\\n\\n\".format(df_new[df_new.Y ==1].shape[0] / df_new.Y.shape[0] , 1 - (df_new[df_new.Y ==1].shape[0] / (df_new.Y.shape[0]))))\n",
        "\n",
        "#Gerar gráfico com balanceamento dos dados para transações Normais ou Fraudes\n",
        "sns.countplot('Y', data=df_new);"
      ],
      "execution_count": null,
      "outputs": [
        {
          "output_type": "stream",
          "text": [
            "Pagaria fatura?\n",
            "1 - Sim: 22.95% \n",
            "2 - Não: 77.05%\n",
            "\n",
            "\n"
          ],
          "name": "stdout"
        },
        {
          "output_type": "display_data",
          "data": {
            "image/png": "[encoded data removed]",
            "text/plain": [
              "<Figure size 432x288 with 1 Axes>"
            ]
          },
          "metadata": {
            "tags": [],
            "needs_background": "light"
          }
        }
      ]
    },
    {
      "cell_type": "code",
      "metadata": {
        "id": "yPcz4UmnKTWu",
        "colab_type": "code",
        "colab": {
          "base_uri": "https://localhost:8080/",
          "height": 34
        },
        "outputId": "3ee12956-744d-421b-b868-3f3ce1432e3b"
      },
      "source": [
        "#Selecionar somente entradas que o algoritimo identificou como df_new[\"Y\"] == 0\n",
        "df_q2 = df_new.loc[df_new[\"Y\"] == 0]\n",
        "\n",
        "#Quantidade de clientes que são classificados como possíveis devedores\n",
        "clientes = df_q2.shape[0]\n",
        "\n",
        "print(clientes)"
      ],
      "execution_count": null,
      "outputs": [
        {
          "output_type": "stream",
          "text": [
            "2098\n"
          ],
          "name": "stdout"
        }
      ]
    },
    {
      "cell_type": "markdown",
      "metadata": {
        "id": "CvqDMwzFQ-so",
        "colab_type": "text"
      },
      "source": [
        "De acordo com a quantidade de clientes identificados, 10% significa 210 clientes, buscaremos os mesmos a serem comunicados de acordo com suas Classes, como Gênero, Educação, Estado Civil e Idade."
      ]
    },
    {
      "cell_type": "code",
      "metadata": {
        "id": "K-epflg3K4oc",
        "colab_type": "code",
        "colab": {
          "base_uri": "https://localhost:8080/",
          "height": 34
        },
        "outputId": "e22d4aca-fa12-4b31-cf56-899fc2d5ff0d"
      },
      "source": [
        "print(\"Cliente que possívelmente não vão realizar pagamentos: {:.2%}\".format(df_q2.shape[0] / df_new.shape[0]))"
      ],
      "execution_count": null,
      "outputs": [
        {
          "output_type": "stream",
          "text": [
            "Cliente que possívelmente não vão realizar pagamentos: 77.05%\n"
          ],
          "name": "stdout"
        }
      ]
    },
    {
      "cell_type": "code",
      "metadata": {
        "id": "PqfI3KFHNegE",
        "colab_type": "code",
        "colab": {
          "base_uri": "https://localhost:8080/",
          "height": 69
        },
        "outputId": "99a156d9-ca8f-40e7-d949-de48f5c0f985"
      },
      "source": [
        "#Analisar quantidade de possíveis devedores por Gênero:\n",
        "df_q2['X2'].value_counts()"
      ],
      "execution_count": null,
      "outputs": [
        {
          "output_type": "execute_result",
          "data": {
            "text/plain": [
              "2    1320\n",
              "1     778\n",
              "Name: X2, dtype: int64"
            ]
          },
          "metadata": {
            "tags": []
          },
          "execution_count": 1457
        }
      ]
    },
    {
      "cell_type": "code",
      "metadata": {
        "id": "ONBBcp0EN1OG",
        "colab_type": "code",
        "colab": {
          "base_uri": "https://localhost:8080/",
          "height": 34
        },
        "outputId": "f513b617-7396-42ce-8f57-425cc59a9fa2"
      },
      "source": [
        "print(\"{} dos clientes são do sexo Feminino\".format(df_q2['X2'].value_counts()[2]))"
      ],
      "execution_count": null,
      "outputs": [
        {
          "output_type": "stream",
          "text": [
            "1320 dos clientes são do sexo Feminino\n"
          ],
          "name": "stdout"
        }
      ]
    },
    {
      "cell_type": "code",
      "metadata": {
        "id": "QhphkaM-PxSz",
        "colab_type": "code",
        "colab": {}
      },
      "source": [
        "#Selecionar informações no dataset onde informe somente clientes do sexo feminino\n",
        "df_q2 = df_q2.loc[df_q2[\"X2\"] == 2]"
      ],
      "execution_count": null,
      "outputs": []
    },
    {
      "cell_type": "code",
      "metadata": {
        "id": "yOeF1sX4OttH",
        "colab_type": "code",
        "colab": {
          "base_uri": "https://localhost:8080/",
          "height": 138
        },
        "outputId": "7933ad1c-7bc1-4bd4-94c2-c0388d20f516"
      },
      "source": [
        "#Analisar quantidade de possíveis devedores do sexo feminino de acordo com sua escolaridade:\n",
        "df_q2['X3'].value_counts()"
      ],
      "execution_count": null,
      "outputs": [
        {
          "output_type": "execute_result",
          "data": {
            "text/plain": [
              "2    619\n",
              "1    478\n",
              "3    200\n",
              "5     12\n",
              "4      8\n",
              "6      3\n",
              "Name: X3, dtype: int64"
            ]
          },
          "metadata": {
            "tags": []
          },
          "execution_count": 1408
        }
      ]
    },
    {
      "cell_type": "code",
      "metadata": {
        "id": "UdW9A_mGSORl",
        "colab_type": "code",
        "colab": {
          "base_uri": "https://localhost:8080/",
          "height": 34
        },
        "outputId": "7873a2ee-90fc-4b0c-c684-a3d11a72ed17"
      },
      "source": [
        "print(\"{} dos clientes são do sexo Feminino e possuem como grau de escolaridade: 2 - Universidade\".format((df_q2['X3'].value_counts()[2])))"
      ],
      "execution_count": null,
      "outputs": [
        {
          "output_type": "stream",
          "text": [
            "619 dos clientes são do sexo Feminino e possuem como grau de escolaridade: 2 - Universidade\n"
          ],
          "name": "stdout"
        }
      ]
    },
    {
      "cell_type": "code",
      "metadata": {
        "id": "5jbROrlgSzVV",
        "colab_type": "code",
        "colab": {}
      },
      "source": [
        "#Selecionar informações no dataset onde informe somente clientes que possuem grau de escolaridade universidade\n",
        "df_q2 = df_q2.loc[df_q2[\"X3\"] == 2]"
      ],
      "execution_count": null,
      "outputs": []
    },
    {
      "cell_type": "code",
      "metadata": {
        "id": "rgyYTlbCS-FK",
        "colab_type": "code",
        "colab": {
          "base_uri": "https://localhost:8080/",
          "height": 104
        },
        "outputId": "78f14070-d7c9-4223-a7e9-15d1f8f1ca6a"
      },
      "source": [
        "#Analisar quantidade de possíveis devedores do sexo feminino de acordo com sua escolaridade:\n",
        "df_q2['X4'].value_counts()"
      ],
      "execution_count": null,
      "outputs": [
        {
          "output_type": "execute_result",
          "data": {
            "text/plain": [
              "1    333\n",
              "2    282\n",
              "3      3\n",
              "0      1\n",
              "Name: X4, dtype: int64"
            ]
          },
          "metadata": {
            "tags": []
          },
          "execution_count": 1411
        }
      ]
    },
    {
      "cell_type": "code",
      "metadata": {
        "id": "VqIUQe2QTDR1",
        "colab_type": "code",
        "colab": {
          "base_uri": "https://localhost:8080/",
          "height": 34
        },
        "outputId": "6cd11929-11fd-4563-bf9d-e3d7da537d5b"
      },
      "source": [
        "print(\"{} dos clientes são do sexo feminino, com grau de escolaridade 2 - universidade e casadas\".format(df_q2['X4'].value_counts()[2]))"
      ],
      "execution_count": null,
      "outputs": [
        {
          "output_type": "stream",
          "text": [
            "282 dos clientes são do sexo feminino, com grau de escolaridade 2 - universidade e casadas\n"
          ],
          "name": "stdout"
        }
      ]
    },
    {
      "cell_type": "code",
      "metadata": {
        "id": "_UEwLwtrU9EU",
        "colab_type": "code",
        "colab": {}
      },
      "source": [
        "#Selecionar informações no dataset onde informe somente clientes que são casadas\n",
        "df_q2 = df_q2.loc[df_q2[\"X4\"] == 1]"
      ],
      "execution_count": null,
      "outputs": []
    },
    {
      "cell_type": "code",
      "metadata": {
        "id": "Jo5ds1M9VHeN",
        "colab_type": "code",
        "colab": {
          "base_uri": "https://localhost:8080/",
          "height": 34
        },
        "outputId": "a4e172c1-b79e-443c-cea4-a6638792ea41"
      },
      "source": [
        "#Analisar a idade dos clientes\n",
        "df_q2.loc[df_q2['X5'] > 33].shape"
      ],
      "execution_count": null,
      "outputs": [
        {
          "output_type": "execute_result",
          "data": {
            "text/plain": [
              "(211, 24)"
            ]
          },
          "metadata": {
            "tags": []
          },
          "execution_count": 1441
        }
      ]
    },
    {
      "cell_type": "markdown",
      "metadata": {
        "id": "eEc0BJq6WW8i",
        "colab_type": "text"
      },
      "source": [
        "Após realizar algumas tentativas de encontrar a quantidade ideal de clientes por idade, os clientes que devem ser comunicados são:\n",
        "\n",
        "- Clientes que o algoritimo realizou a previsão como \"Não irá pagar\"\n",
        "- Todas do sexo feminino\n",
        "- Todos com grau de escolaridade: 2 - Universidade\n",
        "- Todas casadas\n",
        "- Acima de 33 anos\n",
        "\n",
        "Que totalizam 211 clientes, que representa 10,05% dos 2098 clientes que o algoritimo classificou como \"Não irá realizar o pagamento\"."
      ]
    }
  ]
}